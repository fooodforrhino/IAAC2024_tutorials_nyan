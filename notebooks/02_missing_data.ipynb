{
 "cells": [
  {
   "cell_type": "markdown",
   "metadata": {},
   "source": [
    "<a href=\"https://colab.research.google.com/github/STASYA00/IAAC2024_tutorials/blob/main/notebooks/02_missing_data.ipynb\" target=\"_parent\"><img src=\"https://colab.research.google.com/assets/colab-badge.svg\" alt=\"Open In Colab\"/></a>"
   ]
  },
  {
   "cell_type": "markdown",
   "metadata": {},
   "source": [
    "### Data"
   ]
  },
  {
   "cell_type": "markdown",
   "metadata": {},
   "source": [
    "⚠️ **NOTE:** Kaggle files have already been uploaded to the repo. You find them in folder `kaggle_data`´\n",
    "\n",
    "If you for any reason need to download data from kaggle, instructions are in one of the [optional notebooks](./88_kaggle_data.ipynb) : <a href=\"https://colab.research.google.com/github/STASYA00/IAAC2024_tutorials/blob/main/notebooks/88_kaggle_data.ipynb\" target=\"_parent\"><img src=\"https://colab.research.google.com/assets/colab-badge.svg\" alt=\"Open In Colab\"/></a>"
   ]
  },
  {
   "cell_type": "code",
   "execution_count": null,
   "metadata": {},
   "outputs": [],
   "source": [
    "!git clone https://github.com/STASYA00/IAAC2024_tutorials\n",
    "%cd IAAC2024_tutorials/notebooks"
   ]
  },
  {
   "cell_type": "code",
   "execution_count": 2,
   "metadata": {},
   "outputs": [],
   "source": [
    "# importing the necessary packages\n",
    "\n",
    "from matplotlib import pyplot as plt\n",
    "import pandas as pd\n",
    "import seaborn as sns\n"
   ]
  },
  {
   "cell_type": "markdown",
   "metadata": {},
   "source": [
    "## 🏡 Buildings' Efficiency - Missing data"
   ]
  },
  {
   "cell_type": "markdown",
   "metadata": {},
   "source": [
    "### The why of missing values"
   ]
  },
  {
   "cell_type": "markdown",
   "metadata": {},
   "source": [
    "There are several reasons for having missing values, some of which are:\n",
    "* equipment failure (e.g. GPS sensors), missing cells in manual data entry, censored/anonymous data\n",
    "* unfilled optional values (e.g. \"anything else you would like to add\" - question in a survey)\n",
    "* data was not originally collected (two datasets were merged, one had \"year\" records and another one didn't)\n",
    "* and so on\n",
    "\n",
    "For us it is important to understand why the values might be missing, as it gives us an understanding of how to treat them. There are several strategies:\n",
    "* Remove rows or columns with missing values (used when there are many missing values along one axis)\n",
    "* Assign an arbitrary value, like 18783 or 0 as to say \"this value is missing\" (used when we can not remove records from the db)\n",
    "* Fill in missing values using some logic (e.g. assuming the number of occupants in a building based on similar buildings around or getting the year it was built in from another data source).\n",
    "    "
   ]
  },
  {
   "cell_type": "markdown",
   "metadata": {},
   "source": [
    "**How to find missing values:**\n",
    "\n",
    "[Click>>](https://www.google.com/search?q=pandas+find+missing+values&oq=pandas+find+missing+values&gs_lcrp=EgZjaHJvbWUyBggAEEUYOTIGCAEQLhhA0gEINTg2N2owajGoAgCwAgA&sourceid=chrome&ie=UTF-8)"
   ]
  },
  {
   "cell_type": "markdown",
   "metadata": {},
   "source": [
    "One of the methods is to check for each cell whether it is a NaN value and look at the values count that we are already familiar with:"
   ]
  },
  {
   "cell_type": "code",
   "execution_count": 3,
   "metadata": {},
   "outputs": [
    {
     "data": {
      "text/html": [
       "<div>\n",
       "<style scoped>\n",
       "    .dataframe tbody tr th:only-of-type {\n",
       "        vertical-align: middle;\n",
       "    }\n",
       "\n",
       "    .dataframe tbody tr th {\n",
       "        vertical-align: top;\n",
       "    }\n",
       "\n",
       "    .dataframe thead th {\n",
       "        text-align: right;\n",
       "    }\n",
       "</style>\n",
       "<table border=\"1\" class=\"dataframe\">\n",
       "  <thead>\n",
       "    <tr style=\"text-align: right;\">\n",
       "      <th></th>\n",
       "      <th>building_id</th>\n",
       "      <th>site_id</th>\n",
       "      <th>primaryspaceusage</th>\n",
       "      <th>sub_primaryspaceusage</th>\n",
       "      <th>sqm</th>\n",
       "      <th>timezone</th>\n",
       "      <th>electricity</th>\n",
       "      <th>hotwater</th>\n",
       "      <th>water</th>\n",
       "      <th>gas</th>\n",
       "      <th>industry</th>\n",
       "      <th>subindustry</th>\n",
       "      <th>heatingtype</th>\n",
       "      <th>yearbuilt</th>\n",
       "      <th>numberoffloors</th>\n",
       "      <th>occupants</th>\n",
       "      <th>rating</th>\n",
       "    </tr>\n",
       "  </thead>\n",
       "  <tbody>\n",
       "    <tr>\n",
       "      <th>136</th>\n",
       "      <td>432</td>\n",
       "      <td>3</td>\n",
       "      <td>0</td>\n",
       "      <td>2</td>\n",
       "      <td>4703.0</td>\n",
       "      <td>1</td>\n",
       "      <td>0</td>\n",
       "      <td>0</td>\n",
       "      <td>0</td>\n",
       "      <td>0</td>\n",
       "      <td>0</td>\n",
       "      <td>2</td>\n",
       "      <td>11</td>\n",
       "      <td>NaN</td>\n",
       "      <td>5.0</td>\n",
       "      <td>NaN</td>\n",
       "      <td>1.0</td>\n",
       "    </tr>\n",
       "    <tr>\n",
       "      <th>137</th>\n",
       "      <td>416</td>\n",
       "      <td>3</td>\n",
       "      <td>0</td>\n",
       "      <td>2</td>\n",
       "      <td>499.3</td>\n",
       "      <td>1</td>\n",
       "      <td>0</td>\n",
       "      <td>1</td>\n",
       "      <td>0</td>\n",
       "      <td>0</td>\n",
       "      <td>0</td>\n",
       "      <td>2</td>\n",
       "      <td>7</td>\n",
       "      <td>NaN</td>\n",
       "      <td>4.0</td>\n",
       "      <td>NaN</td>\n",
       "      <td>0.0</td>\n",
       "    </tr>\n",
       "    <tr>\n",
       "      <th>138</th>\n",
       "      <td>436</td>\n",
       "      <td>3</td>\n",
       "      <td>0</td>\n",
       "      <td>2</td>\n",
       "      <td>9061.0</td>\n",
       "      <td>1</td>\n",
       "      <td>0</td>\n",
       "      <td>0</td>\n",
       "      <td>0</td>\n",
       "      <td>0</td>\n",
       "      <td>0</td>\n",
       "      <td>2</td>\n",
       "      <td>7</td>\n",
       "      <td>2005.0</td>\n",
       "      <td>10.0</td>\n",
       "      <td>NaN</td>\n",
       "      <td>2.0</td>\n",
       "    </tr>\n",
       "    <tr>\n",
       "      <th>139</th>\n",
       "      <td>441</td>\n",
       "      <td>3</td>\n",
       "      <td>0</td>\n",
       "      <td>3</td>\n",
       "      <td>7579.0</td>\n",
       "      <td>1</td>\n",
       "      <td>0</td>\n",
       "      <td>0</td>\n",
       "      <td>0</td>\n",
       "      <td>0</td>\n",
       "      <td>0</td>\n",
       "      <td>2</td>\n",
       "      <td>7</td>\n",
       "      <td>1913.0</td>\n",
       "      <td>5.0</td>\n",
       "      <td>NaN</td>\n",
       "      <td>0.0</td>\n",
       "    </tr>\n",
       "    <tr>\n",
       "      <th>140</th>\n",
       "      <td>442</td>\n",
       "      <td>3</td>\n",
       "      <td>0</td>\n",
       "      <td>3</td>\n",
       "      <td>5295.0</td>\n",
       "      <td>1</td>\n",
       "      <td>0</td>\n",
       "      <td>1</td>\n",
       "      <td>0</td>\n",
       "      <td>0</td>\n",
       "      <td>0</td>\n",
       "      <td>2</td>\n",
       "      <td>7</td>\n",
       "      <td>1953.0</td>\n",
       "      <td>6.0</td>\n",
       "      <td>NaN</td>\n",
       "      <td>1.0</td>\n",
       "    </tr>\n",
       "  </tbody>\n",
       "</table>\n",
       "</div>"
      ],
      "text/plain": [
       "     building_id  site_id  primaryspaceusage  sub_primaryspaceusage     sqm  \\\n",
       "136          432        3                  0                      2  4703.0   \n",
       "137          416        3                  0                      2   499.3   \n",
       "138          436        3                  0                      2  9061.0   \n",
       "139          441        3                  0                      3  7579.0   \n",
       "140          442        3                  0                      3  5295.0   \n",
       "\n",
       "     timezone  electricity  hotwater  water  gas  industry  subindustry  \\\n",
       "136         1            0         0      0    0         0            2   \n",
       "137         1            0         1      0    0         0            2   \n",
       "138         1            0         0      0    0         0            2   \n",
       "139         1            0         0      0    0         0            2   \n",
       "140         1            0         1      0    0         0            2   \n",
       "\n",
       "     heatingtype  yearbuilt  numberoffloors  occupants  rating  \n",
       "136           11        NaN             5.0        NaN     1.0  \n",
       "137            7        NaN             4.0        NaN     0.0  \n",
       "138            7     2005.0            10.0        NaN     2.0  \n",
       "139            7     1913.0             5.0        NaN     0.0  \n",
       "140            7     1953.0             6.0        NaN     1.0  "
      ]
     },
     "execution_count": 3,
     "metadata": {},
     "output_type": "execute_result"
    }
   ],
   "source": [
    "metadata = pd.read_csv(\"../kaggle_data/tutorial_results/01_metadata.csv\", index_col=0)\n",
    "metadata.head()"
   ]
  },
  {
   "cell_type": "code",
   "execution_count": 4,
   "metadata": {},
   "outputs": [
    {
     "data": {
      "text/html": [
       "<div>\n",
       "<style scoped>\n",
       "    .dataframe tbody tr th:only-of-type {\n",
       "        vertical-align: middle;\n",
       "    }\n",
       "\n",
       "    .dataframe tbody tr th {\n",
       "        vertical-align: top;\n",
       "    }\n",
       "\n",
       "    .dataframe thead th {\n",
       "        text-align: right;\n",
       "    }\n",
       "</style>\n",
       "<table border=\"1\" class=\"dataframe\">\n",
       "  <thead>\n",
       "    <tr style=\"text-align: right;\">\n",
       "      <th></th>\n",
       "      <th>building_id</th>\n",
       "      <th>site_id</th>\n",
       "      <th>primaryspaceusage</th>\n",
       "      <th>sub_primaryspaceusage</th>\n",
       "      <th>sqm</th>\n",
       "      <th>timezone</th>\n",
       "      <th>electricity</th>\n",
       "      <th>hotwater</th>\n",
       "      <th>water</th>\n",
       "      <th>gas</th>\n",
       "      <th>industry</th>\n",
       "      <th>subindustry</th>\n",
       "      <th>heatingtype</th>\n",
       "      <th>yearbuilt</th>\n",
       "      <th>numberoffloors</th>\n",
       "      <th>occupants</th>\n",
       "      <th>rating</th>\n",
       "    </tr>\n",
       "  </thead>\n",
       "  <tbody>\n",
       "    <tr>\n",
       "      <th>136</th>\n",
       "      <td>False</td>\n",
       "      <td>False</td>\n",
       "      <td>False</td>\n",
       "      <td>False</td>\n",
       "      <td>False</td>\n",
       "      <td>False</td>\n",
       "      <td>False</td>\n",
       "      <td>False</td>\n",
       "      <td>False</td>\n",
       "      <td>False</td>\n",
       "      <td>False</td>\n",
       "      <td>False</td>\n",
       "      <td>False</td>\n",
       "      <td>True</td>\n",
       "      <td>False</td>\n",
       "      <td>True</td>\n",
       "      <td>False</td>\n",
       "    </tr>\n",
       "    <tr>\n",
       "      <th>137</th>\n",
       "      <td>False</td>\n",
       "      <td>False</td>\n",
       "      <td>False</td>\n",
       "      <td>False</td>\n",
       "      <td>False</td>\n",
       "      <td>False</td>\n",
       "      <td>False</td>\n",
       "      <td>False</td>\n",
       "      <td>False</td>\n",
       "      <td>False</td>\n",
       "      <td>False</td>\n",
       "      <td>False</td>\n",
       "      <td>False</td>\n",
       "      <td>True</td>\n",
       "      <td>False</td>\n",
       "      <td>True</td>\n",
       "      <td>False</td>\n",
       "    </tr>\n",
       "    <tr>\n",
       "      <th>138</th>\n",
       "      <td>False</td>\n",
       "      <td>False</td>\n",
       "      <td>False</td>\n",
       "      <td>False</td>\n",
       "      <td>False</td>\n",
       "      <td>False</td>\n",
       "      <td>False</td>\n",
       "      <td>False</td>\n",
       "      <td>False</td>\n",
       "      <td>False</td>\n",
       "      <td>False</td>\n",
       "      <td>False</td>\n",
       "      <td>False</td>\n",
       "      <td>False</td>\n",
       "      <td>False</td>\n",
       "      <td>True</td>\n",
       "      <td>False</td>\n",
       "    </tr>\n",
       "    <tr>\n",
       "      <th>139</th>\n",
       "      <td>False</td>\n",
       "      <td>False</td>\n",
       "      <td>False</td>\n",
       "      <td>False</td>\n",
       "      <td>False</td>\n",
       "      <td>False</td>\n",
       "      <td>False</td>\n",
       "      <td>False</td>\n",
       "      <td>False</td>\n",
       "      <td>False</td>\n",
       "      <td>False</td>\n",
       "      <td>False</td>\n",
       "      <td>False</td>\n",
       "      <td>False</td>\n",
       "      <td>False</td>\n",
       "      <td>True</td>\n",
       "      <td>False</td>\n",
       "    </tr>\n",
       "    <tr>\n",
       "      <th>140</th>\n",
       "      <td>False</td>\n",
       "      <td>False</td>\n",
       "      <td>False</td>\n",
       "      <td>False</td>\n",
       "      <td>False</td>\n",
       "      <td>False</td>\n",
       "      <td>False</td>\n",
       "      <td>False</td>\n",
       "      <td>False</td>\n",
       "      <td>False</td>\n",
       "      <td>False</td>\n",
       "      <td>False</td>\n",
       "      <td>False</td>\n",
       "      <td>False</td>\n",
       "      <td>False</td>\n",
       "      <td>True</td>\n",
       "      <td>False</td>\n",
       "    </tr>\n",
       "    <tr>\n",
       "      <th>...</th>\n",
       "      <td>...</td>\n",
       "      <td>...</td>\n",
       "      <td>...</td>\n",
       "      <td>...</td>\n",
       "      <td>...</td>\n",
       "      <td>...</td>\n",
       "      <td>...</td>\n",
       "      <td>...</td>\n",
       "      <td>...</td>\n",
       "      <td>...</td>\n",
       "      <td>...</td>\n",
       "      <td>...</td>\n",
       "      <td>...</td>\n",
       "      <td>...</td>\n",
       "      <td>...</td>\n",
       "      <td>...</td>\n",
       "      <td>...</td>\n",
       "    </tr>\n",
       "    <tr>\n",
       "      <th>1631</th>\n",
       "      <td>False</td>\n",
       "      <td>False</td>\n",
       "      <td>False</td>\n",
       "      <td>False</td>\n",
       "      <td>False</td>\n",
       "      <td>False</td>\n",
       "      <td>False</td>\n",
       "      <td>False</td>\n",
       "      <td>False</td>\n",
       "      <td>False</td>\n",
       "      <td>False</td>\n",
       "      <td>False</td>\n",
       "      <td>False</td>\n",
       "      <td>False</td>\n",
       "      <td>False</td>\n",
       "      <td>True</td>\n",
       "      <td>False</td>\n",
       "    </tr>\n",
       "    <tr>\n",
       "      <th>1632</th>\n",
       "      <td>False</td>\n",
       "      <td>False</td>\n",
       "      <td>False</td>\n",
       "      <td>False</td>\n",
       "      <td>False</td>\n",
       "      <td>False</td>\n",
       "      <td>False</td>\n",
       "      <td>False</td>\n",
       "      <td>False</td>\n",
       "      <td>False</td>\n",
       "      <td>False</td>\n",
       "      <td>False</td>\n",
       "      <td>False</td>\n",
       "      <td>False</td>\n",
       "      <td>False</td>\n",
       "      <td>True</td>\n",
       "      <td>False</td>\n",
       "    </tr>\n",
       "    <tr>\n",
       "      <th>1633</th>\n",
       "      <td>False</td>\n",
       "      <td>False</td>\n",
       "      <td>False</td>\n",
       "      <td>False</td>\n",
       "      <td>False</td>\n",
       "      <td>False</td>\n",
       "      <td>False</td>\n",
       "      <td>False</td>\n",
       "      <td>False</td>\n",
       "      <td>False</td>\n",
       "      <td>False</td>\n",
       "      <td>False</td>\n",
       "      <td>False</td>\n",
       "      <td>True</td>\n",
       "      <td>False</td>\n",
       "      <td>True</td>\n",
       "      <td>False</td>\n",
       "    </tr>\n",
       "    <tr>\n",
       "      <th>1634</th>\n",
       "      <td>False</td>\n",
       "      <td>False</td>\n",
       "      <td>False</td>\n",
       "      <td>False</td>\n",
       "      <td>False</td>\n",
       "      <td>False</td>\n",
       "      <td>False</td>\n",
       "      <td>False</td>\n",
       "      <td>False</td>\n",
       "      <td>False</td>\n",
       "      <td>False</td>\n",
       "      <td>False</td>\n",
       "      <td>False</td>\n",
       "      <td>False</td>\n",
       "      <td>False</td>\n",
       "      <td>True</td>\n",
       "      <td>False</td>\n",
       "    </tr>\n",
       "    <tr>\n",
       "      <th>1635</th>\n",
       "      <td>False</td>\n",
       "      <td>False</td>\n",
       "      <td>False</td>\n",
       "      <td>False</td>\n",
       "      <td>False</td>\n",
       "      <td>False</td>\n",
       "      <td>False</td>\n",
       "      <td>False</td>\n",
       "      <td>False</td>\n",
       "      <td>False</td>\n",
       "      <td>False</td>\n",
       "      <td>False</td>\n",
       "      <td>False</td>\n",
       "      <td>False</td>\n",
       "      <td>False</td>\n",
       "      <td>True</td>\n",
       "      <td>False</td>\n",
       "    </tr>\n",
       "  </tbody>\n",
       "</table>\n",
       "<p>251 rows × 17 columns</p>\n",
       "</div>"
      ],
      "text/plain": [
       "      building_id  site_id  primaryspaceusage  sub_primaryspaceusage    sqm  \\\n",
       "136         False    False              False                  False  False   \n",
       "137         False    False              False                  False  False   \n",
       "138         False    False              False                  False  False   \n",
       "139         False    False              False                  False  False   \n",
       "140         False    False              False                  False  False   \n",
       "...           ...      ...                ...                    ...    ...   \n",
       "1631        False    False              False                  False  False   \n",
       "1632        False    False              False                  False  False   \n",
       "1633        False    False              False                  False  False   \n",
       "1634        False    False              False                  False  False   \n",
       "1635        False    False              False                  False  False   \n",
       "\n",
       "      timezone  electricity  hotwater  water    gas  industry  subindustry  \\\n",
       "136      False        False     False  False  False     False        False   \n",
       "137      False        False     False  False  False     False        False   \n",
       "138      False        False     False  False  False     False        False   \n",
       "139      False        False     False  False  False     False        False   \n",
       "140      False        False     False  False  False     False        False   \n",
       "...        ...          ...       ...    ...    ...       ...          ...   \n",
       "1631     False        False     False  False  False     False        False   \n",
       "1632     False        False     False  False  False     False        False   \n",
       "1633     False        False     False  False  False     False        False   \n",
       "1634     False        False     False  False  False     False        False   \n",
       "1635     False        False     False  False  False     False        False   \n",
       "\n",
       "      heatingtype  yearbuilt  numberoffloors  occupants  rating  \n",
       "136         False       True           False       True   False  \n",
       "137         False       True           False       True   False  \n",
       "138         False      False           False       True   False  \n",
       "139         False      False           False       True   False  \n",
       "140         False      False           False       True   False  \n",
       "...           ...        ...             ...        ...     ...  \n",
       "1631        False      False           False       True   False  \n",
       "1632        False      False           False       True   False  \n",
       "1633        False       True           False       True   False  \n",
       "1634        False      False           False       True   False  \n",
       "1635        False      False           False       True   False  \n",
       "\n",
       "[251 rows x 17 columns]"
      ]
     },
     "execution_count": 4,
     "metadata": {},
     "output_type": "execute_result"
    }
   ],
   "source": [
    "metadata.isna()"
   ]
  },
  {
   "cell_type": "code",
   "execution_count": 5,
   "metadata": {},
   "outputs": [
    {
     "name": "stdout",
     "output_type": "stream",
     "text": [
      "yearbuilt\n",
      "False    199\n",
      "True      52\n",
      "Name: count, dtype: int64\n",
      "\n",
      "\n",
      "numberoffloors\n",
      "False    224\n",
      "True      27\n",
      "Name: count, dtype: int64\n",
      "\n",
      "\n",
      "occupants\n",
      "True     138\n",
      "False    113\n",
      "Name: count, dtype: int64\n",
      "\n",
      "\n"
     ]
    }
   ],
   "source": [
    "for c in metadata.columns:\n",
    "    if len(metadata[c].isna().unique())>1:\n",
    "        print(metadata[c].isna().value_counts())\n",
    "        print(\"\\n\")"
   ]
  },
  {
   "cell_type": "markdown",
   "metadata": {},
   "source": [
    "### Dealing with missing values"
   ]
  },
  {
   "cell_type": "markdown",
   "metadata": {},
   "source": [
    "**First questions to ask:**\n",
    "\n",
    "* Why is the data missing (is there any logic in it)?\n",
    "* What is the distribution of the missing data?"
   ]
  },
  {
   "cell_type": "markdown",
   "metadata": {},
   "source": [
    "**Choose the strategy based on your findings:**\n",
    "\n",
    "* Delete (rows or columns)\n",
    "* Inserting a representative value (mean, median or the most likely to occur in these entries)\n",
    "* Fill missing values manually 🙂\n",
    "* Create a new column that would flag that the value is missing (e.g. Missing_built_year with 0 and 1 showing whether the values are missing) and use a special value in the original column. Increases the difficulty of the data mining process.\n",
    "* Use data mining methods to estimate the missing value based on the rest of the dataset. Used when the feature is considered important and there is a substantial set of non-missing observations for this feature."
   ]
  },
  {
   "cell_type": "markdown",
   "metadata": {},
   "source": [
    "## Model Imputation methods"
   ]
  },
  {
   "cell_type": "markdown",
   "metadata": {},
   "source": [
    "Let's go through different imputation methods. Note: these are not the best methods for each column, but rather a "
   ]
  },
  {
   "cell_type": "markdown",
   "metadata": {},
   "source": [
    "### 🫧 Single value"
   ]
  },
  {
   "cell_type": "markdown",
   "metadata": {},
   "source": [
    "Methods for getting `min`, `max`, `mean`, `median`:\n",
    "\n",
    "`df[column_name].min()`\n",
    "\n",
    "👍🏻"
   ]
  },
  {
   "cell_type": "markdown",
   "metadata": {},
   "source": [
    "What could the advantages and disadvantages be when using this method with our data?"
   ]
  },
  {
   "cell_type": "markdown",
   "metadata": {},
   "source": [
    "### 🫧 Nearest neighbours"
   ]
  },
  {
   "cell_type": "markdown",
   "metadata": {},
   "source": [
    "[Algorithm in 94 seconds](https://www.youtube.com/watch?v=zeFt_JCA3b4)"
   ]
  },
  {
   "cell_type": "code",
   "execution_count": 6,
   "metadata": {},
   "outputs": [
    {
     "data": {
      "text/html": [
       "<style>#sk-container-id-1 {color: black;}#sk-container-id-1 pre{padding: 0;}#sk-container-id-1 div.sk-toggleable {background-color: white;}#sk-container-id-1 label.sk-toggleable__label {cursor: pointer;display: block;width: 100%;margin-bottom: 0;padding: 0.3em;box-sizing: border-box;text-align: center;}#sk-container-id-1 label.sk-toggleable__label-arrow:before {content: \"▸\";float: left;margin-right: 0.25em;color: #696969;}#sk-container-id-1 label.sk-toggleable__label-arrow:hover:before {color: black;}#sk-container-id-1 div.sk-estimator:hover label.sk-toggleable__label-arrow:before {color: black;}#sk-container-id-1 div.sk-toggleable__content {max-height: 0;max-width: 0;overflow: hidden;text-align: left;background-color: #f0f8ff;}#sk-container-id-1 div.sk-toggleable__content pre {margin: 0.2em;color: black;border-radius: 0.25em;background-color: #f0f8ff;}#sk-container-id-1 input.sk-toggleable__control:checked~div.sk-toggleable__content {max-height: 200px;max-width: 100%;overflow: auto;}#sk-container-id-1 input.sk-toggleable__control:checked~label.sk-toggleable__label-arrow:before {content: \"▾\";}#sk-container-id-1 div.sk-estimator input.sk-toggleable__control:checked~label.sk-toggleable__label {background-color: #d4ebff;}#sk-container-id-1 div.sk-label input.sk-toggleable__control:checked~label.sk-toggleable__label {background-color: #d4ebff;}#sk-container-id-1 input.sk-hidden--visually {border: 0;clip: rect(1px 1px 1px 1px);clip: rect(1px, 1px, 1px, 1px);height: 1px;margin: -1px;overflow: hidden;padding: 0;position: absolute;width: 1px;}#sk-container-id-1 div.sk-estimator {font-family: monospace;background-color: #f0f8ff;border: 1px dotted black;border-radius: 0.25em;box-sizing: border-box;margin-bottom: 0.5em;}#sk-container-id-1 div.sk-estimator:hover {background-color: #d4ebff;}#sk-container-id-1 div.sk-parallel-item::after {content: \"\";width: 100%;border-bottom: 1px solid gray;flex-grow: 1;}#sk-container-id-1 div.sk-label:hover label.sk-toggleable__label {background-color: #d4ebff;}#sk-container-id-1 div.sk-serial::before {content: \"\";position: absolute;border-left: 1px solid gray;box-sizing: border-box;top: 0;bottom: 0;left: 50%;z-index: 0;}#sk-container-id-1 div.sk-serial {display: flex;flex-direction: column;align-items: center;background-color: white;padding-right: 0.2em;padding-left: 0.2em;position: relative;}#sk-container-id-1 div.sk-item {position: relative;z-index: 1;}#sk-container-id-1 div.sk-parallel {display: flex;align-items: stretch;justify-content: center;background-color: white;position: relative;}#sk-container-id-1 div.sk-item::before, #sk-container-id-1 div.sk-parallel-item::before {content: \"\";position: absolute;border-left: 1px solid gray;box-sizing: border-box;top: 0;bottom: 0;left: 50%;z-index: -1;}#sk-container-id-1 div.sk-parallel-item {display: flex;flex-direction: column;z-index: 1;position: relative;background-color: white;}#sk-container-id-1 div.sk-parallel-item:first-child::after {align-self: flex-end;width: 50%;}#sk-container-id-1 div.sk-parallel-item:last-child::after {align-self: flex-start;width: 50%;}#sk-container-id-1 div.sk-parallel-item:only-child::after {width: 0;}#sk-container-id-1 div.sk-dashed-wrapped {border: 1px dashed gray;margin: 0 0.4em 0.5em 0.4em;box-sizing: border-box;padding-bottom: 0.4em;background-color: white;}#sk-container-id-1 div.sk-label label {font-family: monospace;font-weight: bold;display: inline-block;line-height: 1.2em;}#sk-container-id-1 div.sk-label-container {text-align: center;}#sk-container-id-1 div.sk-container {/* jupyter's `normalize.less` sets `[hidden] { display: none; }` but bootstrap.min.css set `[hidden] { display: none !important; }` so we also need the `!important` here to be able to override the default hidden behavior on the sphinx rendered scikit-learn.org. See: https://github.com/scikit-learn/scikit-learn/issues/21755 */display: inline-block !important;position: relative;}#sk-container-id-1 div.sk-text-repr-fallback {display: none;}</style><div id=\"sk-container-id-1\" class=\"sk-top-container\"><div class=\"sk-text-repr-fallback\"><pre>KNeighborsRegressor()</pre><b>In a Jupyter environment, please rerun this cell to show the HTML representation or trust the notebook. <br />On GitHub, the HTML representation is unable to render, please try loading this page with nbviewer.org.</b></div><div class=\"sk-container\" hidden><div class=\"sk-item\"><div class=\"sk-estimator sk-toggleable\"><input class=\"sk-toggleable__control sk-hidden--visually\" id=\"sk-estimator-id-1\" type=\"checkbox\" checked><label for=\"sk-estimator-id-1\" class=\"sk-toggleable__label sk-toggleable__label-arrow\">KNeighborsRegressor</label><div class=\"sk-toggleable__content\"><pre>KNeighborsRegressor()</pre></div></div></div></div></div>"
      ],
      "text/plain": [
       "KNeighborsRegressor()"
      ]
     },
     "execution_count": 6,
     "metadata": {},
     "output_type": "execute_result"
    }
   ],
   "source": [
    "from sklearn.neighbors import KNeighborsRegressor\n",
    "model = KNeighborsRegressor(n_neighbors=5)\n",
    "cols_to_drop = [\"occupants\", \"numberoffloors\", \"yearbuilt\"] #, \"building_id\"]\n",
    "X = metadata.loc[metadata[\"occupants\"].isna()==False].drop(columns=cols_to_drop)\n",
    "Y = metadata.loc[metadata[\"occupants\"].isna()==False][\"occupants\"]\n",
    "missing_X = metadata.loc[metadata[\"occupants\"].isna()].drop(columns=cols_to_drop)\n",
    "model.fit(X, Y)"
   ]
  },
  {
   "cell_type": "code",
   "execution_count": 7,
   "metadata": {},
   "outputs": [
    {
     "data": {
      "text/plain": [
       "array([ 195.8,   18.2, 1156.4,  745.6,  344.8,  359.6, 1019.8,  341.8,\n",
       "       1156.4, 1082. , 1260.6,  336.6,  194.8, 1256.2,  832. ,  507. ,\n",
       "       1160.8,  745.6,  344.8,  336.6,  184.4,  294.2,  359.6, 1043.8,\n",
       "       1043.8,  344.8,  415.4,  745.6,  415.4,  195.8,  415.4,  334.6,\n",
       "        415.4,  865.6,  344.8,  195.8,  164.6,  164.6,  173.6,  344.8,\n",
       "         81.4,  390.6,  745.6,  966. ,  745.6,  415.4,  395.8,   99.6,\n",
       "        195.8,  184.4,  371.4,  239.6,   18.2,  957.2,  425. ,   66.6,\n",
       "        131. ,  193.2,   37.8,  407.8,   82.4,  344.8,   71.4,  195.8,\n",
       "         82.4,   71.8,  425. ,  160.2,   66.6,  164.6,   71.8,   37.8,\n",
       "        129.8,  365.6, 1160.8,  216.4,   53.8,  193.2,  205.6,  365.6,\n",
       "         54.6,  165.4,  129.8,  175. ,   18.2,  351.6,  129.8,   53.8,\n",
       "         34.8,  376.2,  333.6,  182. ,  307.8,  397.6,  195.8, 1019.8,\n",
       "         18.2,   71. ,  351.6,   23.4,   59.4,  348.8, 1214.8,   23.4,\n",
       "        357.4,  359.6, 1160.8,  359.4,  884.4, 1050.2, 1050.2,  857.6,\n",
       "        195.8,  359.6,  164.6,  273.2,  884.4,  832. ,  507. ,  376.6,\n",
       "        745.6,  865.6,  507. ,  164.6,  415.4,  344.8, 1320.6,   99.6,\n",
       "        334.6, 1214.8,  865.6,  966. ,  966. ,  966. ,  344.8,  165. ,\n",
       "        336.6,  415.4])"
      ]
     },
     "execution_count": 7,
     "metadata": {},
     "output_type": "execute_result"
    }
   ],
   "source": [
    "missing_Y = model.predict(missing_X)\n",
    "missing_Y"
   ]
  },
  {
   "cell_type": "markdown",
   "metadata": {},
   "source": [
    "Thinking about how the algorithm works, do you think some columns are more important than the others? Are there any columns that are not important?"
   ]
  },
  {
   "cell_type": "code",
   "execution_count": 8,
   "metadata": {},
   "outputs": [
    {
     "data": {
      "text/plain": [
       "array([ 195.8,   18.2, 1156.4,  756.2,  344.8,  385.6, 1019.8,  397.6,\n",
       "       1156.4, 1082. , 1260.6,  364.4,  122.2, 1256.2,  832. ,  507. ,\n",
       "       1160.8,  745.6,  344.8,  364.4,  193.6,  331.4,  366.6, 1043.8,\n",
       "       1043.8,  344.8,  415.4,  745.6,  415.4,  195.8,  415.4,  334.6,\n",
       "        415.4, 1019.8,  344.8,  195.8,  164.6,  164.6,  193.2,  344.8,\n",
       "        142. ,  397.6,  745.6,  966. ,  745.6,  415.4,  363. ,  113.2,\n",
       "        195.8,  130. ,  346. ,  244.4,   18.2,  957.2,  341.8,   41.6,\n",
       "        161.4,  193.2,   18.2,  385.6,   81.4,  344.8,   41.6,  195.8,\n",
       "        106.4,   66.2,  341.8,  122.2,   41.6,  164.6,   85.8,   18.2,\n",
       "        113.2,  364.4, 1160.8,  193.6,   41.6,  193.2,  295.6,  346. ,\n",
       "         71.4,   81.4,  113.2,   70. ,   18.2,  351.6,  169. ,   41.6,\n",
       "         18.2,  363. ,  301.2,  146.2,  378.2,  397.6,  195.8, 1019.8,\n",
       "         18.2,  142. ,  334.6,   66.2,   85.8,  377.6, 1214.8,   71.4,\n",
       "        392. ,  385.6, 1160.8,  430.6,  884.4, 1050.2, 1050.2,  857.6,\n",
       "        195.8,  414.6,  164.6,  331.4,  884.4,  832. ,  507. ,  354.4,\n",
       "        745.6,  865.6,  507. ,  164.6,  415.4,  344.8, 1320.6,  106.4,\n",
       "        334.6, 1214.8,  865.6,  966. ,  966. ,  966. ,  344.8,  158.4,\n",
       "        364.4,  415.4])"
      ]
     },
     "execution_count": 8,
     "metadata": {},
     "output_type": "execute_result"
    }
   ],
   "source": [
    "model = KNeighborsRegressor(n_neighbors=5)\n",
    "cols_to_drop = [\"occupants\", \"numberoffloors\", \"yearbuilt\", \"building_id\"]\n",
    "X = metadata.loc[metadata[\"occupants\"].isna()==False].drop(columns=cols_to_drop)\n",
    "Y = metadata.loc[metadata[\"occupants\"].isna()==False][\"occupants\"]\n",
    "missing_X = metadata.loc[metadata[\"occupants\"].isna()].drop(columns=cols_to_drop)\n",
    "model.fit(X, Y)\n",
    "missing_Y = model.predict(missing_X)\n",
    "missing_Y"
   ]
  },
  {
   "cell_type": "markdown",
   "metadata": {},
   "source": [
    "#### Data scaling"
   ]
  },
  {
   "cell_type": "markdown",
   "metadata": {},
   "source": [
    "![data scaling illustration](https://miro.medium.com/v2/resize:fit:1400/1*yR54MSI1jjnf2QeGtt57PA.png)"
   ]
  },
  {
   "cell_type": "code",
   "execution_count": 9,
   "metadata": {},
   "outputs": [
    {
     "data": {
      "text/plain": [
       "array([ 306.8,  306.8,  451. ,  379.2,  306.8,  306.8,  542.4,  216. ,\n",
       "        451. ,  556.8,  542.4,  306.8,  216. ,  470.6,  451. ,  306.8,\n",
       "        522.2,  306.8,  306.8,  344.8,  306.8,  306.8,  432. ,  485. ,\n",
       "        485. ,  485. ,  485. ,  485. ,  489. ,  379.2,  485. ,  432. ,\n",
       "        379.2,  485. ,  485. ,  485. ,  485. ,  489. ,  355. ,  489. ,\n",
       "        379.2,  485. ,  485. ,  485. ,  485. ,  485. ,  485. ,  379.2,\n",
       "        485. ,  379.2,  485. ,  485. ,   69.8,  853. ,  116.6,  159.8,\n",
       "         64.4,   56.6,  122.4,  135.8,   64.4,  120.4,   29.2,  135.8,\n",
       "         29.2,   29.2,  116.6,   65.2,  122.4,  148.6,  299.2,  159.8,\n",
       "        210.8,  340.2, 1275.8,  265. ,  226. ,  393.2,   68.8,  299.2,\n",
       "         88.2,   88.2,   88.2,   88.2,   88.2,  384.4,  384.4,  377.4,\n",
       "        295. ,  339.2,  330.6,  299.2,  294. ,  299.2,  289.2,  397. ,\n",
       "        119.6,  316.6,  306.8,  122.4,   82. ,  340.2,  542.4,  312.2,\n",
       "        306.8,  306.8, 1465.6,  340.2, 1271.2,  485. ,  561.4,  397. ,\n",
       "        306.8,  340.2,  203.2,  306.8, 1275. ,  397. ,  344.8,  340.2,\n",
       "        397. ,  782.4,  344.8,  218. ,  344.8,  344.8,  782.4,  208.4,\n",
       "        344.8,  782.4,  782.4,  416. ,  416. ,  416. ,   49.2,   49.2,\n",
       "         32.8,  133. ])"
      ]
     },
     "execution_count": 9,
     "metadata": {},
     "output_type": "execute_result"
    }
   ],
   "source": [
    "from sklearn.preprocessing import MinMaxScaler\n",
    "\n",
    "scaler = MinMaxScaler() \n",
    "X_scaled = scaler.fit_transform(X) \n",
    "missing_X_scaled = scaler.fit_transform(missing_X) \n",
    "\n",
    "model.fit(X_scaled, Y)\n",
    "missing_Y = model.predict(missing_X_scaled)\n",
    "missing_Y"
   ]
  },
  {
   "cell_type": "markdown",
   "metadata": {},
   "source": [
    "Have you noticed anything that doesn't turn with the predicted values?"
   ]
  },
  {
   "cell_type": "code",
   "execution_count": 10,
   "metadata": {},
   "outputs": [],
   "source": [
    "missing_Y = missing_Y.astype(int)"
   ]
  },
  {
   "cell_type": "markdown",
   "metadata": {},
   "source": [
    "#### Assigning generated values to the column"
   ]
  },
  {
   "cell_type": "code",
   "execution_count": 11,
   "metadata": {},
   "outputs": [
    {
     "name": "stderr",
     "output_type": "stream",
     "text": [
      "/tmp/ipykernel_28235/3437343726.py:1: SettingWithCopyWarning: \n",
      "A value is trying to be set on a copy of a slice from a DataFrame\n",
      "\n",
      "See the caveats in the documentation: https://pandas.pydata.org/pandas-docs/stable/user_guide/indexing.html#returning-a-view-versus-a-copy\n",
      "  metadata[\"occupants\"].loc[metadata[\"occupants\"].isna()] = missing_Y\n"
     ]
    }
   ],
   "source": [
    "metadata[\"occupants\"].loc[metadata[\"occupants\"].isna()] = missing_Y"
   ]
  },
  {
   "cell_type": "markdown",
   "metadata": {},
   "source": [
    "### 🫧 Decision Tree"
   ]
  },
  {
   "cell_type": "markdown",
   "metadata": {},
   "source": [
    "![decision tree illustration](https://cdn-images-1.medium.com/max/778/1*OLJWt9hD2zTS-x3gRhYuqg.png)"
   ]
  },
  {
   "cell_type": "code",
   "execution_count": 12,
   "metadata": {},
   "outputs": [
    {
     "data": {
      "text/html": [
       "<style>#sk-container-id-2 {color: black;}#sk-container-id-2 pre{padding: 0;}#sk-container-id-2 div.sk-toggleable {background-color: white;}#sk-container-id-2 label.sk-toggleable__label {cursor: pointer;display: block;width: 100%;margin-bottom: 0;padding: 0.3em;box-sizing: border-box;text-align: center;}#sk-container-id-2 label.sk-toggleable__label-arrow:before {content: \"▸\";float: left;margin-right: 0.25em;color: #696969;}#sk-container-id-2 label.sk-toggleable__label-arrow:hover:before {color: black;}#sk-container-id-2 div.sk-estimator:hover label.sk-toggleable__label-arrow:before {color: black;}#sk-container-id-2 div.sk-toggleable__content {max-height: 0;max-width: 0;overflow: hidden;text-align: left;background-color: #f0f8ff;}#sk-container-id-2 div.sk-toggleable__content pre {margin: 0.2em;color: black;border-radius: 0.25em;background-color: #f0f8ff;}#sk-container-id-2 input.sk-toggleable__control:checked~div.sk-toggleable__content {max-height: 200px;max-width: 100%;overflow: auto;}#sk-container-id-2 input.sk-toggleable__control:checked~label.sk-toggleable__label-arrow:before {content: \"▾\";}#sk-container-id-2 div.sk-estimator input.sk-toggleable__control:checked~label.sk-toggleable__label {background-color: #d4ebff;}#sk-container-id-2 div.sk-label input.sk-toggleable__control:checked~label.sk-toggleable__label {background-color: #d4ebff;}#sk-container-id-2 input.sk-hidden--visually {border: 0;clip: rect(1px 1px 1px 1px);clip: rect(1px, 1px, 1px, 1px);height: 1px;margin: -1px;overflow: hidden;padding: 0;position: absolute;width: 1px;}#sk-container-id-2 div.sk-estimator {font-family: monospace;background-color: #f0f8ff;border: 1px dotted black;border-radius: 0.25em;box-sizing: border-box;margin-bottom: 0.5em;}#sk-container-id-2 div.sk-estimator:hover {background-color: #d4ebff;}#sk-container-id-2 div.sk-parallel-item::after {content: \"\";width: 100%;border-bottom: 1px solid gray;flex-grow: 1;}#sk-container-id-2 div.sk-label:hover label.sk-toggleable__label {background-color: #d4ebff;}#sk-container-id-2 div.sk-serial::before {content: \"\";position: absolute;border-left: 1px solid gray;box-sizing: border-box;top: 0;bottom: 0;left: 50%;z-index: 0;}#sk-container-id-2 div.sk-serial {display: flex;flex-direction: column;align-items: center;background-color: white;padding-right: 0.2em;padding-left: 0.2em;position: relative;}#sk-container-id-2 div.sk-item {position: relative;z-index: 1;}#sk-container-id-2 div.sk-parallel {display: flex;align-items: stretch;justify-content: center;background-color: white;position: relative;}#sk-container-id-2 div.sk-item::before, #sk-container-id-2 div.sk-parallel-item::before {content: \"\";position: absolute;border-left: 1px solid gray;box-sizing: border-box;top: 0;bottom: 0;left: 50%;z-index: -1;}#sk-container-id-2 div.sk-parallel-item {display: flex;flex-direction: column;z-index: 1;position: relative;background-color: white;}#sk-container-id-2 div.sk-parallel-item:first-child::after {align-self: flex-end;width: 50%;}#sk-container-id-2 div.sk-parallel-item:last-child::after {align-self: flex-start;width: 50%;}#sk-container-id-2 div.sk-parallel-item:only-child::after {width: 0;}#sk-container-id-2 div.sk-dashed-wrapped {border: 1px dashed gray;margin: 0 0.4em 0.5em 0.4em;box-sizing: border-box;padding-bottom: 0.4em;background-color: white;}#sk-container-id-2 div.sk-label label {font-family: monospace;font-weight: bold;display: inline-block;line-height: 1.2em;}#sk-container-id-2 div.sk-label-container {text-align: center;}#sk-container-id-2 div.sk-container {/* jupyter's `normalize.less` sets `[hidden] { display: none; }` but bootstrap.min.css set `[hidden] { display: none !important; }` so we also need the `!important` here to be able to override the default hidden behavior on the sphinx rendered scikit-learn.org. See: https://github.com/scikit-learn/scikit-learn/issues/21755 */display: inline-block !important;position: relative;}#sk-container-id-2 div.sk-text-repr-fallback {display: none;}</style><div id=\"sk-container-id-2\" class=\"sk-top-container\"><div class=\"sk-text-repr-fallback\"><pre>DecisionTreeRegressor()</pre><b>In a Jupyter environment, please rerun this cell to show the HTML representation or trust the notebook. <br />On GitHub, the HTML representation is unable to render, please try loading this page with nbviewer.org.</b></div><div class=\"sk-container\" hidden><div class=\"sk-item\"><div class=\"sk-estimator sk-toggleable\"><input class=\"sk-toggleable__control sk-hidden--visually\" id=\"sk-estimator-id-2\" type=\"checkbox\" checked><label for=\"sk-estimator-id-2\" class=\"sk-toggleable__label sk-toggleable__label-arrow\">DecisionTreeRegressor</label><div class=\"sk-toggleable__content\"><pre>DecisionTreeRegressor()</pre></div></div></div></div></div>"
      ],
      "text/plain": [
       "DecisionTreeRegressor()"
      ]
     },
     "execution_count": 12,
     "metadata": {},
     "output_type": "execute_result"
    }
   ],
   "source": [
    "from sklearn.tree import DecisionTreeRegressor\n",
    "\n",
    "cols_to_drop = [\"numberoffloors\", \"yearbuilt\"]\n",
    "\n",
    "X = metadata.loc[metadata[\"yearbuilt\"].isna()==False].drop(columns=cols_to_drop)\n",
    "Y = metadata.loc[metadata[\"yearbuilt\"].isna()==False][\"yearbuilt\"]\n",
    "missing_X = metadata.loc[metadata[\"yearbuilt\"].isna()].drop(columns=cols_to_drop)\n",
    "\n",
    "tree = DecisionTreeRegressor()\n",
    "tree.fit(X, Y)"
   ]
  },
  {
   "cell_type": "code",
   "execution_count": 13,
   "metadata": {},
   "outputs": [
    {
     "name": "stdout",
     "output_type": "stream",
     "text": [
      "sqm               \t\t0.33\n",
      "building_id       \t\t0.27\n",
      "occupants         \t\t0.14\n",
      "rating            \t\t0.08\n",
      "heatingtype       \t\t0.07\n",
      "sub_primaryspaceusage\t\t0.05\n",
      "industry          \t\t0.03\n",
      "gas               \t\t0.02\n",
      "subindustry       \t\t0.02\n",
      "primaryspaceusage \t\t0.00\n",
      "site_id           \t\t0.00\n",
      "hotwater          \t\t0.00\n",
      "water             \t\t0.00\n",
      "timezone          \t\t0.00\n",
      "electricity       \t\t0.00\n"
     ]
    }
   ],
   "source": [
    "zipped = [(x, i) for i,x in sorted(zip(tree.feature_importances_, X), reverse=True)]\n",
    "for f, v in zipped:\n",
    "    print(\"{:18s}\\t\\t{:.2f}\".format(f, v))"
   ]
  },
  {
   "cell_type": "markdown",
   "metadata": {},
   "source": [
    "✨ **for the curious ones:**\n",
    "* [zip function ](https://www.programiz.com/python-programming/methods/built-in/zip)\n",
    "* [list comprehension](https://www.w3schools.com/python/python_lists_comprehension.asp)\n",
    "* [enumerate](https://www.geeksforgeeks.org/enumerate-in-python/)"
   ]
  },
  {
   "cell_type": "code",
   "execution_count": 14,
   "metadata": {},
   "outputs": [
    {
     "data": {
      "text/html": [
       "<style>#sk-container-id-3 {color: black;}#sk-container-id-3 pre{padding: 0;}#sk-container-id-3 div.sk-toggleable {background-color: white;}#sk-container-id-3 label.sk-toggleable__label {cursor: pointer;display: block;width: 100%;margin-bottom: 0;padding: 0.3em;box-sizing: border-box;text-align: center;}#sk-container-id-3 label.sk-toggleable__label-arrow:before {content: \"▸\";float: left;margin-right: 0.25em;color: #696969;}#sk-container-id-3 label.sk-toggleable__label-arrow:hover:before {color: black;}#sk-container-id-3 div.sk-estimator:hover label.sk-toggleable__label-arrow:before {color: black;}#sk-container-id-3 div.sk-toggleable__content {max-height: 0;max-width: 0;overflow: hidden;text-align: left;background-color: #f0f8ff;}#sk-container-id-3 div.sk-toggleable__content pre {margin: 0.2em;color: black;border-radius: 0.25em;background-color: #f0f8ff;}#sk-container-id-3 input.sk-toggleable__control:checked~div.sk-toggleable__content {max-height: 200px;max-width: 100%;overflow: auto;}#sk-container-id-3 input.sk-toggleable__control:checked~label.sk-toggleable__label-arrow:before {content: \"▾\";}#sk-container-id-3 div.sk-estimator input.sk-toggleable__control:checked~label.sk-toggleable__label {background-color: #d4ebff;}#sk-container-id-3 div.sk-label input.sk-toggleable__control:checked~label.sk-toggleable__label {background-color: #d4ebff;}#sk-container-id-3 input.sk-hidden--visually {border: 0;clip: rect(1px 1px 1px 1px);clip: rect(1px, 1px, 1px, 1px);height: 1px;margin: -1px;overflow: hidden;padding: 0;position: absolute;width: 1px;}#sk-container-id-3 div.sk-estimator {font-family: monospace;background-color: #f0f8ff;border: 1px dotted black;border-radius: 0.25em;box-sizing: border-box;margin-bottom: 0.5em;}#sk-container-id-3 div.sk-estimator:hover {background-color: #d4ebff;}#sk-container-id-3 div.sk-parallel-item::after {content: \"\";width: 100%;border-bottom: 1px solid gray;flex-grow: 1;}#sk-container-id-3 div.sk-label:hover label.sk-toggleable__label {background-color: #d4ebff;}#sk-container-id-3 div.sk-serial::before {content: \"\";position: absolute;border-left: 1px solid gray;box-sizing: border-box;top: 0;bottom: 0;left: 50%;z-index: 0;}#sk-container-id-3 div.sk-serial {display: flex;flex-direction: column;align-items: center;background-color: white;padding-right: 0.2em;padding-left: 0.2em;position: relative;}#sk-container-id-3 div.sk-item {position: relative;z-index: 1;}#sk-container-id-3 div.sk-parallel {display: flex;align-items: stretch;justify-content: center;background-color: white;position: relative;}#sk-container-id-3 div.sk-item::before, #sk-container-id-3 div.sk-parallel-item::before {content: \"\";position: absolute;border-left: 1px solid gray;box-sizing: border-box;top: 0;bottom: 0;left: 50%;z-index: -1;}#sk-container-id-3 div.sk-parallel-item {display: flex;flex-direction: column;z-index: 1;position: relative;background-color: white;}#sk-container-id-3 div.sk-parallel-item:first-child::after {align-self: flex-end;width: 50%;}#sk-container-id-3 div.sk-parallel-item:last-child::after {align-self: flex-start;width: 50%;}#sk-container-id-3 div.sk-parallel-item:only-child::after {width: 0;}#sk-container-id-3 div.sk-dashed-wrapped {border: 1px dashed gray;margin: 0 0.4em 0.5em 0.4em;box-sizing: border-box;padding-bottom: 0.4em;background-color: white;}#sk-container-id-3 div.sk-label label {font-family: monospace;font-weight: bold;display: inline-block;line-height: 1.2em;}#sk-container-id-3 div.sk-label-container {text-align: center;}#sk-container-id-3 div.sk-container {/* jupyter's `normalize.less` sets `[hidden] { display: none; }` but bootstrap.min.css set `[hidden] { display: none !important; }` so we also need the `!important` here to be able to override the default hidden behavior on the sphinx rendered scikit-learn.org. See: https://github.com/scikit-learn/scikit-learn/issues/21755 */display: inline-block !important;position: relative;}#sk-container-id-3 div.sk-text-repr-fallback {display: none;}</style><div id=\"sk-container-id-3\" class=\"sk-top-container\"><div class=\"sk-text-repr-fallback\"><pre>DecisionTreeRegressor()</pre><b>In a Jupyter environment, please rerun this cell to show the HTML representation or trust the notebook. <br />On GitHub, the HTML representation is unable to render, please try loading this page with nbviewer.org.</b></div><div class=\"sk-container\" hidden><div class=\"sk-item\"><div class=\"sk-estimator sk-toggleable\"><input class=\"sk-toggleable__control sk-hidden--visually\" id=\"sk-estimator-id-3\" type=\"checkbox\" checked><label for=\"sk-estimator-id-3\" class=\"sk-toggleable__label sk-toggleable__label-arrow\">DecisionTreeRegressor</label><div class=\"sk-toggleable__content\"><pre>DecisionTreeRegressor()</pre></div></div></div></div></div>"
      ],
      "text/plain": [
       "DecisionTreeRegressor()"
      ]
     },
     "execution_count": 14,
     "metadata": {},
     "output_type": "execute_result"
    }
   ],
   "source": [
    "cols_to_drop = [\"numberoffloors\", \"yearbuilt\", \"building_id\"]\n",
    "\n",
    "X = metadata.loc[metadata[\"yearbuilt\"].isna()==False].drop(columns=cols_to_drop)\n",
    "Y = metadata.loc[metadata[\"yearbuilt\"].isna()==False][\"yearbuilt\"]\n",
    "missing_X = metadata.loc[metadata[\"yearbuilt\"].isna()].drop(columns=cols_to_drop)\n",
    "\n",
    "tree = DecisionTreeRegressor()\n",
    "tree.fit(X, Y)"
   ]
  },
  {
   "cell_type": "code",
   "execution_count": 15,
   "metadata": {},
   "outputs": [
    {
     "data": {
      "text/plain": [
       "array([1906., 1995., 2006., 1906., 1900., 1945., 1919., 1919., 1976.,\n",
       "       1966., 1965., 1976., 2000., 1937., 1902., 1906., 1976., 1965.,\n",
       "       1976., 1906., 1906., 1906., 1966., 1966., 1976., 1976., 1906.,\n",
       "       1976., 1906., 1960., 1906., 1906., 1976., 1906., 1976., 1976.,\n",
       "       1906., 1906., 1906., 1906., 1906., 1906., 1906., 1976., 1906.,\n",
       "       1906., 1906., 1976., 1906., 1906., 1906., 2004.])"
      ]
     },
     "execution_count": 15,
     "metadata": {},
     "output_type": "execute_result"
    }
   ],
   "source": [
    "tree.predict(missing_X)"
   ]
  },
  {
   "cell_type": "markdown",
   "metadata": {},
   "source": [
    "#### 🧩 Task I - Assign predictions"
   ]
  },
  {
   "cell_type": "code",
   "execution_count": 16,
   "metadata": {},
   "outputs": [
    {
     "data": {
      "text/plain": [
       "136        NaN\n",
       "137        NaN\n",
       "138     2005.0\n",
       "139     1913.0\n",
       "140     1953.0\n",
       "         ...  \n",
       "1631    1936.0\n",
       "1632    1954.0\n",
       "1633       NaN\n",
       "1634    2006.0\n",
       "1635    1996.0\n",
       "Name: yearbuilt, Length: 251, dtype: float64"
      ]
     },
     "execution_count": 16,
     "metadata": {},
     "output_type": "execute_result"
    }
   ],
   "source": [
    "metadata[\"yearbuilt\"] # Your code here"
   ]
  },
  {
   "cell_type": "code",
   "execution_count": 16,
   "metadata": {},
   "outputs": [
    {
     "data": {
      "text/plain": [
       "136    NaN\n",
       "137    NaN\n",
       "143    NaN\n",
       "147    NaN\n",
       "158    NaN\n",
       "169    NaN\n",
       "171    NaN\n",
       "173    NaN\n",
       "174    NaN\n",
       "175    NaN\n",
       "176    NaN\n",
       "763    NaN\n",
       "1171   NaN\n",
       "1172   NaN\n",
       "1176   NaN\n",
       "1200   NaN\n",
       "1201   NaN\n",
       "1202   NaN\n",
       "1203   NaN\n",
       "1204   NaN\n",
       "1205   NaN\n",
       "1206   NaN\n",
       "1207   NaN\n",
       "1208   NaN\n",
       "1209   NaN\n",
       "1210   NaN\n",
       "1211   NaN\n",
       "1212   NaN\n",
       "1213   NaN\n",
       "1214   NaN\n",
       "1215   NaN\n",
       "1216   NaN\n",
       "1217   NaN\n",
       "1218   NaN\n",
       "1219   NaN\n",
       "1220   NaN\n",
       "1221   NaN\n",
       "1222   NaN\n",
       "1223   NaN\n",
       "1224   NaN\n",
       "1225   NaN\n",
       "1226   NaN\n",
       "1227   NaN\n",
       "1228   NaN\n",
       "1229   NaN\n",
       "1230   NaN\n",
       "1231   NaN\n",
       "1232   NaN\n",
       "1233   NaN\n",
       "1234   NaN\n",
       "1235   NaN\n",
       "1633   NaN\n",
       "Name: yearbuilt, dtype: float64"
      ]
     },
     "execution_count": 16,
     "metadata": {},
     "output_type": "execute_result"
    }
   ],
   "source": [
    "# check\n",
    "# should return an empty dataframe, as we are not supposed to have nan values anymore\n",
    "metadata[\"yearbuilt\"].loc[metadata[\"yearbuilt\"].isna()]"
   ]
  },
  {
   "cell_type": "markdown",
   "metadata": {},
   "source": [
    "#### ⚙️ Solution"
   ]
  },
  {
   "cell_type": "code",
   "execution_count": 17,
   "metadata": {},
   "outputs": [
    {
     "name": "stderr",
     "output_type": "stream",
     "text": [
      "/tmp/ipykernel_28235/2202934034.py:1: SettingWithCopyWarning: \n",
      "A value is trying to be set on a copy of a slice from a DataFrame\n",
      "\n",
      "See the caveats in the documentation: https://pandas.pydata.org/pandas-docs/stable/user_guide/indexing.html#returning-a-view-versus-a-copy\n",
      "  metadata[\"yearbuilt\"].loc[metadata[\"yearbuilt\"].isna()] = tree.predict(missing_X).astype(int)\n"
     ]
    }
   ],
   "source": [
    "metadata[\"yearbuilt\"].loc[metadata[\"yearbuilt\"].isna()] = tree.predict(missing_X).astype(int)"
   ]
  },
  {
   "cell_type": "markdown",
   "metadata": {},
   "source": [
    "### 🎢 Saving our work"
   ]
  },
  {
   "cell_type": "code",
   "execution_count": 18,
   "metadata": {},
   "outputs": [],
   "source": [
    "# full_df.to_csv(\"../../kaggle_data/tutorial_results/02.csv\")\n",
    "metadata.to_csv(\"../kaggle_data/tutorial_results/02_metadata.csv\")"
   ]
  },
  {
   "cell_type": "code",
   "execution_count": null,
   "metadata": {},
   "outputs": [],
   "source": []
  }
 ],
 "metadata": {
  "kernelspec": {
   "display_name": "capacity",
   "language": "python",
   "name": "python3"
  },
  "language_info": {
   "codemirror_mode": {
    "name": "ipython",
    "version": 3
   },
   "file_extension": ".py",
   "mimetype": "text/x-python",
   "name": "python",
   "nbconvert_exporter": "python",
   "pygments_lexer": "ipython3",
   "version": "3.10.6"
  }
 },
 "nbformat": 4,
 "nbformat_minor": 2
}
