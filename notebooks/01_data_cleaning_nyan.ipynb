{
  "cells": [
    {
      "cell_type": "markdown",
      "metadata": {
        "id": "view-in-github",
        "colab_type": "text"
      },
      "source": [
        "<a href=\"https://colab.research.google.com/github/fooodforrhino/IAAC2024_tutorials_nyan/blob/main/notebooks/01_data_cleaning_nyan.ipynb\" target=\"_parent\"><img src=\"https://colab.research.google.com/assets/colab-badge.svg\" alt=\"Open In Colab\"/></a>"
      ]
    },
    {
      "cell_type": "markdown",
      "metadata": {
        "id": "z-ZSDh9iGYtg"
      },
      "source": [
        "<a target=\"_blank\" href=\"https://colab.research.google.com/github/fooodforrhino/IAAC2024_tutorials_nyan/blob/main/notebooks/01_data_cleaning_nyan.ipynb\">\n",
        "  <img src=\"https://colab.research.google.com/assets/colab-badge.svg\" alt=\"Open In Colab\"/>\n",
        "</a>"
      ]
    },
    {
      "cell_type": "markdown",
      "source": [
        "*mingalar par kabar kyii !*"
      ],
      "metadata": {
        "id": "o9tm2qK1xayw"
      }
    },
    {
      "cell_type": "markdown",
      "metadata": {
        "id": "aTl1u9KqGYti"
      },
      "source": [
        "### Data"
      ]
    },
    {
      "cell_type": "markdown",
      "metadata": {
        "id": "730SYQTGGYtj"
      },
      "source": [
        "⚠️ **NOTE:** Kaggle files have already been uploaded to the repo. You find them in folder `kaggle_data`´\n",
        "\n",
        "If you for any reason need to download data from kaggle, instructions are in one of the [optional notebooks](./88_kaggle_data.ipynb) : <a href=\"https://colab.research.google.com/github/STASYA00/IAAC2024_tutorials/blob/main/notebooks/88_kaggle_data.ipynb\" target=\"_parent\"><img src=\"https://colab.research.google.com/assets/colab-badge.svg\" alt=\"Open In Colab\"/></a>"
      ]
    },
    {
      "cell_type": "markdown",
      "metadata": {
        "id": "ejdj8mDyGYtj"
      },
      "source": [
        "## 🏡 Buildings' Efficiency - Data cleaning"
      ]
    },
    {
      "cell_type": "code",
      "execution_count": 2,
      "metadata": {
        "id": "xZu2pvCxGYtk",
        "colab": {
          "base_uri": "https://localhost:8080/"
        },
        "outputId": "155a6623-0b50-4c3d-f802-51c317ed8714"
      },
      "outputs": [
        {
          "output_type": "stream",
          "name": "stdout",
          "text": [
            "Cloning into 'IAAC2024_tutorials'...\n",
            "remote: Enumerating objects: 97, done.\u001b[K\n",
            "remote: Counting objects: 100% (97/97), done.\u001b[K\n",
            "remote: Compressing objects: 100% (67/67), done.\u001b[K\n",
            "remote: Total 97 (delta 39), reused 83 (delta 29), pack-reused 0\u001b[K\n",
            "Receiving objects: 100% (97/97), 6.54 MiB | 3.53 MiB/s, done.\n",
            "Resolving deltas: 100% (39/39), done.\n",
            "/content/IAAC2024_tutorials/notebooks\n"
          ]
        }
      ],
      "source": [
        "!git clone https://github.com/STASYA00/IAAC2024_tutorials\n",
        "%cd IAAC2024_tutorials/notebooks"
      ]
    },
    {
      "cell_type": "markdown",
      "source": [
        "*git clone to retrive a data from git path*"
      ],
      "metadata": {
        "id": "9cDjYa3QuNwi"
      }
    },
    {
      "cell_type": "code",
      "execution_count": 3,
      "metadata": {
        "id": "isOTe1RMGYtk"
      },
      "outputs": [],
      "source": [
        "# importing the necessary packages\n",
        "\n",
        "from matplotlib import pyplot as plt\n",
        "import pandas as pd\n",
        "import seaborn as sns\n"
      ]
    },
    {
      "cell_type": "markdown",
      "source": [
        "## Matplotlib\n",
        "\n",
        "Matplotlib is a comprehensive library for creating static, animated, and interactive visualizations in Python. Matplotlib makes easy things easy and hard things possible.\n",
        "\n",
        "## Panda\n",
        "\n",
        "Pandas is a fast, powerful, flexible and easy to use open source data analysis and manipulation tool, built on top of the Python programming language.\n",
        "\n",
        "## Seaborn\n",
        "Seaborn is a Python data visualization library based on matplotlib. It provides a high-level interface for drawing attractive and informative statistical graphics."
      ],
      "metadata": {
        "id": "vvlAbU7Ktwyz"
      }
    },
    {
      "cell_type": "markdown",
      "metadata": {
        "id": "lwag2QziGYtl"
      },
      "source": [
        "![image.png](https://github.com/STASYA00/IAAC2024_tutorials/blob/main/.assets/asset1.png?raw=1)"
      ]
    },
    {
      "cell_type": "markdown",
      "metadata": {
        "id": "bC9Ff2SHGYtl"
      },
      "source": [
        "### First look at data"
      ]
    },
    {
      "cell_type": "code",
      "execution_count": 4,
      "metadata": {
        "id": "tvINlunIGYtl",
        "outputId": "bc0e3bfc-2260-4524-d82a-c06a6ef85b41",
        "colab": {
          "base_uri": "https://localhost:8080/"
        }
      },
      "outputs": [
        {
          "output_type": "stream",
          "name": "stdout",
          "text": [
            "(251, 31)\n",
            "(266266, 4)\n"
          ]
        }
      ],
      "source": [
        "# reading the data\n",
        "train = pd.read_csv(\"../kaggle_data/train.csv\", index_col=0)\n",
        "metadata = pd.read_csv(\"../kaggle_data/metadata.csv\", index_col=0)\n",
        "print(metadata.shape)\n",
        "print(train.shape)"
      ]
    },
    {
      "cell_type": "code",
      "source": [
        "# read the whole table\n",
        "\n",
        "read_csv_train = pd.read_csv(\"../kaggle_data/train.csv\")\n",
        "read_csv_metadata = pd.read_csv(\"../kaggle_data/metadata.csv\")\n",
        "print(read_csv_train)\n",
        "print(read_csv_metadata)"
      ],
      "metadata": {
        "colab": {
          "base_uri": "https://localhost:8080/"
        },
        "id": "jdJBHJOi1gPC",
        "outputId": "1464c6c7-d122-4f78-91f5-460109fe947b"
      },
      "execution_count": 9,
      "outputs": [
        {
          "output_type": "stream",
          "name": "stdout",
          "text": [
            "        Unnamed: 0  building_id         day  meter  meter_reading\n",
            "0                0            2  2016-02-02    595       102.6000\n",
            "1                1            2  2016-02-02    207         0.3000\n",
            "2                2            2  2016-02-03    595        88.8000\n",
            "3                3            2  2016-02-03    207         0.1000\n",
            "4                4            2  2016-02-04    595        76.3000\n",
            "...            ...          ...         ...    ...            ...\n",
            "266261      266261          632  2017-10-26    595      1850.1025\n",
            "266262      266262          632  2017-10-27    595      1862.4300\n",
            "266263      266263          632  2017-10-28    595      1663.8050\n",
            "266264      266264          632  2017-10-29    595      1677.4850\n",
            "266265      266265          632  2017-10-30    595      1871.3250\n",
            "\n",
            "[266266 rows x 5 columns]\n",
            "     Unnamed: 0  building_id  site_id  site_id_kaggle    primaryspaceusage  \\\n",
            "0           136          432  Trapano           143.0            Education   \n",
            "1           137          416  Trapano           143.0            Education   \n",
            "2           138          436  Trapano           143.0            Education   \n",
            "3           139          441  Trapano           143.0            Education   \n",
            "4           140          442  Trapano           143.0            Education   \n",
            "..          ...          ...      ...             ...                  ...   \n",
            "246        1631          389     Korv             NaN           Healthcare   \n",
            "247        1632          392     Korv             NaN           Healthcare   \n",
            "248        1633          382     Korv             NaN           Healthcare   \n",
            "249        1634          403     Korv             NaN  Lodging/residential   \n",
            "250        1635          406     Korv             NaN   Technology/science   \n",
            "\n",
            "    sub_primaryspaceusage      sqm      sqft        lat       lng  ...  \\\n",
            "0       College Classroom   4703.0   50623.0  51.518790 -0.134556  ...   \n",
            "1       College Classroom    499.3    5374.0  51.518790 -0.134556  ...   \n",
            "2       College Classroom   9061.0   97532.0  51.518790 -0.134556  ...   \n",
            "3      College Laboratory   7579.0   81580.0  51.518790 -0.134556  ...   \n",
            "4      College Laboratory   5295.0   56995.0  51.518790 -0.134556  ...   \n",
            "..                    ...      ...       ...        ...       ...  ...   \n",
            "246              Hospital  17193.0  185064.0  51.521939 -0.120069  ...   \n",
            "247              Hospital   5399.0   58114.0  51.521939 -0.120069  ...   \n",
            "248              Hospital   1749.0   18826.0  51.521939 -0.120069  ...   \n",
            "249                 Hotel   3489.0   37555.0  51.521939 -0.120069  ...   \n",
            "250            Laboratory   5931.0   63841.0  51.521939 -0.120069  ...   \n",
            "\n",
            "    yearbuilt date_opened numberoffloors  occupants  energystarscore eui  \\\n",
            "0         NaN         NaN            5.0        NaN              NaN NaN   \n",
            "1         NaN         NaN            4.0        NaN              NaN NaN   \n",
            "2      2005.0         NaN           10.0        NaN              NaN NaN   \n",
            "3      1913.0         NaN            5.0        NaN              NaN NaN   \n",
            "4      1953.0         NaN            6.0        NaN              NaN NaN   \n",
            "..        ...         ...            ...        ...              ...  ..   \n",
            "246    1936.0         NaN           10.0        NaN              NaN NaN   \n",
            "247    1954.0         NaN            6.0        NaN              NaN NaN   \n",
            "248       NaN         NaN            8.0        NaN              NaN NaN   \n",
            "249    2006.0         NaN            7.0        NaN              NaN NaN   \n",
            "250    1996.0         NaN            7.0        NaN              NaN NaN   \n",
            "\n",
            "     site_eui  source_eui leed_level rating  \n",
            "0         NaN         NaN        NaN      G  \n",
            "1         NaN         NaN        NaN    NaN  \n",
            "2         NaN         NaN        NaN      F  \n",
            "3         NaN         NaN        NaN    NaN  \n",
            "4         NaN         NaN        NaN      G  \n",
            "..        ...         ...        ...    ...  \n",
            "246       NaN         NaN        NaN      F  \n",
            "247       NaN         NaN        NaN      F  \n",
            "248       NaN         NaN        NaN      F  \n",
            "249       NaN         NaN        NaN      F  \n",
            "250       NaN         NaN        NaN      F  \n",
            "\n",
            "[251 rows x 32 columns]\n"
          ]
        }
      ]
    },
    {
      "cell_type": "markdown",
      "metadata": {
        "id": "vpiaO5gpGYtm"
      },
      "source": [
        "Looking at the data:"
      ]
    },
    {
      "cell_type": "markdown",
      "source": [
        "**Looking to top 7 rows of the table train**"
      ],
      "metadata": {
        "id": "OPeNL9CZ2lM2"
      }
    },
    {
      "cell_type": "code",
      "execution_count": 11,
      "metadata": {
        "id": "w3yIYVTBGYtm",
        "outputId": "97c98779-7ae3-4640-dd5c-50657fb7a8a5",
        "colab": {
          "base_uri": "https://localhost:8080/",
          "height": 269
        }
      },
      "outputs": [
        {
          "output_type": "execute_result",
          "data": {
            "text/plain": [
              "   building_id         day  meter  meter_reading\n",
              "0            2  2016-02-02    595          102.6\n",
              "1            2  2016-02-02    207            0.3\n",
              "2            2  2016-02-03    595           88.8\n",
              "3            2  2016-02-03    207            0.1\n",
              "4            2  2016-02-04    595           76.3\n",
              "5            2  2016-02-04    207            0.9\n",
              "6            2  2016-02-05    595           78.7"
            ],
            "text/html": [
              "\n",
              "  <div id=\"df-ab15b22a-ea47-4a1a-b246-53d3e7dfd255\" class=\"colab-df-container\">\n",
              "    <div>\n",
              "<style scoped>\n",
              "    .dataframe tbody tr th:only-of-type {\n",
              "        vertical-align: middle;\n",
              "    }\n",
              "\n",
              "    .dataframe tbody tr th {\n",
              "        vertical-align: top;\n",
              "    }\n",
              "\n",
              "    .dataframe thead th {\n",
              "        text-align: right;\n",
              "    }\n",
              "</style>\n",
              "<table border=\"1\" class=\"dataframe\">\n",
              "  <thead>\n",
              "    <tr style=\"text-align: right;\">\n",
              "      <th></th>\n",
              "      <th>building_id</th>\n",
              "      <th>day</th>\n",
              "      <th>meter</th>\n",
              "      <th>meter_reading</th>\n",
              "    </tr>\n",
              "  </thead>\n",
              "  <tbody>\n",
              "    <tr>\n",
              "      <th>0</th>\n",
              "      <td>2</td>\n",
              "      <td>2016-02-02</td>\n",
              "      <td>595</td>\n",
              "      <td>102.6</td>\n",
              "    </tr>\n",
              "    <tr>\n",
              "      <th>1</th>\n",
              "      <td>2</td>\n",
              "      <td>2016-02-02</td>\n",
              "      <td>207</td>\n",
              "      <td>0.3</td>\n",
              "    </tr>\n",
              "    <tr>\n",
              "      <th>2</th>\n",
              "      <td>2</td>\n",
              "      <td>2016-02-03</td>\n",
              "      <td>595</td>\n",
              "      <td>88.8</td>\n",
              "    </tr>\n",
              "    <tr>\n",
              "      <th>3</th>\n",
              "      <td>2</td>\n",
              "      <td>2016-02-03</td>\n",
              "      <td>207</td>\n",
              "      <td>0.1</td>\n",
              "    </tr>\n",
              "    <tr>\n",
              "      <th>4</th>\n",
              "      <td>2</td>\n",
              "      <td>2016-02-04</td>\n",
              "      <td>595</td>\n",
              "      <td>76.3</td>\n",
              "    </tr>\n",
              "    <tr>\n",
              "      <th>5</th>\n",
              "      <td>2</td>\n",
              "      <td>2016-02-04</td>\n",
              "      <td>207</td>\n",
              "      <td>0.9</td>\n",
              "    </tr>\n",
              "    <tr>\n",
              "      <th>6</th>\n",
              "      <td>2</td>\n",
              "      <td>2016-02-05</td>\n",
              "      <td>595</td>\n",
              "      <td>78.7</td>\n",
              "    </tr>\n",
              "  </tbody>\n",
              "</table>\n",
              "</div>\n",
              "    <div class=\"colab-df-buttons\">\n",
              "\n",
              "  <div class=\"colab-df-container\">\n",
              "    <button class=\"colab-df-convert\" onclick=\"convertToInteractive('df-ab15b22a-ea47-4a1a-b246-53d3e7dfd255')\"\n",
              "            title=\"Convert this dataframe to an interactive table.\"\n",
              "            style=\"display:none;\">\n",
              "\n",
              "  <svg xmlns=\"http://www.w3.org/2000/svg\" height=\"24px\" viewBox=\"0 -960 960 960\">\n",
              "    <path d=\"M120-120v-720h720v720H120Zm60-500h600v-160H180v160Zm220 220h160v-160H400v160Zm0 220h160v-160H400v160ZM180-400h160v-160H180v160Zm440 0h160v-160H620v160ZM180-180h160v-160H180v160Zm440 0h160v-160H620v160Z\"/>\n",
              "  </svg>\n",
              "    </button>\n",
              "\n",
              "  <style>\n",
              "    .colab-df-container {\n",
              "      display:flex;\n",
              "      gap: 12px;\n",
              "    }\n",
              "\n",
              "    .colab-df-convert {\n",
              "      background-color: #E8F0FE;\n",
              "      border: none;\n",
              "      border-radius: 50%;\n",
              "      cursor: pointer;\n",
              "      display: none;\n",
              "      fill: #1967D2;\n",
              "      height: 32px;\n",
              "      padding: 0 0 0 0;\n",
              "      width: 32px;\n",
              "    }\n",
              "\n",
              "    .colab-df-convert:hover {\n",
              "      background-color: #E2EBFA;\n",
              "      box-shadow: 0px 1px 2px rgba(60, 64, 67, 0.3), 0px 1px 3px 1px rgba(60, 64, 67, 0.15);\n",
              "      fill: #174EA6;\n",
              "    }\n",
              "\n",
              "    .colab-df-buttons div {\n",
              "      margin-bottom: 4px;\n",
              "    }\n",
              "\n",
              "    [theme=dark] .colab-df-convert {\n",
              "      background-color: #3B4455;\n",
              "      fill: #D2E3FC;\n",
              "    }\n",
              "\n",
              "    [theme=dark] .colab-df-convert:hover {\n",
              "      background-color: #434B5C;\n",
              "      box-shadow: 0px 1px 3px 1px rgba(0, 0, 0, 0.15);\n",
              "      filter: drop-shadow(0px 1px 2px rgba(0, 0, 0, 0.3));\n",
              "      fill: #FFFFFF;\n",
              "    }\n",
              "  </style>\n",
              "\n",
              "    <script>\n",
              "      const buttonEl =\n",
              "        document.querySelector('#df-ab15b22a-ea47-4a1a-b246-53d3e7dfd255 button.colab-df-convert');\n",
              "      buttonEl.style.display =\n",
              "        google.colab.kernel.accessAllowed ? 'block' : 'none';\n",
              "\n",
              "      async function convertToInteractive(key) {\n",
              "        const element = document.querySelector('#df-ab15b22a-ea47-4a1a-b246-53d3e7dfd255');\n",
              "        const dataTable =\n",
              "          await google.colab.kernel.invokeFunction('convertToInteractive',\n",
              "                                                    [key], {});\n",
              "        if (!dataTable) return;\n",
              "\n",
              "        const docLinkHtml = 'Like what you see? Visit the ' +\n",
              "          '<a target=\"_blank\" href=https://colab.research.google.com/notebooks/data_table.ipynb>data table notebook</a>'\n",
              "          + ' to learn more about interactive tables.';\n",
              "        element.innerHTML = '';\n",
              "        dataTable['output_type'] = 'display_data';\n",
              "        await google.colab.output.renderOutput(dataTable, element);\n",
              "        const docLink = document.createElement('div');\n",
              "        docLink.innerHTML = docLinkHtml;\n",
              "        element.appendChild(docLink);\n",
              "      }\n",
              "    </script>\n",
              "  </div>\n",
              "\n",
              "\n",
              "<div id=\"df-94a1d175-e620-4ae4-83d2-a7b11d530823\">\n",
              "  <button class=\"colab-df-quickchart\" onclick=\"quickchart('df-94a1d175-e620-4ae4-83d2-a7b11d530823')\"\n",
              "            title=\"Suggest charts\"\n",
              "            style=\"display:none;\">\n",
              "\n",
              "<svg xmlns=\"http://www.w3.org/2000/svg\" height=\"24px\"viewBox=\"0 0 24 24\"\n",
              "     width=\"24px\">\n",
              "    <g>\n",
              "        <path d=\"M19 3H5c-1.1 0-2 .9-2 2v14c0 1.1.9 2 2 2h14c1.1 0 2-.9 2-2V5c0-1.1-.9-2-2-2zM9 17H7v-7h2v7zm4 0h-2V7h2v10zm4 0h-2v-4h2v4z\"/>\n",
              "    </g>\n",
              "</svg>\n",
              "  </button>\n",
              "\n",
              "<style>\n",
              "  .colab-df-quickchart {\n",
              "      --bg-color: #E8F0FE;\n",
              "      --fill-color: #1967D2;\n",
              "      --hover-bg-color: #E2EBFA;\n",
              "      --hover-fill-color: #174EA6;\n",
              "      --disabled-fill-color: #AAA;\n",
              "      --disabled-bg-color: #DDD;\n",
              "  }\n",
              "\n",
              "  [theme=dark] .colab-df-quickchart {\n",
              "      --bg-color: #3B4455;\n",
              "      --fill-color: #D2E3FC;\n",
              "      --hover-bg-color: #434B5C;\n",
              "      --hover-fill-color: #FFFFFF;\n",
              "      --disabled-bg-color: #3B4455;\n",
              "      --disabled-fill-color: #666;\n",
              "  }\n",
              "\n",
              "  .colab-df-quickchart {\n",
              "    background-color: var(--bg-color);\n",
              "    border: none;\n",
              "    border-radius: 50%;\n",
              "    cursor: pointer;\n",
              "    display: none;\n",
              "    fill: var(--fill-color);\n",
              "    height: 32px;\n",
              "    padding: 0;\n",
              "    width: 32px;\n",
              "  }\n",
              "\n",
              "  .colab-df-quickchart:hover {\n",
              "    background-color: var(--hover-bg-color);\n",
              "    box-shadow: 0 1px 2px rgba(60, 64, 67, 0.3), 0 1px 3px 1px rgba(60, 64, 67, 0.15);\n",
              "    fill: var(--button-hover-fill-color);\n",
              "  }\n",
              "\n",
              "  .colab-df-quickchart-complete:disabled,\n",
              "  .colab-df-quickchart-complete:disabled:hover {\n",
              "    background-color: var(--disabled-bg-color);\n",
              "    fill: var(--disabled-fill-color);\n",
              "    box-shadow: none;\n",
              "  }\n",
              "\n",
              "  .colab-df-spinner {\n",
              "    border: 2px solid var(--fill-color);\n",
              "    border-color: transparent;\n",
              "    border-bottom-color: var(--fill-color);\n",
              "    animation:\n",
              "      spin 1s steps(1) infinite;\n",
              "  }\n",
              "\n",
              "  @keyframes spin {\n",
              "    0% {\n",
              "      border-color: transparent;\n",
              "      border-bottom-color: var(--fill-color);\n",
              "      border-left-color: var(--fill-color);\n",
              "    }\n",
              "    20% {\n",
              "      border-color: transparent;\n",
              "      border-left-color: var(--fill-color);\n",
              "      border-top-color: var(--fill-color);\n",
              "    }\n",
              "    30% {\n",
              "      border-color: transparent;\n",
              "      border-left-color: var(--fill-color);\n",
              "      border-top-color: var(--fill-color);\n",
              "      border-right-color: var(--fill-color);\n",
              "    }\n",
              "    40% {\n",
              "      border-color: transparent;\n",
              "      border-right-color: var(--fill-color);\n",
              "      border-top-color: var(--fill-color);\n",
              "    }\n",
              "    60% {\n",
              "      border-color: transparent;\n",
              "      border-right-color: var(--fill-color);\n",
              "    }\n",
              "    80% {\n",
              "      border-color: transparent;\n",
              "      border-right-color: var(--fill-color);\n",
              "      border-bottom-color: var(--fill-color);\n",
              "    }\n",
              "    90% {\n",
              "      border-color: transparent;\n",
              "      border-bottom-color: var(--fill-color);\n",
              "    }\n",
              "  }\n",
              "</style>\n",
              "\n",
              "  <script>\n",
              "    async function quickchart(key) {\n",
              "      const quickchartButtonEl =\n",
              "        document.querySelector('#' + key + ' button');\n",
              "      quickchartButtonEl.disabled = true;  // To prevent multiple clicks.\n",
              "      quickchartButtonEl.classList.add('colab-df-spinner');\n",
              "      try {\n",
              "        const charts = await google.colab.kernel.invokeFunction(\n",
              "            'suggestCharts', [key], {});\n",
              "      } catch (error) {\n",
              "        console.error('Error during call to suggestCharts:', error);\n",
              "      }\n",
              "      quickchartButtonEl.classList.remove('colab-df-spinner');\n",
              "      quickchartButtonEl.classList.add('colab-df-quickchart-complete');\n",
              "    }\n",
              "    (() => {\n",
              "      let quickchartButtonEl =\n",
              "        document.querySelector('#df-94a1d175-e620-4ae4-83d2-a7b11d530823 button');\n",
              "      quickchartButtonEl.style.display =\n",
              "        google.colab.kernel.accessAllowed ? 'block' : 'none';\n",
              "    })();\n",
              "  </script>\n",
              "</div>\n",
              "    </div>\n",
              "  </div>\n"
            ]
          },
          "metadata": {},
          "execution_count": 11
        }
      ],
      "source": [
        "train.head(7)"
      ]
    },
    {
      "cell_type": "code",
      "execution_count": null,
      "metadata": {
        "id": "aGg9qlF-GYtm",
        "outputId": "248fee3c-c4ac-402b-c776-210f26042a21"
      },
      "outputs": [
        {
          "data": {
            "text/html": [
              "<div>\n",
              "<style scoped>\n",
              "    .dataframe tbody tr th:only-of-type {\n",
              "        vertical-align: middle;\n",
              "    }\n",
              "\n",
              "    .dataframe tbody tr th {\n",
              "        vertical-align: top;\n",
              "    }\n",
              "\n",
              "    .dataframe thead th {\n",
              "        text-align: right;\n",
              "    }\n",
              "</style>\n",
              "<table border=\"1\" class=\"dataframe\">\n",
              "  <thead>\n",
              "    <tr style=\"text-align: right;\">\n",
              "      <th></th>\n",
              "      <th>building_id</th>\n",
              "      <th>site_id</th>\n",
              "      <th>site_id_kaggle</th>\n",
              "      <th>primaryspaceusage</th>\n",
              "      <th>sub_primaryspaceusage</th>\n",
              "      <th>sqm</th>\n",
              "      <th>sqft</th>\n",
              "      <th>lat</th>\n",
              "      <th>lng</th>\n",
              "      <th>timezone</th>\n",
              "      <th>...</th>\n",
              "      <th>yearbuilt</th>\n",
              "      <th>date_opened</th>\n",
              "      <th>numberoffloors</th>\n",
              "      <th>occupants</th>\n",
              "      <th>energystarscore</th>\n",
              "      <th>eui</th>\n",
              "      <th>site_eui</th>\n",
              "      <th>source_eui</th>\n",
              "      <th>leed_level</th>\n",
              "      <th>rating</th>\n",
              "    </tr>\n",
              "  </thead>\n",
              "  <tbody>\n",
              "    <tr>\n",
              "      <th>136</th>\n",
              "      <td>432</td>\n",
              "      <td>Trapano</td>\n",
              "      <td>143.0</td>\n",
              "      <td>Education</td>\n",
              "      <td>College Classroom</td>\n",
              "      <td>4703.0</td>\n",
              "      <td>50623.0</td>\n",
              "      <td>51.51879</td>\n",
              "      <td>-0.134556</td>\n",
              "      <td>Europe/London</td>\n",
              "      <td>...</td>\n",
              "      <td>NaN</td>\n",
              "      <td>NaN</td>\n",
              "      <td>5.0</td>\n",
              "      <td>NaN</td>\n",
              "      <td>NaN</td>\n",
              "      <td>NaN</td>\n",
              "      <td>NaN</td>\n",
              "      <td>NaN</td>\n",
              "      <td>NaN</td>\n",
              "      <td>G</td>\n",
              "    </tr>\n",
              "    <tr>\n",
              "      <th>137</th>\n",
              "      <td>416</td>\n",
              "      <td>Trapano</td>\n",
              "      <td>143.0</td>\n",
              "      <td>Education</td>\n",
              "      <td>College Classroom</td>\n",
              "      <td>499.3</td>\n",
              "      <td>5374.0</td>\n",
              "      <td>51.51879</td>\n",
              "      <td>-0.134556</td>\n",
              "      <td>Europe/London</td>\n",
              "      <td>...</td>\n",
              "      <td>NaN</td>\n",
              "      <td>NaN</td>\n",
              "      <td>4.0</td>\n",
              "      <td>NaN</td>\n",
              "      <td>NaN</td>\n",
              "      <td>NaN</td>\n",
              "      <td>NaN</td>\n",
              "      <td>NaN</td>\n",
              "      <td>NaN</td>\n",
              "      <td>NaN</td>\n",
              "    </tr>\n",
              "    <tr>\n",
              "      <th>138</th>\n",
              "      <td>436</td>\n",
              "      <td>Trapano</td>\n",
              "      <td>143.0</td>\n",
              "      <td>Education</td>\n",
              "      <td>College Classroom</td>\n",
              "      <td>9061.0</td>\n",
              "      <td>97532.0</td>\n",
              "      <td>51.51879</td>\n",
              "      <td>-0.134556</td>\n",
              "      <td>Europe/London</td>\n",
              "      <td>...</td>\n",
              "      <td>2005.0</td>\n",
              "      <td>NaN</td>\n",
              "      <td>10.0</td>\n",
              "      <td>NaN</td>\n",
              "      <td>NaN</td>\n",
              "      <td>NaN</td>\n",
              "      <td>NaN</td>\n",
              "      <td>NaN</td>\n",
              "      <td>NaN</td>\n",
              "      <td>F</td>\n",
              "    </tr>\n",
              "    <tr>\n",
              "      <th>139</th>\n",
              "      <td>441</td>\n",
              "      <td>Trapano</td>\n",
              "      <td>143.0</td>\n",
              "      <td>Education</td>\n",
              "      <td>College Laboratory</td>\n",
              "      <td>7579.0</td>\n",
              "      <td>81580.0</td>\n",
              "      <td>51.51879</td>\n",
              "      <td>-0.134556</td>\n",
              "      <td>Europe/London</td>\n",
              "      <td>...</td>\n",
              "      <td>1913.0</td>\n",
              "      <td>NaN</td>\n",
              "      <td>5.0</td>\n",
              "      <td>NaN</td>\n",
              "      <td>NaN</td>\n",
              "      <td>NaN</td>\n",
              "      <td>NaN</td>\n",
              "      <td>NaN</td>\n",
              "      <td>NaN</td>\n",
              "      <td>NaN</td>\n",
              "    </tr>\n",
              "    <tr>\n",
              "      <th>140</th>\n",
              "      <td>442</td>\n",
              "      <td>Trapano</td>\n",
              "      <td>143.0</td>\n",
              "      <td>Education</td>\n",
              "      <td>College Laboratory</td>\n",
              "      <td>5295.0</td>\n",
              "      <td>56995.0</td>\n",
              "      <td>51.51879</td>\n",
              "      <td>-0.134556</td>\n",
              "      <td>Europe/London</td>\n",
              "      <td>...</td>\n",
              "      <td>1953.0</td>\n",
              "      <td>NaN</td>\n",
              "      <td>6.0</td>\n",
              "      <td>NaN</td>\n",
              "      <td>NaN</td>\n",
              "      <td>NaN</td>\n",
              "      <td>NaN</td>\n",
              "      <td>NaN</td>\n",
              "      <td>NaN</td>\n",
              "      <td>G</td>\n",
              "    </tr>\n",
              "  </tbody>\n",
              "</table>\n",
              "<p>5 rows × 31 columns</p>\n",
              "</div>"
            ],
            "text/plain": [
              "     building_id  site_id  site_id_kaggle primaryspaceusage  \\\n",
              "136          432  Trapano           143.0         Education   \n",
              "137          416  Trapano           143.0         Education   \n",
              "138          436  Trapano           143.0         Education   \n",
              "139          441  Trapano           143.0         Education   \n",
              "140          442  Trapano           143.0         Education   \n",
              "\n",
              "    sub_primaryspaceusage     sqm     sqft       lat       lng       timezone  \\\n",
              "136     College Classroom  4703.0  50623.0  51.51879 -0.134556  Europe/London   \n",
              "137     College Classroom   499.3   5374.0  51.51879 -0.134556  Europe/London   \n",
              "138     College Classroom  9061.0  97532.0  51.51879 -0.134556  Europe/London   \n",
              "139    College Laboratory  7579.0  81580.0  51.51879 -0.134556  Europe/London   \n",
              "140    College Laboratory  5295.0  56995.0  51.51879 -0.134556  Europe/London   \n",
              "\n",
              "     ... yearbuilt date_opened  numberoffloors  occupants energystarscore  \\\n",
              "136  ...       NaN         NaN             5.0        NaN             NaN   \n",
              "137  ...       NaN         NaN             4.0        NaN             NaN   \n",
              "138  ...    2005.0         NaN            10.0        NaN             NaN   \n",
              "139  ...    1913.0         NaN             5.0        NaN             NaN   \n",
              "140  ...    1953.0         NaN             6.0        NaN             NaN   \n",
              "\n",
              "     eui  site_eui source_eui leed_level rating  \n",
              "136  NaN       NaN        NaN        NaN      G  \n",
              "137  NaN       NaN        NaN        NaN    NaN  \n",
              "138  NaN       NaN        NaN        NaN      F  \n",
              "139  NaN       NaN        NaN        NaN    NaN  \n",
              "140  NaN       NaN        NaN        NaN      G  \n",
              "\n",
              "[5 rows x 31 columns]"
            ]
          },
          "execution_count": 84,
          "metadata": {},
          "output_type": "execute_result"
        }
      ],
      "source": [
        "metadata.head()"
      ]
    },
    {
      "cell_type": "markdown",
      "metadata": {
        "id": "FcOs6y8ZGYtm"
      },
      "source": [
        "Let's look at all the available columns in the metadata file:"
      ]
    },
    {
      "cell_type": "code",
      "execution_count": 12,
      "metadata": {
        "id": "aZF1rqvHGYtm",
        "outputId": "bf97df55-d56d-4f0c-b08b-a1c83385acce",
        "colab": {
          "base_uri": "https://localhost:8080/"
        }
      },
      "outputs": [
        {
          "output_type": "execute_result",
          "data": {
            "text/plain": [
              "Index(['building_id', 'site_id', 'site_id_kaggle', 'primaryspaceusage',\n",
              "       'sub_primaryspaceusage', 'sqm', 'sqft', 'lat', 'lng', 'timezone',\n",
              "       'electricity', 'hotwater', 'chilledwater', 'steam', 'water',\n",
              "       'irrigation', 'solar', 'gas', 'industry', 'subindustry', 'heatingtype',\n",
              "       'yearbuilt', 'date_opened', 'numberoffloors', 'occupants',\n",
              "       'energystarscore', 'eui', 'site_eui', 'source_eui', 'leed_level',\n",
              "       'rating'],\n",
              "      dtype='object')"
            ]
          },
          "metadata": {},
          "execution_count": 12
        }
      ],
      "source": [
        "metadata.columns"
      ]
    },
    {
      "cell_type": "markdown",
      "metadata": {
        "id": "Apbyan1dGYtm"
      },
      "source": [
        "What are the different values in site_id column?"
      ]
    },
    {
      "cell_type": "code",
      "execution_count": 13,
      "metadata": {
        "id": "6er-JqMXGYtn",
        "outputId": "0328f540-6f75-46f7-a17c-947bed5c4d83",
        "colab": {
          "base_uri": "https://localhost:8080/"
        }
      },
      "outputs": [
        {
          "output_type": "stream",
          "name": "stdout",
          "text": [
            "['Trapano' 'Gunnar' 'Vorr' 'Nymeria' 'Korv']\n"
          ]
        }
      ],
      "source": [
        "print(metadata[\"site_id\"].unique())"
      ]
    },
    {
      "cell_type": "code",
      "execution_count": 14,
      "metadata": {
        "id": "Z5D0nbOPGYtn",
        "outputId": "438d1888-be93-4f5b-c1f6-f2b13be17fcf",
        "colab": {
          "base_uri": "https://localhost:8080/"
        }
      },
      "outputs": [
        {
          "output_type": "stream",
          "name": "stdout",
          "text": [
            "Gunnar     147\n",
            "Trapano     52\n",
            "Nymeria     36\n",
            "Vorr         9\n",
            "Korv         7\n",
            "Name: site_id, dtype: int64\n"
          ]
        }
      ],
      "source": [
        "print(metadata[\"site_id\"].value_counts())"
      ]
    },
    {
      "cell_type": "code",
      "execution_count": 15,
      "metadata": {
        "id": "ic5lNgv2GYtn",
        "outputId": "cfb536d6-a605-4d88-a749-f17f69abed81",
        "colab": {
          "base_uri": "https://localhost:8080/"
        }
      },
      "outputs": [
        {
          "output_type": "stream",
          "name": "stdout",
          "text": [
            "[  nan 2005. 1913. 1953. 2006. 1909. 1958. 1968. 2004. 1960. 2007. 1976.\n",
            " 1906. 1991. 1989. 1900. 1995. 1956. 1930. 1998. 1967. 1919. 1977. 1955.\n",
            " 1997. 1970. 1928. 1965. 1907. 1966. 1945. 2013. 1902. 1915. 1937. 2000.\n",
            " 1994. 2012. 1936. 1954. 1996.]\n"
          ]
        }
      ],
      "source": [
        "print(metadata[\"yearbuilt\"].unique())"
      ]
    },
    {
      "cell_type": "code",
      "execution_count": 16,
      "metadata": {
        "id": "Bea9wAyRGYtn",
        "outputId": "d4b7013a-13ce-475d-845a-d10c79a2ba91",
        "colab": {
          "base_uri": "https://localhost:8080/"
        }
      },
      "outputs": [
        {
          "output_type": "stream",
          "name": "stdout",
          "text": [
            "1976.0    76\n",
            "1966.0    32\n",
            "1919.0    29\n",
            "1945.0    10\n",
            "1960.0     6\n",
            "1906.0     3\n",
            "1956.0     2\n",
            "1995.0     2\n",
            "1900.0     2\n",
            "1930.0     2\n",
            "1967.0     2\n",
            "2004.0     2\n",
            "1968.0     2\n",
            "1958.0     2\n",
            "2006.0     2\n",
            "1902.0     1\n",
            "1915.0     1\n",
            "2013.0     1\n",
            "2000.0     1\n",
            "1937.0     1\n",
            "1965.0     1\n",
            "1994.0     1\n",
            "2012.0     1\n",
            "1936.0     1\n",
            "1954.0     1\n",
            "1907.0     1\n",
            "2005.0     1\n",
            "1928.0     1\n",
            "1970.0     1\n",
            "1997.0     1\n",
            "1955.0     1\n",
            "1977.0     1\n",
            "1913.0     1\n",
            "1998.0     1\n",
            "1989.0     1\n",
            "1991.0     1\n",
            "2007.0     1\n",
            "1909.0     1\n",
            "1953.0     1\n",
            "1996.0     1\n",
            "Name: yearbuilt, dtype: int64\n"
          ]
        }
      ],
      "source": [
        "print(metadata[\"yearbuilt\"].value_counts())"
      ]
    },
    {
      "cell_type": "markdown",
      "metadata": {
        "id": "_lr1NgvfGYtn"
      },
      "source": [
        "Many values, probably too difficult to understand anything this way. We do see a nan value (missing value). There are many columns to look at, probably too many to make a manual check for them.\n",
        "\n",
        "Let's take a look at the columns that have a few (less than 5, since 5 is the number of different building sites) unique values:"
      ]
    },
    {
      "cell_type": "code",
      "execution_count": null,
      "metadata": {
        "id": "M4e5WxxdGYtn",
        "outputId": "55d9986f-eca2-47ba-be26-1c81519e5212"
      },
      "outputs": [
        {
          "name": "stdout",
          "output_type": "stream",
          "text": [
            "building_id 251\n",
            "site_id 5\n",
            "site_id_kaggle 4\n",
            "\t\t [143.  52.  nan  13.]\n",
            "------------------\n",
            "primaryspaceusage 12\n",
            "sub_primaryspaceusage 26\n",
            "sqm 245\n",
            "sqft 245\n",
            "lat 5\n",
            "lng 5\n",
            "timezone 2\n",
            "\t\t ['Europe/London' 'Europe/Dublin']\n",
            "------------------\n",
            "electricity 2\n",
            "\t\t ['Yes' nan]\n",
            "------------------\n",
            "hotwater 2\n",
            "\t\t [nan 'Yes']\n",
            "------------------\n",
            "chilledwater 1\n",
            "\t\t [nan]\n",
            "------------------\n",
            "steam 1\n",
            "\t\t [nan]\n",
            "------------------\n",
            "water 2\n",
            "\t\t [nan 'Yes']\n",
            "------------------\n",
            "irrigation 1\n",
            "\t\t [nan]\n",
            "------------------\n",
            "solar 1\n",
            "\t\t [nan]\n",
            "------------------\n",
            "gas 2\n",
            "\t\t [nan 'Yes']\n",
            "------------------\n",
            "industry 4\n",
            "\t\t ['Education' 'Government' 'Hospitality' 'Healthcare']\n",
            "------------------\n",
            "subindustry 12\n",
            "heatingtype 13\n",
            "yearbuilt 41\n",
            "date_opened 1\n",
            "\t\t [nan]\n",
            "------------------\n",
            "numberoffloors 15\n",
            "occupants 101\n",
            "energystarscore 1\n",
            "\t\t [nan]\n",
            "------------------\n",
            "eui 1\n",
            "\t\t [nan]\n",
            "------------------\n",
            "site_eui 1\n",
            "\t\t [nan]\n",
            "------------------\n",
            "source_eui 1\n",
            "\t\t [nan]\n",
            "------------------\n",
            "leed_level 1\n",
            "\t\t [nan]\n",
            "------------------\n",
            "rating 10\n"
          ]
        }
      ],
      "source": [
        "for c in metadata.columns:\n",
        "    print(c, len(metadata[c].unique()))\n",
        "    if len(metadata[c].unique())<5:\n",
        "        print(\"\\t\\t\", metadata[c].unique())\n",
        "        print(\"------------------\") # separator to read the results by column more clearly"
      ]
    },
    {
      "cell_type": "markdown",
      "metadata": {
        "id": "3PdI1rcZGYtn"
      },
      "source": [
        "### Let's clean a bit"
      ]
    },
    {
      "cell_type": "markdown",
      "metadata": {
        "id": "YUwWF8-LGYtn"
      },
      "source": [
        "![data cleaning](https://img.freepik.com/premium-photo/messy-kitchen-with-dirty-dishes-counter-dishes-counter-generative-ai_97167-9229.jpg)"
      ]
    },
    {
      "cell_type": "markdown",
      "metadata": {
        "id": "Ouo80oH1GYtn"
      },
      "source": [
        " our data ^^"
      ]
    },
    {
      "cell_type": "markdown",
      "metadata": {
        "id": "373eQRMVGYtn"
      },
      "source": [
        "### Dropping meaningless columns"
      ]
    },
    {
      "cell_type": "code",
      "execution_count": null,
      "metadata": {
        "id": "4qDB27mKGYtn",
        "outputId": "455f39d0-bca3-40b1-aead-6f6589032102"
      },
      "outputs": [
        {
          "name": "stdout",
          "output_type": "stream",
          "text": [
            "Useless: chilledwater\n",
            "Useless: steam\n",
            "Useless: irrigation\n",
            "Useless: solar\n",
            "Useless: date_opened\n",
            "Useless: energystarscore\n",
            "Useless: eui\n",
            "Useless: site_eui\n",
            "Useless: source_eui\n",
            "Useless: leed_level\n"
          ]
        }
      ],
      "source": [
        "for c in metadata.columns:\n",
        "    if len(metadata[c].unique())==1:\n",
        "        print(\"Useless:\", c)\n"
      ]
    },
    {
      "cell_type": "markdown",
      "metadata": {
        "id": "q9z_fPR4GYto"
      },
      "source": [
        "Dropping a column:"
      ]
    },
    {
      "cell_type": "code",
      "execution_count": null,
      "metadata": {
        "id": "ARvfgoVgGYto"
      },
      "outputs": [],
      "source": [
        "metadata = metadata.drop(columns=[\"site_id_kaggle\"])"
      ]
    },
    {
      "cell_type": "code",
      "execution_count": null,
      "metadata": {
        "id": "VEZEck3FGYto",
        "outputId": "02e90b92-a8ef-48cd-fd06-708d5da49a03"
      },
      "outputs": [
        {
          "data": {
            "text/html": [
              "<div>\n",
              "<style scoped>\n",
              "    .dataframe tbody tr th:only-of-type {\n",
              "        vertical-align: middle;\n",
              "    }\n",
              "\n",
              "    .dataframe tbody tr th {\n",
              "        vertical-align: top;\n",
              "    }\n",
              "\n",
              "    .dataframe thead th {\n",
              "        text-align: right;\n",
              "    }\n",
              "</style>\n",
              "<table border=\"1\" class=\"dataframe\">\n",
              "  <thead>\n",
              "    <tr style=\"text-align: right;\">\n",
              "      <th></th>\n",
              "      <th>building_id</th>\n",
              "      <th>site_id</th>\n",
              "      <th>primaryspaceusage</th>\n",
              "      <th>sub_primaryspaceusage</th>\n",
              "      <th>sqm</th>\n",
              "      <th>sqft</th>\n",
              "      <th>lat</th>\n",
              "      <th>lng</th>\n",
              "      <th>timezone</th>\n",
              "      <th>electricity</th>\n",
              "      <th>...</th>\n",
              "      <th>yearbuilt</th>\n",
              "      <th>date_opened</th>\n",
              "      <th>numberoffloors</th>\n",
              "      <th>occupants</th>\n",
              "      <th>energystarscore</th>\n",
              "      <th>eui</th>\n",
              "      <th>site_eui</th>\n",
              "      <th>source_eui</th>\n",
              "      <th>leed_level</th>\n",
              "      <th>rating</th>\n",
              "    </tr>\n",
              "  </thead>\n",
              "  <tbody>\n",
              "    <tr>\n",
              "      <th>136</th>\n",
              "      <td>432</td>\n",
              "      <td>Trapano</td>\n",
              "      <td>Education</td>\n",
              "      <td>College Classroom</td>\n",
              "      <td>4703.0</td>\n",
              "      <td>50623.0</td>\n",
              "      <td>51.51879</td>\n",
              "      <td>-0.134556</td>\n",
              "      <td>Europe/London</td>\n",
              "      <td>Yes</td>\n",
              "      <td>...</td>\n",
              "      <td>NaN</td>\n",
              "      <td>NaN</td>\n",
              "      <td>5.0</td>\n",
              "      <td>NaN</td>\n",
              "      <td>NaN</td>\n",
              "      <td>NaN</td>\n",
              "      <td>NaN</td>\n",
              "      <td>NaN</td>\n",
              "      <td>NaN</td>\n",
              "      <td>G</td>\n",
              "    </tr>\n",
              "    <tr>\n",
              "      <th>137</th>\n",
              "      <td>416</td>\n",
              "      <td>Trapano</td>\n",
              "      <td>Education</td>\n",
              "      <td>College Classroom</td>\n",
              "      <td>499.3</td>\n",
              "      <td>5374.0</td>\n",
              "      <td>51.51879</td>\n",
              "      <td>-0.134556</td>\n",
              "      <td>Europe/London</td>\n",
              "      <td>Yes</td>\n",
              "      <td>...</td>\n",
              "      <td>NaN</td>\n",
              "      <td>NaN</td>\n",
              "      <td>4.0</td>\n",
              "      <td>NaN</td>\n",
              "      <td>NaN</td>\n",
              "      <td>NaN</td>\n",
              "      <td>NaN</td>\n",
              "      <td>NaN</td>\n",
              "      <td>NaN</td>\n",
              "      <td>NaN</td>\n",
              "    </tr>\n",
              "    <tr>\n",
              "      <th>138</th>\n",
              "      <td>436</td>\n",
              "      <td>Trapano</td>\n",
              "      <td>Education</td>\n",
              "      <td>College Classroom</td>\n",
              "      <td>9061.0</td>\n",
              "      <td>97532.0</td>\n",
              "      <td>51.51879</td>\n",
              "      <td>-0.134556</td>\n",
              "      <td>Europe/London</td>\n",
              "      <td>Yes</td>\n",
              "      <td>...</td>\n",
              "      <td>2005.0</td>\n",
              "      <td>NaN</td>\n",
              "      <td>10.0</td>\n",
              "      <td>NaN</td>\n",
              "      <td>NaN</td>\n",
              "      <td>NaN</td>\n",
              "      <td>NaN</td>\n",
              "      <td>NaN</td>\n",
              "      <td>NaN</td>\n",
              "      <td>F</td>\n",
              "    </tr>\n",
              "    <tr>\n",
              "      <th>139</th>\n",
              "      <td>441</td>\n",
              "      <td>Trapano</td>\n",
              "      <td>Education</td>\n",
              "      <td>College Laboratory</td>\n",
              "      <td>7579.0</td>\n",
              "      <td>81580.0</td>\n",
              "      <td>51.51879</td>\n",
              "      <td>-0.134556</td>\n",
              "      <td>Europe/London</td>\n",
              "      <td>Yes</td>\n",
              "      <td>...</td>\n",
              "      <td>1913.0</td>\n",
              "      <td>NaN</td>\n",
              "      <td>5.0</td>\n",
              "      <td>NaN</td>\n",
              "      <td>NaN</td>\n",
              "      <td>NaN</td>\n",
              "      <td>NaN</td>\n",
              "      <td>NaN</td>\n",
              "      <td>NaN</td>\n",
              "      <td>NaN</td>\n",
              "    </tr>\n",
              "    <tr>\n",
              "      <th>140</th>\n",
              "      <td>442</td>\n",
              "      <td>Trapano</td>\n",
              "      <td>Education</td>\n",
              "      <td>College Laboratory</td>\n",
              "      <td>5295.0</td>\n",
              "      <td>56995.0</td>\n",
              "      <td>51.51879</td>\n",
              "      <td>-0.134556</td>\n",
              "      <td>Europe/London</td>\n",
              "      <td>Yes</td>\n",
              "      <td>...</td>\n",
              "      <td>1953.0</td>\n",
              "      <td>NaN</td>\n",
              "      <td>6.0</td>\n",
              "      <td>NaN</td>\n",
              "      <td>NaN</td>\n",
              "      <td>NaN</td>\n",
              "      <td>NaN</td>\n",
              "      <td>NaN</td>\n",
              "      <td>NaN</td>\n",
              "      <td>G</td>\n",
              "    </tr>\n",
              "  </tbody>\n",
              "</table>\n",
              "<p>5 rows × 30 columns</p>\n",
              "</div>"
            ],
            "text/plain": [
              "     building_id  site_id primaryspaceusage sub_primaryspaceusage     sqm  \\\n",
              "136          432  Trapano         Education     College Classroom  4703.0   \n",
              "137          416  Trapano         Education     College Classroom   499.3   \n",
              "138          436  Trapano         Education     College Classroom  9061.0   \n",
              "139          441  Trapano         Education    College Laboratory  7579.0   \n",
              "140          442  Trapano         Education    College Laboratory  5295.0   \n",
              "\n",
              "        sqft       lat       lng       timezone electricity  ... yearbuilt  \\\n",
              "136  50623.0  51.51879 -0.134556  Europe/London         Yes  ...       NaN   \n",
              "137   5374.0  51.51879 -0.134556  Europe/London         Yes  ...       NaN   \n",
              "138  97532.0  51.51879 -0.134556  Europe/London         Yes  ...    2005.0   \n",
              "139  81580.0  51.51879 -0.134556  Europe/London         Yes  ...    1913.0   \n",
              "140  56995.0  51.51879 -0.134556  Europe/London         Yes  ...    1953.0   \n",
              "\n",
              "     date_opened  numberoffloors occupants  energystarscore  eui site_eui  \\\n",
              "136          NaN             5.0       NaN              NaN  NaN      NaN   \n",
              "137          NaN             4.0       NaN              NaN  NaN      NaN   \n",
              "138          NaN            10.0       NaN              NaN  NaN      NaN   \n",
              "139          NaN             5.0       NaN              NaN  NaN      NaN   \n",
              "140          NaN             6.0       NaN              NaN  NaN      NaN   \n",
              "\n",
              "    source_eui leed_level rating  \n",
              "136        NaN        NaN      G  \n",
              "137        NaN        NaN    NaN  \n",
              "138        NaN        NaN      F  \n",
              "139        NaN        NaN    NaN  \n",
              "140        NaN        NaN      G  \n",
              "\n",
              "[5 rows x 30 columns]"
            ]
          },
          "execution_count": 93,
          "metadata": {},
          "output_type": "execute_result"
        }
      ],
      "source": [
        "metadata.head()"
      ]
    },
    {
      "cell_type": "markdown",
      "metadata": {
        "id": "WGeLF653GYto"
      },
      "source": [
        "#### 🧩 Task I - Dropping useless columns"
      ]
    },
    {
      "cell_type": "markdown",
      "metadata": {
        "id": "LJK0xWmXGYto"
      },
      "source": [
        "Are there any other columns that you deem meaningless? Write your code here:"
      ]
    },
    {
      "cell_type": "code",
      "execution_count": null,
      "metadata": {
        "id": "jAq-yEfAGYto"
      },
      "outputs": [],
      "source": [
        "for c in metadata.columns:\n",
        "    ### your code\n",
        "\n",
        "    print(\"Dropped column \", c)"
      ]
    },
    {
      "cell_type": "markdown",
      "metadata": {
        "id": "Tw_KWwldGYto"
      },
      "source": [
        "#### ⚙️ Solution"
      ]
    },
    {
      "cell_type": "code",
      "execution_count": null,
      "metadata": {
        "id": "8Kr6j-gtGYto"
      },
      "outputs": [],
      "source": [
        "for c in metadata.columns:\n",
        "    if len(metadata[c].unique())==1:\n",
        "        metadata = metadata.drop(columns=[c])"
      ]
    },
    {
      "cell_type": "markdown",
      "metadata": {
        "id": "mZhzkXf3GYto"
      },
      "source": [
        "You can, of course drop other columns as well if you find it necessary!"
      ]
    },
    {
      "cell_type": "code",
      "execution_count": null,
      "metadata": {
        "id": "448NRJxKGYto"
      },
      "outputs": [],
      "source": [
        "columns_to_drop = []  # list of column names to drop\n",
        "for c in columns_to_drop:\n",
        "    metadata = metadata.drop(columns=[c])"
      ]
    },
    {
      "cell_type": "markdown",
      "metadata": {
        "id": "B37Eq6kWGYto"
      },
      "source": [
        "### Categorical Columns"
      ]
    },
    {
      "cell_type": "markdown",
      "metadata": {
        "id": "y2jZCxSMGYto"
      },
      "source": [
        "![categorical_data](https://sdv.ghost.io/content/images/2023/01/Categorical-Data.png)"
      ]
    },
    {
      "cell_type": "code",
      "execution_count": null,
      "metadata": {
        "id": "fVNvsbsQGYto",
        "outputId": "9b35199f-ce1e-4cc3-d574-e02307db6b8b"
      },
      "outputs": [
        {
          "data": {
            "text/plain": [
              "Index(['building_id', 'site_id', 'primaryspaceusage', 'sub_primaryspaceusage',\n",
              "       'sqm', 'sqft', 'lat', 'lng', 'timezone', 'electricity', 'hotwater',\n",
              "       'water', 'gas', 'industry', 'subindustry', 'heatingtype', 'yearbuilt',\n",
              "       'numberoffloors', 'occupants', 'rating'],\n",
              "      dtype='object')"
            ]
          },
          "execution_count": 96,
          "metadata": {},
          "output_type": "execute_result"
        }
      ],
      "source": [
        "metadata.columns"
      ]
    },
    {
      "cell_type": "code",
      "execution_count": null,
      "metadata": {
        "id": "U1Ia4xBiGYts",
        "outputId": "d7edca75-e409-486a-9ad1-246409494bf9"
      },
      "outputs": [
        {
          "name": "stdout",
          "output_type": "stream",
          "text": [
            "building_id 251\n",
            "-------------------------\n",
            "site_id 5\n",
            "-------------------------\n",
            "primaryspaceusage 12\n",
            "-------------------------\n",
            "sub_primaryspaceusage 26\n",
            "-------------------------\n",
            "sqm 245\n",
            "-------------------------\n",
            "sqft 245\n",
            "-------------------------\n",
            "lat 5\n",
            "-------------------------\n",
            "lng 5\n",
            "-------------------------\n",
            "timezone 2\n",
            "---\n",
            " timezone\n",
            "Europe/London    215\n",
            "Europe/Dublin     36\n",
            "Name: count, dtype: int64\n",
            "-------------------------\n",
            "electricity 2\n",
            "---\n",
            " electricity\n",
            "Yes    250\n",
            "Name: count, dtype: int64\n",
            "-------------------------\n",
            "hotwater 2\n",
            "---\n",
            " hotwater\n",
            "Yes    15\n",
            "Name: count, dtype: int64\n",
            "-------------------------\n",
            "water 2\n",
            "---\n",
            " water\n",
            "Yes    16\n",
            "Name: count, dtype: int64\n",
            "-------------------------\n",
            "gas 2\n",
            "---\n",
            " gas\n",
            "Yes    137\n",
            "Name: count, dtype: int64\n",
            "-------------------------\n",
            "industry 4\n",
            "---\n",
            " industry\n",
            "Education      163\n",
            "Government      80\n",
            "Healthcare       6\n",
            "Hospitality      2\n",
            "Name: count, dtype: int64\n",
            "-------------------------\n",
            "subindustry 12\n",
            "-------------------------\n",
            "heatingtype 13\n",
            "-------------------------\n",
            "yearbuilt 41\n",
            "-------------------------\n",
            "numberoffloors 15\n",
            "-------------------------\n",
            "occupants 101\n",
            "-------------------------\n",
            "rating 10\n",
            "-------------------------\n"
          ]
        }
      ],
      "source": [
        "for c in metadata.columns:\n",
        "    print(c, len(metadata[c].unique()))\n",
        "    if len(metadata[c].unique())<5:\n",
        "        print(\"---\\n\", metadata[c].value_counts())\n",
        "    print(\"-------------------------\")"
      ]
    },
    {
      "cell_type": "markdown",
      "metadata": {
        "id": "GxIuzU2EGYts"
      },
      "source": [
        "How to see how much each value is in procents? 250 for one value in \"electricity\" sounds like a lot.. 🤔"
      ]
    },
    {
      "cell_type": "code",
      "execution_count": null,
      "metadata": {
        "id": "JslrxM-rGYts",
        "outputId": "c282d114-fbd3-4695-bcb4-8efc5cdb4278"
      },
      "outputs": [
        {
          "name": "stdout",
          "output_type": "stream",
          "text": [
            "timezone\n",
            "---\n",
            " timezone\n",
            "Europe/London    0.856574\n",
            "Europe/Dublin    0.143426\n",
            "Name: count, dtype: float64\n",
            "electricity\n",
            "---\n",
            " electricity\n",
            "Yes    0.996016\n",
            "Name: count, dtype: float64\n",
            "hotwater\n",
            "---\n",
            " hotwater\n",
            "Yes    0.059761\n",
            "Name: count, dtype: float64\n",
            "water\n",
            "---\n",
            " water\n",
            "Yes    0.063745\n",
            "Name: count, dtype: float64\n",
            "gas\n",
            "---\n",
            " gas\n",
            "Yes    0.545817\n",
            "Name: count, dtype: float64\n",
            "industry\n",
            "---\n",
            " industry\n",
            "Education      0.649402\n",
            "Government     0.318725\n",
            "Healthcare     0.023904\n",
            "Hospitality    0.007968\n",
            "Name: count, dtype: float64\n"
          ]
        }
      ],
      "source": [
        "for c in metadata.columns:\n",
        "    if len(metadata[c].unique())<5:\n",
        "        print(c)\n",
        "        print(\"---\\n\", metadata[c].value_counts() / metadata.shape[0])"
      ]
    },
    {
      "cell_type": "markdown",
      "metadata": {
        "id": "f-m62G2mGYts"
      },
      "source": [
        "Columns that only have two values can be considered True / False columns (also called for boolean data). The easiest way to encode this data is to assign 1 and 0 values to the corresponding entries in these columns.\n",
        "\n",
        "It can be done in the following ways:"
      ]
    },
    {
      "cell_type": "code",
      "execution_count": null,
      "metadata": {
        "id": "40iirqxiGYts",
        "outputId": "7af78814-9c1a-4396-d31f-42da0f68a6c6"
      },
      "outputs": [
        {
          "data": {
            "text/plain": [
              "array([1, 1, 1, 1, 1, 1, 1, 1, 1, 1, 1, 1, 1, 1, 1, 1, 1, 1, 1, 1, 1, 1,\n",
              "       1, 1, 1, 1, 1, 1, 1, 1, 1, 1, 1, 1, 1, 1, 1, 1, 1, 1, 1, 1, 1, 1,\n",
              "       1, 1, 1, 1, 1, 1, 1, 1, 1, 1, 1, 1, 1, 1, 1, 1, 1, 1, 1, 1, 1, 1,\n",
              "       1, 1, 1, 1, 1, 1, 1, 1, 1, 1, 1, 1, 1, 1, 1, 1, 1, 1, 1, 1, 1, 1,\n",
              "       1, 1, 1, 1, 1, 1, 1, 1, 1, 1, 1, 1, 1, 1, 1, 1, 1, 1, 1, 1, 1, 1,\n",
              "       1, 1, 1, 1, 1, 1, 1, 1, 1, 1, 1, 1, 1, 1, 1, 1, 1, 1, 1, 1, 1, 1,\n",
              "       1, 1, 1, 1, 1, 1, 1, 1, 1, 1, 1, 1, 1, 1, 1, 1, 1, 1, 1, 1, 1, 1,\n",
              "       1, 1, 1, 1, 1, 1, 1, 1, 1, 1, 1, 1, 1, 1, 1, 1, 1, 1, 1, 1, 1, 1,\n",
              "       1, 1, 1, 1, 1, 1, 1, 1, 1, 1, 1, 1, 1, 1, 1, 1, 1, 1, 1, 1, 1, 1,\n",
              "       1, 1, 1, 1, 1, 1, 1, 1, 1, 1, 1, 1, 1, 1, 0, 1, 1, 0, 0, 1, 1, 0,\n",
              "       0, 1, 1, 1, 0, 0, 0, 0, 1, 1, 1, 1, 1, 1, 0, 0, 0, 1, 0, 0, 1, 1,\n",
              "       0, 0, 1, 1, 1, 1, 1, 1, 1])"
            ]
          },
          "execution_count": 99,
          "metadata": {},
          "output_type": "execute_result"
        }
      ],
      "source": [
        "from sklearn.preprocessing import LabelEncoder\n",
        "le = LabelEncoder()\n",
        "le.fit_transform(metadata[\"water\"])"
      ]
    },
    {
      "cell_type": "markdown",
      "metadata": {
        "id": "bNbwSduxGYts"
      },
      "source": [
        "We see that \"yes\" values have been transformed to 0, which might get confusing in the future. Remeber, that 0 == False and 1==True\n",
        "Let's rewrite it and assign the values to metadata[\"water\"]"
      ]
    },
    {
      "cell_type": "code",
      "execution_count": null,
      "metadata": {
        "id": "gTsUSB51GYts",
        "outputId": "033d4863-ff84-47df-afd2-bf0f9bb61fd7"
      },
      "outputs": [
        {
          "data": {
            "text/plain": [
              "array([0, 0, 0, 0, 0, 0, 0, 0, 0, 0, 0, 0, 0, 0, 0, 0, 0, 0, 0, 0, 0, 0,\n",
              "       0, 0, 0, 0, 0, 0, 0, 0, 0, 0, 0, 0, 0, 0, 0, 0, 0, 0, 0, 0, 0, 0,\n",
              "       0, 0, 0, 0, 0, 0, 0, 0, 0, 0, 0, 0, 0, 0, 0, 0, 0, 0, 0, 0, 0, 0,\n",
              "       0, 0, 0, 0, 0, 0, 0, 0, 0, 0, 0, 0, 0, 0, 0, 0, 0, 0, 0, 0, 0, 0,\n",
              "       0, 0, 0, 0, 0, 0, 0, 0, 0, 0, 0, 0, 0, 0, 0, 0, 0, 0, 0, 0, 0, 0,\n",
              "       0, 0, 0, 0, 0, 0, 0, 0, 0, 0, 0, 0, 0, 0, 0, 0, 0, 0, 0, 0, 0, 0,\n",
              "       0, 0, 0, 0, 0, 0, 0, 0, 0, 0, 0, 0, 0, 0, 0, 0, 0, 0, 0, 0, 0, 0,\n",
              "       0, 0, 0, 0, 0, 0, 0, 0, 0, 0, 0, 0, 0, 0, 0, 0, 0, 0, 0, 0, 0, 0,\n",
              "       0, 0, 0, 0, 0, 0, 0, 0, 0, 0, 0, 0, 0, 0, 0, 0, 0, 0, 0, 0, 0, 0,\n",
              "       0, 0, 0, 0, 0, 0, 0, 0, 0, 0, 0, 0, 0, 0, 1, 0, 0, 1, 1, 0, 0, 1,\n",
              "       1, 0, 0, 0, 1, 1, 1, 1, 0, 0, 0, 0, 0, 0, 1, 1, 1, 0, 1, 1, 0, 0,\n",
              "       1, 1, 0, 0, 0, 0, 0, 0, 0])"
            ]
          },
          "execution_count": 100,
          "metadata": {},
          "output_type": "execute_result"
        }
      ],
      "source": [
        "res = le.fit_transform(metadata[\"water\"])\n",
        "1 - res  # now it's reverse, exactly as we wanted it to be"
      ]
    },
    {
      "cell_type": "markdown",
      "metadata": {
        "id": "WBBzZvIoGYts"
      },
      "source": [
        "##### 🎲 Another way to write it:"
      ]
    },
    {
      "cell_type": "code",
      "execution_count": null,
      "metadata": {
        "id": "J6PJ2I2SGYts",
        "outputId": "fe268230-3c06-4ed2-bd26-0d7be6f807b1"
      },
      "outputs": [
        {
          "data": {
            "text/plain": [
              "136     False\n",
              "137     False\n",
              "138     False\n",
              "139     False\n",
              "140     False\n",
              "        ...  \n",
              "1631    False\n",
              "1632    False\n",
              "1633    False\n",
              "1634    False\n",
              "1635    False\n",
              "Name: water, Length: 251, dtype: bool"
            ]
          },
          "execution_count": 80,
          "metadata": {},
          "output_type": "execute_result"
        }
      ],
      "source": [
        "# metadata[\"water\"]==\"Yes\" # print the output of metadata[\"water\"]==\"Yes\" to understand how it works"
      ]
    },
    {
      "cell_type": "markdown",
      "metadata": {
        "id": "xnQ97UEcGYts"
      },
      "source": [
        "##### Assigning values to metadata[\"water\"] :"
      ]
    },
    {
      "cell_type": "code",
      "execution_count": null,
      "metadata": {
        "id": "gmhbDVLXGYtt"
      },
      "outputs": [],
      "source": [
        "metadata[\"water\"] = 1 - res\n",
        "# metadata[\"water\"] = metadata[\"water\"]==\"Yes\" # an alternative way"
      ]
    },
    {
      "cell_type": "markdown",
      "metadata": {
        "id": "zeUtoSpjGYtt"
      },
      "source": [
        "#### 🧩 Task II - Encoding categorical columns"
      ]
    },
    {
      "cell_type": "markdown",
      "metadata": {
        "id": "yaZ5-Pu7GYtt"
      },
      "source": [
        "Encode the rest of the categorical columns (both the binary and multicategorical). What columns would you use? Tips: even numerical values can sometimes be categorical 😉"
      ]
    },
    {
      "cell_type": "code",
      "execution_count": null,
      "metadata": {
        "id": "BJGuFlpqGYtt"
      },
      "outputs": [],
      "source": [
        "categorical_columns = # your code here\n",
        "\n",
        "### Your code here"
      ]
    },
    {
      "cell_type": "code",
      "execution_count": null,
      "metadata": {
        "id": "d8C98feAGYtt",
        "outputId": "e7644487-100d-4630-fa41-73e23b0878f5"
      },
      "outputs": [
        {
          "data": {
            "text/html": [
              "<div>\n",
              "<style scoped>\n",
              "    .dataframe tbody tr th:only-of-type {\n",
              "        vertical-align: middle;\n",
              "    }\n",
              "\n",
              "    .dataframe tbody tr th {\n",
              "        vertical-align: top;\n",
              "    }\n",
              "\n",
              "    .dataframe thead th {\n",
              "        text-align: right;\n",
              "    }\n",
              "</style>\n",
              "<table border=\"1\" class=\"dataframe\">\n",
              "  <thead>\n",
              "    <tr style=\"text-align: right;\">\n",
              "      <th></th>\n",
              "      <th>building_id</th>\n",
              "      <th>site_id</th>\n",
              "      <th>primaryspaceusage</th>\n",
              "      <th>sub_primaryspaceusage</th>\n",
              "      <th>sqm</th>\n",
              "      <th>sqft</th>\n",
              "      <th>lat</th>\n",
              "      <th>lng</th>\n",
              "      <th>timezone</th>\n",
              "      <th>electricity</th>\n",
              "      <th>hotwater</th>\n",
              "      <th>water</th>\n",
              "      <th>gas</th>\n",
              "      <th>industry</th>\n",
              "      <th>subindustry</th>\n",
              "      <th>heatingtype</th>\n",
              "      <th>yearbuilt</th>\n",
              "      <th>numberoffloors</th>\n",
              "      <th>occupants</th>\n",
              "      <th>rating</th>\n",
              "    </tr>\n",
              "  </thead>\n",
              "  <tbody>\n",
              "    <tr>\n",
              "      <th>136</th>\n",
              "      <td>432</td>\n",
              "      <td>3</td>\n",
              "      <td>0</td>\n",
              "      <td>2</td>\n",
              "      <td>4703.0</td>\n",
              "      <td>50623.0</td>\n",
              "      <td>2</td>\n",
              "      <td>1</td>\n",
              "      <td>1</td>\n",
              "      <td>0</td>\n",
              "      <td>1</td>\n",
              "      <td>0</td>\n",
              "      <td>1</td>\n",
              "      <td>0</td>\n",
              "      <td>2</td>\n",
              "      <td>11</td>\n",
              "      <td>NaN</td>\n",
              "      <td>5.0</td>\n",
              "      <td>NaN</td>\n",
              "      <td>8</td>\n",
              "    </tr>\n",
              "    <tr>\n",
              "      <th>137</th>\n",
              "      <td>416</td>\n",
              "      <td>3</td>\n",
              "      <td>0</td>\n",
              "      <td>2</td>\n",
              "      <td>499.3</td>\n",
              "      <td>5374.0</td>\n",
              "      <td>2</td>\n",
              "      <td>1</td>\n",
              "      <td>1</td>\n",
              "      <td>0</td>\n",
              "      <td>0</td>\n",
              "      <td>0</td>\n",
              "      <td>1</td>\n",
              "      <td>0</td>\n",
              "      <td>2</td>\n",
              "      <td>7</td>\n",
              "      <td>NaN</td>\n",
              "      <td>4.0</td>\n",
              "      <td>NaN</td>\n",
              "      <td>9</td>\n",
              "    </tr>\n",
              "    <tr>\n",
              "      <th>138</th>\n",
              "      <td>436</td>\n",
              "      <td>3</td>\n",
              "      <td>0</td>\n",
              "      <td>2</td>\n",
              "      <td>9061.0</td>\n",
              "      <td>97532.0</td>\n",
              "      <td>2</td>\n",
              "      <td>1</td>\n",
              "      <td>1</td>\n",
              "      <td>0</td>\n",
              "      <td>1</td>\n",
              "      <td>0</td>\n",
              "      <td>1</td>\n",
              "      <td>0</td>\n",
              "      <td>2</td>\n",
              "      <td>7</td>\n",
              "      <td>2005.0</td>\n",
              "      <td>10.0</td>\n",
              "      <td>NaN</td>\n",
              "      <td>7</td>\n",
              "    </tr>\n",
              "    <tr>\n",
              "      <th>139</th>\n",
              "      <td>441</td>\n",
              "      <td>3</td>\n",
              "      <td>0</td>\n",
              "      <td>3</td>\n",
              "      <td>7579.0</td>\n",
              "      <td>81580.0</td>\n",
              "      <td>2</td>\n",
              "      <td>1</td>\n",
              "      <td>1</td>\n",
              "      <td>0</td>\n",
              "      <td>1</td>\n",
              "      <td>0</td>\n",
              "      <td>1</td>\n",
              "      <td>0</td>\n",
              "      <td>2</td>\n",
              "      <td>7</td>\n",
              "      <td>1913.0</td>\n",
              "      <td>5.0</td>\n",
              "      <td>NaN</td>\n",
              "      <td>9</td>\n",
              "    </tr>\n",
              "    <tr>\n",
              "      <th>140</th>\n",
              "      <td>442</td>\n",
              "      <td>3</td>\n",
              "      <td>0</td>\n",
              "      <td>3</td>\n",
              "      <td>5295.0</td>\n",
              "      <td>56995.0</td>\n",
              "      <td>2</td>\n",
              "      <td>1</td>\n",
              "      <td>1</td>\n",
              "      <td>0</td>\n",
              "      <td>0</td>\n",
              "      <td>0</td>\n",
              "      <td>1</td>\n",
              "      <td>0</td>\n",
              "      <td>2</td>\n",
              "      <td>7</td>\n",
              "      <td>1953.0</td>\n",
              "      <td>6.0</td>\n",
              "      <td>NaN</td>\n",
              "      <td>8</td>\n",
              "    </tr>\n",
              "  </tbody>\n",
              "</table>\n",
              "</div>"
            ],
            "text/plain": [
              "     building_id  site_id  primaryspaceusage  sub_primaryspaceusage     sqm  \\\n",
              "136          432        3                  0                      2  4703.0   \n",
              "137          416        3                  0                      2   499.3   \n",
              "138          436        3                  0                      2  9061.0   \n",
              "139          441        3                  0                      3  7579.0   \n",
              "140          442        3                  0                      3  5295.0   \n",
              "\n",
              "        sqft  lat  lng  timezone  electricity  hotwater  water  gas  industry  \\\n",
              "136  50623.0    2    1         1            0         1      0    1         0   \n",
              "137   5374.0    2    1         1            0         0      0    1         0   \n",
              "138  97532.0    2    1         1            0         1      0    1         0   \n",
              "139  81580.0    2    1         1            0         1      0    1         0   \n",
              "140  56995.0    2    1         1            0         0      0    1         0   \n",
              "\n",
              "     subindustry  heatingtype  yearbuilt  numberoffloors  occupants  rating  \n",
              "136            2           11        NaN             5.0        NaN       8  \n",
              "137            2            7        NaN             4.0        NaN       9  \n",
              "138            2            7     2005.0            10.0        NaN       7  \n",
              "139            2            7     1913.0             5.0        NaN       9  \n",
              "140            2            7     1953.0             6.0        NaN       8  "
            ]
          },
          "execution_count": 41,
          "metadata": {},
          "output_type": "execute_result"
        }
      ],
      "source": [
        "metadata.head()"
      ]
    },
    {
      "cell_type": "markdown",
      "metadata": {
        "id": "Txv1FZ3QGYtt"
      },
      "source": [
        "#### ⚙️ Solution"
      ]
    },
    {
      "cell_type": "code",
      "execution_count": null,
      "metadata": {
        "id": "c9x_PAAmGYtt"
      },
      "outputs": [],
      "source": [
        "label_dict = {}  # optional, to be able to come back to the original labels\n",
        "categorical_columns = [ \"site_id\", \"primaryspaceusage\", \"sub_primaryspaceusage\",\n",
        "                       \"lat\", \"lng\",\n",
        "                       \"timezone\", \"electricity\", \"hotwater\",  \"gas\", \"industry\",\n",
        "                       \"subindustry\", \"heatingtype\"]\n",
        "yes_no_columns = [\"gas\", \"hotwater\"]\n",
        "\n",
        "for c in categorical_columns:\n",
        "    le = LabelEncoder()\n",
        "    res = le.fit_transform(metadata[c])\n",
        "    if c in yes_no_columns:\n",
        "        res = 1-res  # make sure Yes becomes 1\n",
        "    label_dict[c] = le\n",
        "    metadata[c] = res"
      ]
    },
    {
      "cell_type": "markdown",
      "metadata": {
        "id": "C9IVRlwuGYtt"
      },
      "source": [
        "#### Ordinal values"
      ]
    },
    {
      "cell_type": "code",
      "execution_count": null,
      "metadata": {
        "id": "4ZS1bMBIGYtt",
        "outputId": "aae6db4c-dff4-4602-a5dc-5775d45da0a0"
      },
      "outputs": [
        {
          "data": {
            "text/plain": [
              "array(['G', nan, 'F', 'E', 'B', 'D', 'C', 'A', 'C1', 'D1'], dtype=object)"
            ]
          },
          "execution_count": 103,
          "metadata": {},
          "output_type": "execute_result"
        }
      ],
      "source": [
        "metadata[\"rating\"].unique()"
      ]
    },
    {
      "cell_type": "markdown",
      "metadata": {
        "id": "ZYfRLaYnGYtt"
      },
      "source": [
        "Since there are just a few of rating values, let's encode them manually:"
      ]
    },
    {
      "cell_type": "code",
      "execution_count": null,
      "metadata": {
        "id": "47oiiXJmGYtt"
      },
      "outputs": [],
      "source": [
        "encoding = {'A': 9, 'B': 8, 'C': 7, 'C1': 6, 'D': 5, 'D1':4, 'E':3, 'F':2, 'G':1}\n"
      ]
    },
    {
      "cell_type": "code",
      "execution_count": null,
      "metadata": {
        "id": "apqJPUxnGYtt"
      },
      "outputs": [],
      "source": [
        "metadata[\"rating\"] = metadata[\"rating\"].replace(encoding)"
      ]
    },
    {
      "cell_type": "markdown",
      "metadata": {
        "id": "f3g-BuZ2GYtt"
      },
      "source": [
        "And finally let's set missing values (nan) as a separate category: 0.\n",
        "\n",
        "We will work more with missing values in [the next notebook](./02_missing_data.ipynb) :"
      ]
    },
    {
      "cell_type": "code",
      "execution_count": null,
      "metadata": {
        "id": "DXs7q2fmGYtt",
        "outputId": "f542c326-6784-4053-ac09-2f88b16ebeee"
      },
      "outputs": [
        {
          "name": "stderr",
          "output_type": "stream",
          "text": [
            "/tmp/ipykernel_32270/4190443919.py:1: SettingWithCopyWarning: \n",
            "A value is trying to be set on a copy of a slice from a DataFrame\n",
            "\n",
            "See the caveats in the documentation: https://pandas.pydata.org/pandas-docs/stable/user_guide/indexing.html#returning-a-view-versus-a-copy\n",
            "  metadata[\"rating\"].loc[metadata[\"rating\"].isna()] = 0\n"
          ]
        }
      ],
      "source": [
        "metadata[\"rating\"].loc[metadata[\"rating\"].isna()] = 0"
      ]
    },
    {
      "cell_type": "markdown",
      "metadata": {
        "id": "opSL99YDGYtt"
      },
      "source": [
        "Let's look at our encoded values:"
      ]
    },
    {
      "cell_type": "code",
      "execution_count": null,
      "metadata": {
        "id": "8PCm00-TGYtu",
        "outputId": "2eec55df-696e-484c-c5f6-708d8c9ec4e5"
      },
      "outputs": [
        {
          "data": {
            "text/plain": [
              "array([1., 0., 2., 3., 8., 5., 7., 9., 6., 4.])"
            ]
          },
          "execution_count": 107,
          "metadata": {},
          "output_type": "execute_result"
        }
      ],
      "source": [
        "metadata[\"rating\"].unique()"
      ]
    },
    {
      "cell_type": "markdown",
      "metadata": {
        "id": "Gx3N6WhgGYtu"
      },
      "source": [
        "### Duplicate features"
      ]
    },
    {
      "cell_type": "markdown",
      "metadata": {
        "id": "c9toguAaGYtu"
      },
      "source": [
        "![duplicate features illustration](https://cdn.artphotolimited.com/images/64a3eedabd40b89aa05483f5/300x300/agent-smith-clones.jpg)"
      ]
    },
    {
      "cell_type": "markdown",
      "metadata": {
        "id": "wrxz2IhBGYtu"
      },
      "source": [
        "Looking at correlation between all the columns:"
      ]
    },
    {
      "cell_type": "code",
      "execution_count": null,
      "metadata": {
        "id": "RoGw3JpyGYtu",
        "outputId": "eb30bfb1-71d1-4cf7-e39d-2b154a23892c"
      },
      "outputs": [
        {
          "data": {
            "text/html": [
              "<div>\n",
              "<style scoped>\n",
              "    .dataframe tbody tr th:only-of-type {\n",
              "        vertical-align: middle;\n",
              "    }\n",
              "\n",
              "    .dataframe tbody tr th {\n",
              "        vertical-align: top;\n",
              "    }\n",
              "\n",
              "    .dataframe thead th {\n",
              "        text-align: right;\n",
              "    }\n",
              "</style>\n",
              "<table border=\"1\" class=\"dataframe\">\n",
              "  <thead>\n",
              "    <tr style=\"text-align: right;\">\n",
              "      <th></th>\n",
              "      <th>building_id</th>\n",
              "      <th>site_id</th>\n",
              "      <th>primaryspaceusage</th>\n",
              "      <th>sub_primaryspaceusage</th>\n",
              "      <th>sqm</th>\n",
              "      <th>sqft</th>\n",
              "      <th>lat</th>\n",
              "      <th>lng</th>\n",
              "      <th>timezone</th>\n",
              "      <th>electricity</th>\n",
              "      <th>hotwater</th>\n",
              "      <th>water</th>\n",
              "      <th>gas</th>\n",
              "      <th>industry</th>\n",
              "      <th>subindustry</th>\n",
              "      <th>heatingtype</th>\n",
              "      <th>yearbuilt</th>\n",
              "      <th>numberoffloors</th>\n",
              "      <th>occupants</th>\n",
              "      <th>rating</th>\n",
              "    </tr>\n",
              "  </thead>\n",
              "  <tbody>\n",
              "    <tr>\n",
              "      <th>building_id</th>\n",
              "      <td>1.000000</td>\n",
              "      <td>0.777420</td>\n",
              "      <td>0.487522</td>\n",
              "      <td>-0.206625</td>\n",
              "      <td>0.312475</td>\n",
              "      <td>0.312475</td>\n",
              "      <td>0.828417</td>\n",
              "      <td>0.779019</td>\n",
              "      <td>-0.595416</td>\n",
              "      <td>-0.003282</td>\n",
              "      <td>0.187493</td>\n",
              "      <td>0.374803</td>\n",
              "      <td>-0.553022</td>\n",
              "      <td>-0.222546</td>\n",
              "      <td>-0.780666</td>\n",
              "      <td>0.622615</td>\n",
              "      <td>-0.072478</td>\n",
              "      <td>0.588559</td>\n",
              "      <td>-0.063499</td>\n",
              "      <td>-0.516624</td>\n",
              "    </tr>\n",
              "    <tr>\n",
              "      <th>site_id</th>\n",
              "      <td>0.777420</td>\n",
              "      <td>1.000000</td>\n",
              "      <td>0.287936</td>\n",
              "      <td>-0.351996</td>\n",
              "      <td>0.323068</td>\n",
              "      <td>0.323067</td>\n",
              "      <td>0.702780</td>\n",
              "      <td>0.580064</td>\n",
              "      <td>-0.275087</td>\n",
              "      <td>-0.049880</td>\n",
              "      <td>0.353641</td>\n",
              "      <td>0.175414</td>\n",
              "      <td>-0.607395</td>\n",
              "      <td>-0.276156</td>\n",
              "      <td>-0.614748</td>\n",
              "      <td>0.397104</td>\n",
              "      <td>-0.094066</td>\n",
              "      <td>0.779264</td>\n",
              "      <td>-0.005716</td>\n",
              "      <td>-0.363608</td>\n",
              "    </tr>\n",
              "    <tr>\n",
              "      <th>primaryspaceusage</th>\n",
              "      <td>0.487522</td>\n",
              "      <td>0.287936</td>\n",
              "      <td>1.000000</td>\n",
              "      <td>0.172577</td>\n",
              "      <td>-0.008666</td>\n",
              "      <td>-0.008667</td>\n",
              "      <td>0.195927</td>\n",
              "      <td>0.199328</td>\n",
              "      <td>-0.065445</td>\n",
              "      <td>0.078734</td>\n",
              "      <td>0.028428</td>\n",
              "      <td>0.003575</td>\n",
              "      <td>-0.363764</td>\n",
              "      <td>0.323773</td>\n",
              "      <td>-0.441527</td>\n",
              "      <td>0.065072</td>\n",
              "      <td>-0.087075</td>\n",
              "      <td>0.273627</td>\n",
              "      <td>-0.232932</td>\n",
              "      <td>-0.299572</td>\n",
              "    </tr>\n",
              "    <tr>\n",
              "      <th>sub_primaryspaceusage</th>\n",
              "      <td>-0.206625</td>\n",
              "      <td>-0.351996</td>\n",
              "      <td>0.172577</td>\n",
              "      <td>1.000000</td>\n",
              "      <td>-0.162133</td>\n",
              "      <td>-0.162133</td>\n",
              "      <td>-0.419675</td>\n",
              "      <td>-0.333291</td>\n",
              "      <td>0.262133</td>\n",
              "      <td>0.037596</td>\n",
              "      <td>-0.175639</td>\n",
              "      <td>-0.151832</td>\n",
              "      <td>0.247868</td>\n",
              "      <td>-0.074188</td>\n",
              "      <td>0.314158</td>\n",
              "      <td>-0.301946</td>\n",
              "      <td>-0.167929</td>\n",
              "      <td>-0.269851</td>\n",
              "      <td>0.311069</td>\n",
              "      <td>0.235667</td>\n",
              "    </tr>\n",
              "    <tr>\n",
              "      <th>sqm</th>\n",
              "      <td>0.312475</td>\n",
              "      <td>0.323068</td>\n",
              "      <td>-0.008666</td>\n",
              "      <td>-0.162133</td>\n",
              "      <td>1.000000</td>\n",
              "      <td>1.000000</td>\n",
              "      <td>0.332188</td>\n",
              "      <td>0.338751</td>\n",
              "      <td>-0.201420</td>\n",
              "      <td>-0.055822</td>\n",
              "      <td>0.102642</td>\n",
              "      <td>0.109105</td>\n",
              "      <td>-0.103342</td>\n",
              "      <td>-0.058156</td>\n",
              "      <td>-0.227132</td>\n",
              "      <td>0.167083</td>\n",
              "      <td>0.047399</td>\n",
              "      <td>0.562444</td>\n",
              "      <td>0.723591</td>\n",
              "      <td>-0.045534</td>\n",
              "    </tr>\n",
              "    <tr>\n",
              "      <th>sqft</th>\n",
              "      <td>0.312475</td>\n",
              "      <td>0.323067</td>\n",
              "      <td>-0.008667</td>\n",
              "      <td>-0.162133</td>\n",
              "      <td>1.000000</td>\n",
              "      <td>1.000000</td>\n",
              "      <td>0.332187</td>\n",
              "      <td>0.338750</td>\n",
              "      <td>-0.201419</td>\n",
              "      <td>-0.055822</td>\n",
              "      <td>0.102642</td>\n",
              "      <td>0.109105</td>\n",
              "      <td>-0.103341</td>\n",
              "      <td>-0.058156</td>\n",
              "      <td>-0.227132</td>\n",
              "      <td>0.167082</td>\n",
              "      <td>0.047399</td>\n",
              "      <td>0.562443</td>\n",
              "      <td>0.723591</td>\n",
              "      <td>-0.045533</td>\n",
              "    </tr>\n",
              "    <tr>\n",
              "      <th>lat</th>\n",
              "      <td>0.828417</td>\n",
              "      <td>0.702780</td>\n",
              "      <td>0.195927</td>\n",
              "      <td>-0.419675</td>\n",
              "      <td>0.332188</td>\n",
              "      <td>0.332187</td>\n",
              "      <td>1.000000</td>\n",
              "      <td>0.949888</td>\n",
              "      <td>-0.800947</td>\n",
              "      <td>-0.047403</td>\n",
              "      <td>0.152255</td>\n",
              "      <td>0.510737</td>\n",
              "      <td>-0.496753</td>\n",
              "      <td>-0.254591</td>\n",
              "      <td>-0.685099</td>\n",
              "      <td>0.772017</td>\n",
              "      <td>0.044533</td>\n",
              "      <td>0.597576</td>\n",
              "      <td>-0.005716</td>\n",
              "      <td>-0.498367</td>\n",
              "    </tr>\n",
              "    <tr>\n",
              "      <th>lng</th>\n",
              "      <td>0.779019</td>\n",
              "      <td>0.580064</td>\n",
              "      <td>0.199328</td>\n",
              "      <td>-0.333291</td>\n",
              "      <td>0.338751</td>\n",
              "      <td>0.338750</td>\n",
              "      <td>0.949888</td>\n",
              "      <td>1.000000</td>\n",
              "      <td>-0.882117</td>\n",
              "      <td>-0.041664</td>\n",
              "      <td>0.011308</td>\n",
              "      <td>0.562497</td>\n",
              "      <td>-0.361840</td>\n",
              "      <td>-0.139550</td>\n",
              "      <td>-0.552647</td>\n",
              "      <td>0.784895</td>\n",
              "      <td>0.003074</td>\n",
              "      <td>0.492774</td>\n",
              "      <td>-0.005716</td>\n",
              "      <td>-0.489675</td>\n",
              "    </tr>\n",
              "    <tr>\n",
              "      <th>timezone</th>\n",
              "      <td>-0.595416</td>\n",
              "      <td>-0.275087</td>\n",
              "      <td>-0.065445</td>\n",
              "      <td>0.262133</td>\n",
              "      <td>-0.201420</td>\n",
              "      <td>-0.201419</td>\n",
              "      <td>-0.800947</td>\n",
              "      <td>-0.882117</td>\n",
              "      <td>1.000000</td>\n",
              "      <td>0.025880</td>\n",
              "      <td>0.103162</td>\n",
              "      <td>-0.637667</td>\n",
              "      <td>0.128971</td>\n",
              "      <td>0.276607</td>\n",
              "      <td>0.408475</td>\n",
              "      <td>-0.900492</td>\n",
              "      <td>NaN</td>\n",
              "      <td>0.064094</td>\n",
              "      <td>NaN</td>\n",
              "      <td>0.416989</td>\n",
              "    </tr>\n",
              "    <tr>\n",
              "      <th>electricity</th>\n",
              "      <td>-0.003282</td>\n",
              "      <td>-0.049880</td>\n",
              "      <td>0.078734</td>\n",
              "      <td>0.037596</td>\n",
              "      <td>-0.055822</td>\n",
              "      <td>-0.055822</td>\n",
              "      <td>-0.047403</td>\n",
              "      <td>-0.041664</td>\n",
              "      <td>0.025880</td>\n",
              "      <td>1.000000</td>\n",
              "      <td>-0.015945</td>\n",
              "      <td>-0.016503</td>\n",
              "      <td>0.057693</td>\n",
              "      <td>0.066746</td>\n",
              "      <td>-0.082868</td>\n",
              "      <td>-0.028542</td>\n",
              "      <td>0.042167</td>\n",
              "      <td>-0.062176</td>\n",
              "      <td>-0.088121</td>\n",
              "      <td>0.039365</td>\n",
              "    </tr>\n",
              "    <tr>\n",
              "      <th>hotwater</th>\n",
              "      <td>0.187493</td>\n",
              "      <td>0.353641</td>\n",
              "      <td>0.028428</td>\n",
              "      <td>-0.175639</td>\n",
              "      <td>0.102642</td>\n",
              "      <td>0.102642</td>\n",
              "      <td>0.152255</td>\n",
              "      <td>0.011308</td>\n",
              "      <td>0.103162</td>\n",
              "      <td>-0.015945</td>\n",
              "      <td>1.000000</td>\n",
              "      <td>-0.065783</td>\n",
              "      <td>-0.276374</td>\n",
              "      <td>-0.170420</td>\n",
              "      <td>-0.251665</td>\n",
              "      <td>0.083613</td>\n",
              "      <td>0.005377</td>\n",
              "      <td>0.319871</td>\n",
              "      <td>NaN</td>\n",
              "      <td>-0.029306</td>\n",
              "    </tr>\n",
              "    <tr>\n",
              "      <th>water</th>\n",
              "      <td>0.374803</td>\n",
              "      <td>0.175414</td>\n",
              "      <td>0.003575</td>\n",
              "      <td>-0.151832</td>\n",
              "      <td>0.109105</td>\n",
              "      <td>0.109105</td>\n",
              "      <td>0.510737</td>\n",
              "      <td>0.562497</td>\n",
              "      <td>-0.637667</td>\n",
              "      <td>-0.016503</td>\n",
              "      <td>-0.065783</td>\n",
              "      <td>1.000000</td>\n",
              "      <td>0.008743</td>\n",
              "      <td>-0.176383</td>\n",
              "      <td>-0.260471</td>\n",
              "      <td>0.574214</td>\n",
              "      <td>NaN</td>\n",
              "      <td>-0.066868</td>\n",
              "      <td>NaN</td>\n",
              "      <td>-0.283300</td>\n",
              "    </tr>\n",
              "    <tr>\n",
              "      <th>gas</th>\n",
              "      <td>-0.553022</td>\n",
              "      <td>-0.607395</td>\n",
              "      <td>-0.363764</td>\n",
              "      <td>0.247868</td>\n",
              "      <td>-0.103342</td>\n",
              "      <td>-0.103341</td>\n",
              "      <td>-0.496753</td>\n",
              "      <td>-0.361840</td>\n",
              "      <td>0.128971</td>\n",
              "      <td>0.057693</td>\n",
              "      <td>-0.276374</td>\n",
              "      <td>0.008743</td>\n",
              "      <td>1.000000</td>\n",
              "      <td>0.034772</td>\n",
              "      <td>0.563545</td>\n",
              "      <td>-0.197649</td>\n",
              "      <td>-0.067697</td>\n",
              "      <td>-0.525517</td>\n",
              "      <td>0.157556</td>\n",
              "      <td>0.398610</td>\n",
              "    </tr>\n",
              "    <tr>\n",
              "      <th>industry</th>\n",
              "      <td>-0.222546</td>\n",
              "      <td>-0.276156</td>\n",
              "      <td>0.323773</td>\n",
              "      <td>-0.074188</td>\n",
              "      <td>-0.058156</td>\n",
              "      <td>-0.058156</td>\n",
              "      <td>-0.254591</td>\n",
              "      <td>-0.139550</td>\n",
              "      <td>0.276607</td>\n",
              "      <td>0.066746</td>\n",
              "      <td>-0.170420</td>\n",
              "      <td>-0.176383</td>\n",
              "      <td>0.034772</td>\n",
              "      <td>1.000000</td>\n",
              "      <td>0.132317</td>\n",
              "      <td>-0.386073</td>\n",
              "      <td>0.072803</td>\n",
              "      <td>-0.012834</td>\n",
              "      <td>-0.263274</td>\n",
              "      <td>0.018228</td>\n",
              "    </tr>\n",
              "    <tr>\n",
              "      <th>subindustry</th>\n",
              "      <td>-0.780666</td>\n",
              "      <td>-0.614748</td>\n",
              "      <td>-0.441527</td>\n",
              "      <td>0.314158</td>\n",
              "      <td>-0.227132</td>\n",
              "      <td>-0.227132</td>\n",
              "      <td>-0.685099</td>\n",
              "      <td>-0.552647</td>\n",
              "      <td>0.408475</td>\n",
              "      <td>-0.082868</td>\n",
              "      <td>-0.251665</td>\n",
              "      <td>-0.260471</td>\n",
              "      <td>0.563545</td>\n",
              "      <td>0.132317</td>\n",
              "      <td>1.000000</td>\n",
              "      <td>-0.482997</td>\n",
              "      <td>0.015982</td>\n",
              "      <td>-0.465798</td>\n",
              "      <td>0.114232</td>\n",
              "      <td>0.477610</td>\n",
              "    </tr>\n",
              "    <tr>\n",
              "      <th>heatingtype</th>\n",
              "      <td>0.622615</td>\n",
              "      <td>0.397104</td>\n",
              "      <td>0.065072</td>\n",
              "      <td>-0.301946</td>\n",
              "      <td>0.167083</td>\n",
              "      <td>0.167082</td>\n",
              "      <td>0.772017</td>\n",
              "      <td>0.784895</td>\n",
              "      <td>-0.900492</td>\n",
              "      <td>-0.028542</td>\n",
              "      <td>0.083613</td>\n",
              "      <td>0.574214</td>\n",
              "      <td>-0.197649</td>\n",
              "      <td>-0.386073</td>\n",
              "      <td>-0.482997</td>\n",
              "      <td>1.000000</td>\n",
              "      <td>-0.116381</td>\n",
              "      <td>0.040162</td>\n",
              "      <td>-0.213286</td>\n",
              "      <td>-0.382468</td>\n",
              "    </tr>\n",
              "    <tr>\n",
              "      <th>yearbuilt</th>\n",
              "      <td>-0.072478</td>\n",
              "      <td>-0.094066</td>\n",
              "      <td>-0.087075</td>\n",
              "      <td>-0.167929</td>\n",
              "      <td>0.047399</td>\n",
              "      <td>0.047399</td>\n",
              "      <td>0.044533</td>\n",
              "      <td>0.003074</td>\n",
              "      <td>NaN</td>\n",
              "      <td>0.042167</td>\n",
              "      <td>0.005377</td>\n",
              "      <td>NaN</td>\n",
              "      <td>-0.067697</td>\n",
              "      <td>0.072803</td>\n",
              "      <td>0.015982</td>\n",
              "      <td>-0.116381</td>\n",
              "      <td>1.000000</td>\n",
              "      <td>-0.063485</td>\n",
              "      <td>0.052983</td>\n",
              "      <td>-0.027528</td>\n",
              "    </tr>\n",
              "    <tr>\n",
              "      <th>numberoffloors</th>\n",
              "      <td>0.588559</td>\n",
              "      <td>0.779264</td>\n",
              "      <td>0.273627</td>\n",
              "      <td>-0.269851</td>\n",
              "      <td>0.562444</td>\n",
              "      <td>0.562443</td>\n",
              "      <td>0.597576</td>\n",
              "      <td>0.492774</td>\n",
              "      <td>0.064094</td>\n",
              "      <td>-0.062176</td>\n",
              "      <td>0.319871</td>\n",
              "      <td>-0.066868</td>\n",
              "      <td>-0.525517</td>\n",
              "      <td>-0.012834</td>\n",
              "      <td>-0.465798</td>\n",
              "      <td>0.040162</td>\n",
              "      <td>-0.063485</td>\n",
              "      <td>1.000000</td>\n",
              "      <td>0.253014</td>\n",
              "      <td>-0.199635</td>\n",
              "    </tr>\n",
              "    <tr>\n",
              "      <th>occupants</th>\n",
              "      <td>-0.063499</td>\n",
              "      <td>-0.005716</td>\n",
              "      <td>-0.232932</td>\n",
              "      <td>0.311069</td>\n",
              "      <td>0.723591</td>\n",
              "      <td>0.723591</td>\n",
              "      <td>-0.005716</td>\n",
              "      <td>-0.005716</td>\n",
              "      <td>NaN</td>\n",
              "      <td>-0.088121</td>\n",
              "      <td>NaN</td>\n",
              "      <td>NaN</td>\n",
              "      <td>0.157556</td>\n",
              "      <td>-0.263274</td>\n",
              "      <td>0.114232</td>\n",
              "      <td>-0.213286</td>\n",
              "      <td>0.052983</td>\n",
              "      <td>0.253014</td>\n",
              "      <td>1.000000</td>\n",
              "      <td>0.160794</td>\n",
              "    </tr>\n",
              "    <tr>\n",
              "      <th>rating</th>\n",
              "      <td>-0.516624</td>\n",
              "      <td>-0.363608</td>\n",
              "      <td>-0.299572</td>\n",
              "      <td>0.235667</td>\n",
              "      <td>-0.045534</td>\n",
              "      <td>-0.045533</td>\n",
              "      <td>-0.498367</td>\n",
              "      <td>-0.489675</td>\n",
              "      <td>0.416989</td>\n",
              "      <td>0.039365</td>\n",
              "      <td>-0.029306</td>\n",
              "      <td>-0.283300</td>\n",
              "      <td>0.398610</td>\n",
              "      <td>0.018228</td>\n",
              "      <td>0.477610</td>\n",
              "      <td>-0.382468</td>\n",
              "      <td>-0.027528</td>\n",
              "      <td>-0.199635</td>\n",
              "      <td>0.160794</td>\n",
              "      <td>1.000000</td>\n",
              "    </tr>\n",
              "  </tbody>\n",
              "</table>\n",
              "</div>"
            ],
            "text/plain": [
              "                       building_id   site_id  primaryspaceusage  \\\n",
              "building_id               1.000000  0.777420           0.487522   \n",
              "site_id                   0.777420  1.000000           0.287936   \n",
              "primaryspaceusage         0.487522  0.287936           1.000000   \n",
              "sub_primaryspaceusage    -0.206625 -0.351996           0.172577   \n",
              "sqm                       0.312475  0.323068          -0.008666   \n",
              "sqft                      0.312475  0.323067          -0.008667   \n",
              "lat                       0.828417  0.702780           0.195927   \n",
              "lng                       0.779019  0.580064           0.199328   \n",
              "timezone                 -0.595416 -0.275087          -0.065445   \n",
              "electricity              -0.003282 -0.049880           0.078734   \n",
              "hotwater                  0.187493  0.353641           0.028428   \n",
              "water                     0.374803  0.175414           0.003575   \n",
              "gas                      -0.553022 -0.607395          -0.363764   \n",
              "industry                 -0.222546 -0.276156           0.323773   \n",
              "subindustry              -0.780666 -0.614748          -0.441527   \n",
              "heatingtype               0.622615  0.397104           0.065072   \n",
              "yearbuilt                -0.072478 -0.094066          -0.087075   \n",
              "numberoffloors            0.588559  0.779264           0.273627   \n",
              "occupants                -0.063499 -0.005716          -0.232932   \n",
              "rating                   -0.516624 -0.363608          -0.299572   \n",
              "\n",
              "                       sub_primaryspaceusage       sqm      sqft       lat  \\\n",
              "building_id                        -0.206625  0.312475  0.312475  0.828417   \n",
              "site_id                            -0.351996  0.323068  0.323067  0.702780   \n",
              "primaryspaceusage                   0.172577 -0.008666 -0.008667  0.195927   \n",
              "sub_primaryspaceusage               1.000000 -0.162133 -0.162133 -0.419675   \n",
              "sqm                                -0.162133  1.000000  1.000000  0.332188   \n",
              "sqft                               -0.162133  1.000000  1.000000  0.332187   \n",
              "lat                                -0.419675  0.332188  0.332187  1.000000   \n",
              "lng                                -0.333291  0.338751  0.338750  0.949888   \n",
              "timezone                            0.262133 -0.201420 -0.201419 -0.800947   \n",
              "electricity                         0.037596 -0.055822 -0.055822 -0.047403   \n",
              "hotwater                           -0.175639  0.102642  0.102642  0.152255   \n",
              "water                              -0.151832  0.109105  0.109105  0.510737   \n",
              "gas                                 0.247868 -0.103342 -0.103341 -0.496753   \n",
              "industry                           -0.074188 -0.058156 -0.058156 -0.254591   \n",
              "subindustry                         0.314158 -0.227132 -0.227132 -0.685099   \n",
              "heatingtype                        -0.301946  0.167083  0.167082  0.772017   \n",
              "yearbuilt                          -0.167929  0.047399  0.047399  0.044533   \n",
              "numberoffloors                     -0.269851  0.562444  0.562443  0.597576   \n",
              "occupants                           0.311069  0.723591  0.723591 -0.005716   \n",
              "rating                              0.235667 -0.045534 -0.045533 -0.498367   \n",
              "\n",
              "                            lng  timezone  electricity  hotwater     water  \\\n",
              "building_id            0.779019 -0.595416    -0.003282  0.187493  0.374803   \n",
              "site_id                0.580064 -0.275087    -0.049880  0.353641  0.175414   \n",
              "primaryspaceusage      0.199328 -0.065445     0.078734  0.028428  0.003575   \n",
              "sub_primaryspaceusage -0.333291  0.262133     0.037596 -0.175639 -0.151832   \n",
              "sqm                    0.338751 -0.201420    -0.055822  0.102642  0.109105   \n",
              "sqft                   0.338750 -0.201419    -0.055822  0.102642  0.109105   \n",
              "lat                    0.949888 -0.800947    -0.047403  0.152255  0.510737   \n",
              "lng                    1.000000 -0.882117    -0.041664  0.011308  0.562497   \n",
              "timezone              -0.882117  1.000000     0.025880  0.103162 -0.637667   \n",
              "electricity           -0.041664  0.025880     1.000000 -0.015945 -0.016503   \n",
              "hotwater               0.011308  0.103162    -0.015945  1.000000 -0.065783   \n",
              "water                  0.562497 -0.637667    -0.016503 -0.065783  1.000000   \n",
              "gas                   -0.361840  0.128971     0.057693 -0.276374  0.008743   \n",
              "industry              -0.139550  0.276607     0.066746 -0.170420 -0.176383   \n",
              "subindustry           -0.552647  0.408475    -0.082868 -0.251665 -0.260471   \n",
              "heatingtype            0.784895 -0.900492    -0.028542  0.083613  0.574214   \n",
              "yearbuilt              0.003074       NaN     0.042167  0.005377       NaN   \n",
              "numberoffloors         0.492774  0.064094    -0.062176  0.319871 -0.066868   \n",
              "occupants             -0.005716       NaN    -0.088121       NaN       NaN   \n",
              "rating                -0.489675  0.416989     0.039365 -0.029306 -0.283300   \n",
              "\n",
              "                            gas  industry  subindustry  heatingtype  \\\n",
              "building_id           -0.553022 -0.222546    -0.780666     0.622615   \n",
              "site_id               -0.607395 -0.276156    -0.614748     0.397104   \n",
              "primaryspaceusage     -0.363764  0.323773    -0.441527     0.065072   \n",
              "sub_primaryspaceusage  0.247868 -0.074188     0.314158    -0.301946   \n",
              "sqm                   -0.103342 -0.058156    -0.227132     0.167083   \n",
              "sqft                  -0.103341 -0.058156    -0.227132     0.167082   \n",
              "lat                   -0.496753 -0.254591    -0.685099     0.772017   \n",
              "lng                   -0.361840 -0.139550    -0.552647     0.784895   \n",
              "timezone               0.128971  0.276607     0.408475    -0.900492   \n",
              "electricity            0.057693  0.066746    -0.082868    -0.028542   \n",
              "hotwater              -0.276374 -0.170420    -0.251665     0.083613   \n",
              "water                  0.008743 -0.176383    -0.260471     0.574214   \n",
              "gas                    1.000000  0.034772     0.563545    -0.197649   \n",
              "industry               0.034772  1.000000     0.132317    -0.386073   \n",
              "subindustry            0.563545  0.132317     1.000000    -0.482997   \n",
              "heatingtype           -0.197649 -0.386073    -0.482997     1.000000   \n",
              "yearbuilt             -0.067697  0.072803     0.015982    -0.116381   \n",
              "numberoffloors        -0.525517 -0.012834    -0.465798     0.040162   \n",
              "occupants              0.157556 -0.263274     0.114232    -0.213286   \n",
              "rating                 0.398610  0.018228     0.477610    -0.382468   \n",
              "\n",
              "                       yearbuilt  numberoffloors  occupants    rating  \n",
              "building_id            -0.072478        0.588559  -0.063499 -0.516624  \n",
              "site_id                -0.094066        0.779264  -0.005716 -0.363608  \n",
              "primaryspaceusage      -0.087075        0.273627  -0.232932 -0.299572  \n",
              "sub_primaryspaceusage  -0.167929       -0.269851   0.311069  0.235667  \n",
              "sqm                     0.047399        0.562444   0.723591 -0.045534  \n",
              "sqft                    0.047399        0.562443   0.723591 -0.045533  \n",
              "lat                     0.044533        0.597576  -0.005716 -0.498367  \n",
              "lng                     0.003074        0.492774  -0.005716 -0.489675  \n",
              "timezone                     NaN        0.064094        NaN  0.416989  \n",
              "electricity             0.042167       -0.062176  -0.088121  0.039365  \n",
              "hotwater                0.005377        0.319871        NaN -0.029306  \n",
              "water                        NaN       -0.066868        NaN -0.283300  \n",
              "gas                    -0.067697       -0.525517   0.157556  0.398610  \n",
              "industry                0.072803       -0.012834  -0.263274  0.018228  \n",
              "subindustry             0.015982       -0.465798   0.114232  0.477610  \n",
              "heatingtype            -0.116381        0.040162  -0.213286 -0.382468  \n",
              "yearbuilt               1.000000       -0.063485   0.052983 -0.027528  \n",
              "numberoffloors         -0.063485        1.000000   0.253014 -0.199635  \n",
              "occupants               0.052983        0.253014   1.000000  0.160794  \n",
              "rating                 -0.027528       -0.199635   0.160794  1.000000  "
            ]
          },
          "execution_count": 108,
          "metadata": {},
          "output_type": "execute_result"
        }
      ],
      "source": [
        "metadata.corr()"
      ]
    },
    {
      "cell_type": "markdown",
      "metadata": {
        "id": "bdHipbZ0GYtu"
      },
      "source": [
        "Confusing, difficult to make sense of this table. Let's visualize it:"
      ]
    },
    {
      "cell_type": "code",
      "execution_count": null,
      "metadata": {
        "id": "hakDAOvhGYtu",
        "outputId": "31cae7ec-48de-4c5f-88ba-58b450bb86ed"
      },
      "outputs": [
        {
          "data": {
            "text/plain": [
              "<Axes: >"
            ]
          },
          "execution_count": 109,
          "metadata": {},
          "output_type": "execute_result"
        },
        {
          "data": {
            "image/png": "[encoded data removed]",
            "text/plain": [
              "<Figure size 1500x500 with 2 Axes>"
            ]
          },
          "metadata": {},
          "output_type": "display_data"
        }
      ],
      "source": [
        "# graphical settings, optional\n",
        "sns.set(font_scale=0.5, rc={'figure.figsize':(15,5)})\n",
        "# cmap = sns.diverging_palette(20, 250, as_cmap=True)\n",
        "\n",
        "# code to produce the diagram:\n",
        "sns.heatmap(metadata.corr(),\n",
        "            # cmap=cmap,\n",
        "            square=True,\n",
        "            linewidths=.5,\n",
        "            cbar_kws={\"shrink\": .5})"
      ]
    },
    {
      "cell_type": "markdown",
      "metadata": {
        "id": "oap75Eb0GYtu"
      },
      "source": [
        "We can see that (as expected) lat and lng have a high correlation with each other as well as with the timezone. Why is that? What should we do (or not do about it)?"
      ]
    },
    {
      "cell_type": "markdown",
      "metadata": {
        "id": "r_gw_jPPGYtu"
      },
      "source": [
        "Logically we can derive that these columns tell us the same information in different ways. Of course, different site_ids will have different lat and lon, but same site_id will have the same lat and lon. The best practice is usually removing columns that do not communicate any additional value to us. Which columns could we remove without losing too much information?"
      ]
    },
    {
      "cell_type": "markdown",
      "metadata": {
        "id": "2TsMY3Z3GYtu"
      },
      "source": [
        "Some useful functions for looking into data:"
      ]
    },
    {
      "cell_type": "code",
      "execution_count": null,
      "metadata": {
        "id": "QqTZFNPpGYtu",
        "outputId": "bd28ab50-eb53-419b-9eb3-4cb9f4cd8f56"
      },
      "outputs": [
        {
          "data": {
            "text/plain": [
              "heatingtype\n",
              "5     172\n",
              "12     36\n",
              "7      24\n",
              "2       5\n",
              "4       3\n",
              "11      2\n",
              "10      2\n",
              "3       2\n",
              "8       1\n",
              "9       1\n",
              "0       1\n",
              "1       1\n",
              "6       1\n",
              "Name: count, dtype: int64"
            ]
          },
          "execution_count": 110,
          "metadata": {},
          "output_type": "execute_result"
        }
      ],
      "source": [
        "metadata[\"heatingtype\"].value_counts()"
      ]
    },
    {
      "cell_type": "code",
      "execution_count": null,
      "metadata": {
        "id": "qSX86pSgGYtu",
        "outputId": "50b6379c-81a2-4799-af14-5b24e22d526e"
      },
      "outputs": [
        {
          "data": {
            "text/plain": [
              "array([12])"
            ]
          },
          "execution_count": 111,
          "metadata": {},
          "output_type": "execute_result"
        }
      ],
      "source": [
        "metadata.loc[metadata[\"timezone\"]!=1][\"heatingtype\"].unique()  # choosing only the part of the table where timezone is not 1"
      ]
    },
    {
      "cell_type": "code",
      "execution_count": null,
      "metadata": {
        "id": "DlPCk3bMGYtu",
        "outputId": "789134df-cdb3-4b93-b859-974f30180c69"
      },
      "outputs": [
        {
          "data": {
            "text/html": [
              "<div>\n",
              "<style scoped>\n",
              "    .dataframe tbody tr th:only-of-type {\n",
              "        vertical-align: middle;\n",
              "    }\n",
              "\n",
              "    .dataframe tbody tr th {\n",
              "        vertical-align: top;\n",
              "    }\n",
              "\n",
              "    .dataframe thead th {\n",
              "        text-align: right;\n",
              "    }\n",
              "</style>\n",
              "<table border=\"1\" class=\"dataframe\">\n",
              "  <thead>\n",
              "    <tr style=\"text-align: right;\">\n",
              "      <th></th>\n",
              "      <th>timezone</th>\n",
              "      <th>yearbuilt</th>\n",
              "    </tr>\n",
              "  </thead>\n",
              "  <tbody>\n",
              "    <tr>\n",
              "      <th>0</th>\n",
              "      <td>0</td>\n",
              "      <td>NaN</td>\n",
              "    </tr>\n",
              "    <tr>\n",
              "      <th>1</th>\n",
              "      <td>1</td>\n",
              "      <td>1960.592965</td>\n",
              "    </tr>\n",
              "  </tbody>\n",
              "</table>\n",
              "</div>"
            ],
            "text/plain": [
              "   timezone    yearbuilt\n",
              "0         0          NaN\n",
              "1         1  1960.592965"
            ]
          },
          "execution_count": 112,
          "metadata": {},
          "output_type": "execute_result"
        }
      ],
      "source": [
        "metadata[[\"timezone\", \"yearbuilt\"]].groupby(\"timezone\", as_index=False).mean()"
      ]
    },
    {
      "cell_type": "markdown",
      "metadata": {
        "id": "WeAUduZsGYtu"
      },
      "source": [
        "#### 🧩 Task III - Dropping correlating columns"
      ]
    },
    {
      "cell_type": "code",
      "execution_count": null,
      "metadata": {
        "id": "kQZ5YY6_GYtu"
      },
      "outputs": [],
      "source": [
        "columns_to_drop = # Your code here\n",
        "\n",
        "metadata = metadata.drop(columns=columns_to_drop)"
      ]
    },
    {
      "cell_type": "markdown",
      "metadata": {
        "id": "RAusOjY3GYtu"
      },
      "source": [
        "#### ⚙️ Solution"
      ]
    },
    {
      "cell_type": "code",
      "execution_count": null,
      "metadata": {
        "id": "UUtWhzxvGYtu"
      },
      "outputs": [],
      "source": [
        "columns_to_drop = [\"lat\", \"lng\", \"sqft\"]\n",
        "\n",
        "metadata = metadata.drop(columns=columns_to_drop)"
      ]
    },
    {
      "cell_type": "markdown",
      "metadata": {
        "id": "veyGekJpGYtv"
      },
      "source": [
        "### Correlation with the target"
      ]
    },
    {
      "cell_type": "markdown",
      "metadata": {
        "id": "seQvlUQIGYtv"
      },
      "source": [
        "Don't forget that all this time we have only looking at buildings' metadata! Our goal is **to predict** how these buildings would behave in terms of energy consumption. Let's look at the correlation in the train dataset:"
      ]
    },
    {
      "cell_type": "code",
      "execution_count": null,
      "metadata": {
        "id": "8NfRFY-PGYtv",
        "outputId": "076ec7dc-5a80-494d-8e41-45bf8d5a0d12"
      },
      "outputs": [
        {
          "data": {
            "text/plain": [
              "<Axes: >"
            ]
          },
          "execution_count": 114,
          "metadata": {},
          "output_type": "execute_result"
        },
        {
          "data": {
            "image/png": "[encoded data removed]",
            "text/plain": [
              "<Figure size 400x300 with 2 Axes>"
            ]
          },
          "metadata": {},
          "output_type": "display_data"
        }
      ],
      "source": [
        "# graphical settings, optional\n",
        "sns.set(font_scale=0.5, rc={'figure.figsize':(4,3)})\n",
        "\n",
        "# code to produce the diagram:\n",
        "sns.heatmap(train[[\"building_id\", \"meter\", \"meter_reading\"]].corr(),\n",
        "            square=True)"
      ]
    },
    {
      "cell_type": "markdown",
      "metadata": {
        "id": "9l4vVI5zGYtv"
      },
      "source": [
        "Ok, so our meter type doesn't correlate with our target value. Building Id on the other hand does have some correlation with the target"
      ]
    },
    {
      "cell_type": "code",
      "execution_count": null,
      "metadata": {
        "id": "4kq7icQpGYtv",
        "outputId": "93344fa5-5280-4dd0-96e4-31363066edc8"
      },
      "outputs": [
        {
          "data": {
            "text/plain": [
              "<Axes: >"
            ]
          },
          "execution_count": 115,
          "metadata": {},
          "output_type": "execute_result"
        },
        {
          "data": {
            "image/png": "[encoded data removed]",
            "text/plain": [
              "<Figure size 400x300 with 2 Axes>"
            ]
          },
          "metadata": {},
          "output_type": "display_data"
        }
      ],
      "source": [
        "sns.heatmap(train[[\"building_id\", \"meter\", \"meter_reading\"]].groupby([\"building_id\", \"meter\"], as_index=False).mean().corr(), square=True)"
      ]
    },
    {
      "cell_type": "code",
      "execution_count": null,
      "metadata": {
        "id": "kPniNJIRGYtv",
        "outputId": "70eb3de8-28ed-41e5-af4e-f92ea62e982c"
      },
      "outputs": [
        {
          "data": {
            "text/plain": [
              "<Axes: >"
            ]
          },
          "execution_count": 116,
          "metadata": {},
          "output_type": "execute_result"
        },
        {
          "data": {
            "image/png": "[encoded data removed]",
            "text/plain": [
              "<Figure size 400x300 with 2 Axes>"
            ]
          },
          "metadata": {},
          "output_type": "display_data"
        }
      ],
      "source": [
        "sns.heatmap(train[[\"building_id\", \"meter\", \"meter_reading\"]].groupby([\"building_id\", \"meter\"], as_index=False).sum().corr())"
      ]
    },
    {
      "cell_type": "markdown",
      "metadata": {
        "id": "yE1KzhO5GYtv"
      },
      "source": [
        "### Comparing two dataframes"
      ]
    },
    {
      "cell_type": "code",
      "execution_count": null,
      "metadata": {
        "id": "a8RJc0pdGYtv",
        "outputId": "201743e5-cc39-48b2-a6e2-9e2fac4b5059"
      },
      "outputs": [
        {
          "data": {
            "text/html": [
              "<div>\n",
              "<style scoped>\n",
              "    .dataframe tbody tr th:only-of-type {\n",
              "        vertical-align: middle;\n",
              "    }\n",
              "\n",
              "    .dataframe tbody tr th {\n",
              "        vertical-align: top;\n",
              "    }\n",
              "\n",
              "    .dataframe thead th {\n",
              "        text-align: right;\n",
              "    }\n",
              "</style>\n",
              "<table border=\"1\" class=\"dataframe\">\n",
              "  <thead>\n",
              "    <tr style=\"text-align: right;\">\n",
              "      <th></th>\n",
              "      <th>building_id</th>\n",
              "      <th>day</th>\n",
              "      <th>meter</th>\n",
              "      <th>meter_reading</th>\n",
              "      <th>site_id</th>\n",
              "      <th>primaryspaceusage</th>\n",
              "      <th>sub_primaryspaceusage</th>\n",
              "      <th>sqm</th>\n",
              "      <th>timezone</th>\n",
              "      <th>electricity</th>\n",
              "      <th>hotwater</th>\n",
              "      <th>water</th>\n",
              "      <th>gas</th>\n",
              "      <th>industry</th>\n",
              "      <th>subindustry</th>\n",
              "      <th>heatingtype</th>\n",
              "      <th>yearbuilt</th>\n",
              "      <th>numberoffloors</th>\n",
              "      <th>occupants</th>\n",
              "      <th>rating</th>\n",
              "    </tr>\n",
              "  </thead>\n",
              "  <tbody>\n",
              "    <tr>\n",
              "      <th>0</th>\n",
              "      <td>2</td>\n",
              "      <td>2016-02-02</td>\n",
              "      <td>595</td>\n",
              "      <td>102.6</td>\n",
              "      <td>0</td>\n",
              "      <td>1</td>\n",
              "      <td>4</td>\n",
              "      <td>811.0</td>\n",
              "      <td>1</td>\n",
              "      <td>0</td>\n",
              "      <td>0</td>\n",
              "      <td>0</td>\n",
              "      <td>1</td>\n",
              "      <td>1</td>\n",
              "      <td>9</td>\n",
              "      <td>5</td>\n",
              "      <td>1976.0</td>\n",
              "      <td>1.0</td>\n",
              "      <td>NaN</td>\n",
              "      <td>3.0</td>\n",
              "    </tr>\n",
              "    <tr>\n",
              "      <th>1</th>\n",
              "      <td>2</td>\n",
              "      <td>2016-02-02</td>\n",
              "      <td>207</td>\n",
              "      <td>0.3</td>\n",
              "      <td>0</td>\n",
              "      <td>1</td>\n",
              "      <td>4</td>\n",
              "      <td>811.0</td>\n",
              "      <td>1</td>\n",
              "      <td>0</td>\n",
              "      <td>0</td>\n",
              "      <td>0</td>\n",
              "      <td>1</td>\n",
              "      <td>1</td>\n",
              "      <td>9</td>\n",
              "      <td>5</td>\n",
              "      <td>1976.0</td>\n",
              "      <td>1.0</td>\n",
              "      <td>NaN</td>\n",
              "      <td>3.0</td>\n",
              "    </tr>\n",
              "    <tr>\n",
              "      <th>2</th>\n",
              "      <td>2</td>\n",
              "      <td>2016-02-03</td>\n",
              "      <td>595</td>\n",
              "      <td>88.8</td>\n",
              "      <td>0</td>\n",
              "      <td>1</td>\n",
              "      <td>4</td>\n",
              "      <td>811.0</td>\n",
              "      <td>1</td>\n",
              "      <td>0</td>\n",
              "      <td>0</td>\n",
              "      <td>0</td>\n",
              "      <td>1</td>\n",
              "      <td>1</td>\n",
              "      <td>9</td>\n",
              "      <td>5</td>\n",
              "      <td>1976.0</td>\n",
              "      <td>1.0</td>\n",
              "      <td>NaN</td>\n",
              "      <td>3.0</td>\n",
              "    </tr>\n",
              "    <tr>\n",
              "      <th>3</th>\n",
              "      <td>2</td>\n",
              "      <td>2016-02-03</td>\n",
              "      <td>207</td>\n",
              "      <td>0.1</td>\n",
              "      <td>0</td>\n",
              "      <td>1</td>\n",
              "      <td>4</td>\n",
              "      <td>811.0</td>\n",
              "      <td>1</td>\n",
              "      <td>0</td>\n",
              "      <td>0</td>\n",
              "      <td>0</td>\n",
              "      <td>1</td>\n",
              "      <td>1</td>\n",
              "      <td>9</td>\n",
              "      <td>5</td>\n",
              "      <td>1976.0</td>\n",
              "      <td>1.0</td>\n",
              "      <td>NaN</td>\n",
              "      <td>3.0</td>\n",
              "    </tr>\n",
              "    <tr>\n",
              "      <th>4</th>\n",
              "      <td>2</td>\n",
              "      <td>2016-02-04</td>\n",
              "      <td>595</td>\n",
              "      <td>76.3</td>\n",
              "      <td>0</td>\n",
              "      <td>1</td>\n",
              "      <td>4</td>\n",
              "      <td>811.0</td>\n",
              "      <td>1</td>\n",
              "      <td>0</td>\n",
              "      <td>0</td>\n",
              "      <td>0</td>\n",
              "      <td>1</td>\n",
              "      <td>1</td>\n",
              "      <td>9</td>\n",
              "      <td>5</td>\n",
              "      <td>1976.0</td>\n",
              "      <td>1.0</td>\n",
              "      <td>NaN</td>\n",
              "      <td>3.0</td>\n",
              "    </tr>\n",
              "  </tbody>\n",
              "</table>\n",
              "</div>"
            ],
            "text/plain": [
              "   building_id         day  meter  meter_reading  site_id  primaryspaceusage  \\\n",
              "0            2  2016-02-02    595          102.6        0                  1   \n",
              "1            2  2016-02-02    207            0.3        0                  1   \n",
              "2            2  2016-02-03    595           88.8        0                  1   \n",
              "3            2  2016-02-03    207            0.1        0                  1   \n",
              "4            2  2016-02-04    595           76.3        0                  1   \n",
              "\n",
              "   sub_primaryspaceusage    sqm  timezone  electricity  hotwater  water  gas  \\\n",
              "0                      4  811.0         1            0         0      0    1   \n",
              "1                      4  811.0         1            0         0      0    1   \n",
              "2                      4  811.0         1            0         0      0    1   \n",
              "3                      4  811.0         1            0         0      0    1   \n",
              "4                      4  811.0         1            0         0      0    1   \n",
              "\n",
              "   industry  subindustry  heatingtype  yearbuilt  numberoffloors  occupants  \\\n",
              "0         1            9            5     1976.0             1.0        NaN   \n",
              "1         1            9            5     1976.0             1.0        NaN   \n",
              "2         1            9            5     1976.0             1.0        NaN   \n",
              "3         1            9            5     1976.0             1.0        NaN   \n",
              "4         1            9            5     1976.0             1.0        NaN   \n",
              "\n",
              "   rating  \n",
              "0     3.0  \n",
              "1     3.0  \n",
              "2     3.0  \n",
              "3     3.0  \n",
              "4     3.0  "
            ]
          },
          "execution_count": 117,
          "metadata": {},
          "output_type": "execute_result"
        }
      ],
      "source": [
        "full_df = train.merge(metadata, on='building_id', how='left')\n",
        "full_df.head()"
      ]
    },
    {
      "cell_type": "markdown",
      "metadata": {
        "id": "ryPQNsqDGYtv"
      },
      "source": []
    },
    {
      "cell_type": "markdown",
      "metadata": {
        "id": "ZlEtFPv6GYtv"
      },
      "source": [
        "#### 🧩 Task IV - Correlation between the features and the target"
      ]
    },
    {
      "cell_type": "markdown",
      "metadata": {
        "id": "53w3XwH7GYtv"
      },
      "source": [
        "Can you see any patterns in this diagram? What information does it provide regarding the given buildings?"
      ]
    },
    {
      "cell_type": "code",
      "execution_count": null,
      "metadata": {
        "id": "UFs-0vixGYtv",
        "outputId": "4ff181fb-1acb-4755-fe37-46e858650313"
      },
      "outputs": [
        {
          "data": {
            "text/plain": [
              "<Axes: >"
            ]
          },
          "execution_count": 118,
          "metadata": {},
          "output_type": "execute_result"
        },
        {
          "data": {
            "image/png": "[encoded data removed]",
            "text/plain": [
              "<Figure size 700x700 with 2 Axes>"
            ]
          },
          "metadata": {},
          "output_type": "display_data"
        }
      ],
      "source": [
        "sns.set(font_scale=0.5, rc={'figure.figsize':(7,7)})\n",
        "sns.heatmap(full_df.drop(columns=[ \"day\"]).corr(), square=True)"
      ]
    },
    {
      "cell_type": "code",
      "execution_count": null,
      "metadata": {
        "id": "PgOHLFjoGYtv"
      },
      "outputs": [],
      "source": [
        "columns_to_drop = # Your code here\n",
        "\n",
        "metadata = metadata.drop(columns=columns_to_drop)"
      ]
    },
    {
      "cell_type": "markdown",
      "metadata": {
        "id": "n68UeucmGYtv"
      },
      "source": [
        "#### ⚙️ Solution\n"
      ]
    },
    {
      "cell_type": "markdown",
      "metadata": {
        "id": "Mipt53mJGYtv"
      },
      "source": [
        "Answer:\n",
        "* site_id correlates with the number of floors, which means that most of the buildings on one site are similar in their height\n",
        "* heatingtype correlates with site_id and timezone; we have already noticed that one timezone is characterized of one particular heating type; now we can see that it even correlates with gas and water;\n",
        "* features that have strongest correlation with the target value are occupants, heatingtype, sqm\n",
        "* ..."
      ]
    },
    {
      "cell_type": "markdown",
      "metadata": {
        "id": "1nM3FKDFGYtv"
      },
      "source": [
        "### 🎢 Saving our work"
      ]
    },
    {
      "cell_type": "code",
      "execution_count": null,
      "metadata": {
        "id": "wyGVJMTfGYtv"
      },
      "outputs": [],
      "source": [
        "full_df.to_csv(\"../kaggle_data/tutorial_results/01.csv\")\n",
        "metadata.to_csv(\"../kaggle_data/tutorial_results/01_metadata.csv\")"
      ]
    },
    {
      "cell_type": "markdown",
      "metadata": {
        "id": "Xk_pXcIqGYtv"
      },
      "source": [
        "## Resources"
      ]
    }
  ],
  "metadata": {
    "colab": {
      "provenance": [],
      "include_colab_link": true
    },
    "kernelspec": {
      "display_name": "capacity",
      "language": "python",
      "name": "python3"
    },
    "language_info": {
      "codemirror_mode": {
        "name": "ipython",
        "version": 3
      },
      "file_extension": ".py",
      "mimetype": "text/x-python",
      "name": "python",
      "nbconvert_exporter": "python",
      "pygments_lexer": "ipython3",
      "version": "3.10.6"
    }
  },
  "nbformat": 4,
  "nbformat_minor": 0
}