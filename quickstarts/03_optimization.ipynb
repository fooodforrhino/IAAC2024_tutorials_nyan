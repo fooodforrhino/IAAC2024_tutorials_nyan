{
 "cells": [
  {
   "cell_type": "markdown",
   "metadata": {},
   "source": [
    "<a href=\"https://colab.research.google.com/github/STASYA00/IAAC2024_tutorials/blob/main/quickstarts/03_optimization.ipynb\" target=\"_parent\"><img src=\"https://colab.research.google.com/assets/colab-badge.svg\" alt=\"Open In Colab\"/></a> - Stasja's notebook"
   ]
  },
  {
   "cell_type": "code",
   "execution_count": null,
   "metadata": {},
   "outputs": [],
   "source": [
    "!pip install ortools ipykernel plotly nbformat"
   ]
  },
  {
   "cell_type": "code",
   "execution_count": null,
   "metadata": {},
   "outputs": [],
   "source": [
    "# !pip install --upgrade nbformat"
   ]
  },
  {
   "cell_type": "markdown",
   "metadata": {},
   "source": [
    "* [Ortools package](https://developers.google.com/optimization)\n",
    "* [What is optimization](https://en.wikipedia.org/wiki/Mathematical_optimization)\n",
    "* [Video on what optimization is](https://youtu.be/AM6BY4btj-M?t=170&si=FUAW-bzml27y61zq) - only 2.50 - 6.00"
   ]
  },
  {
   "cell_type": "markdown",
   "metadata": {},
   "source": [
    "## 🕍Optimizing house placement"
   ]
  },
  {
   "cell_type": "code",
   "execution_count": 1,
   "metadata": {},
   "outputs": [],
   "source": [
    "from shapely.geometry import Polygon\n",
    "import matplotlib.pyplot as plt\n",
    "import seaborn as sns\n",
    "sns.set_style()"
   ]
  },
  {
   "cell_type": "code",
   "execution_count": 2,
   "metadata": {},
   "outputs": [
    {
     "data": {
      "image/svg+xml": [
       "<svg xmlns=\"http://www.w3.org/2000/svg\" xmlns:xlink=\"http://www.w3.org/1999/xlink\" width=\"162.0\" height=\"100.0\" viewBox=\"-6.0 -6.0 162.0 62.0\" preserveAspectRatio=\"xMinYMin meet\"><g transform=\"matrix(1,0,0,-1,0,50.0)\"><path fill-rule=\"evenodd\" fill=\"#66cc99\" stroke=\"#555555\" stroke-width=\"2.0\" opacity=\"0.6\" d=\"M 0.0,0.0 L 150.0,0.0 L 150.0,50.0 L 0.0,50.0 L 0.0,0.0 z\" /></g></svg>"
      ],
      "text/plain": [
       "<POLYGON ((0 0, 150 0, 150 50, 0 50, 0 0))>"
      ]
     },
     "execution_count": 2,
     "metadata": {},
     "output_type": "execute_result"
    }
   ],
   "source": [
    "width = 150\n",
    "depth = 50\n",
    "x1 = 0\n",
    "y1 = 0\n",
    "coords = [(x1, y1), (x1 + width, y1), (x1+width, y1+depth), (x1, y1+depth), (x1, y1)]\n",
    "house = Polygon(coords)\n",
    "house"
   ]
  },
  {
   "cell_type": "markdown",
   "metadata": {},
   "source": [
    "Site geometry"
   ]
  },
  {
   "cell_type": "code",
   "execution_count": 3,
   "metadata": {},
   "outputs": [
    {
     "data": {
      "image/svg+xml": [
       "<svg xmlns=\"http://www.w3.org/2000/svg\" xmlns:xlink=\"http://www.w3.org/1999/xlink\" width=\"270.0\" height=\"170.0\" viewBox=\"-10.0 -10.0 270.0 170.0\" preserveAspectRatio=\"xMinYMin meet\"><g transform=\"matrix(1,0,0,-1,0,150.0)\"><path fill-rule=\"evenodd\" fill=\"#66cc99\" stroke=\"#555555\" stroke-width=\"2.0\" opacity=\"0.6\" d=\"M 0.0,0.0 L 70.0,0.0 L 70.0,50.0 L 250.0,50.0 L 250.0,150.0 L 0.0,150.0 L 0.0,0.0 z\" /></g></svg>"
      ],
      "text/plain": [
       "<POLYGON ((0 0, 70 0, 70 50, 250 50, 250 150, 0 150, 0 0))>"
      ]
     },
     "execution_count": 3,
     "metadata": {},
     "output_type": "execute_result"
    }
   ],
   "source": [
    "coords = [(0, 0), (70, 0), (70, 50), (250, 50), (250, 150), (0, 150), (0,0)]\n",
    "site = Polygon(coords)\n",
    "site"
   ]
  },
  {
   "cell_type": "markdown",
   "metadata": {},
   "source": [
    "### Optimizing house position"
   ]
  },
  {
   "cell_type": "markdown",
   "metadata": {},
   "source": [
    "We will be using [CP-SAT](https://developers.google.com/optimization/cp/cp_solver) solver made available to general public by Google."
   ]
  },
  {
   "cell_type": "code",
   "execution_count": 4,
   "metadata": {},
   "outputs": [],
   "source": [
    "from ortools.sat.python import cp_model\n",
    "model = cp_model.CpModel()"
   ]
  },
  {
   "cell_type": "markdown",
   "metadata": {},
   "source": [
    "Let's place our house onto the site. The constraints would be that:\n",
    "* all house coordinates are within the site polygon"
   ]
  },
  {
   "cell_type": "code",
   "execution_count": 5,
   "metadata": {},
   "outputs": [
    {
     "data": {
      "text/plain": [
       "(0.0, 0.0, 250.0, 150.0)"
      ]
     },
     "execution_count": 5,
     "metadata": {},
     "output_type": "execute_result"
    }
   ],
   "source": [
    "site.bounds"
   ]
  },
  {
   "cell_type": "code",
   "execution_count": 6,
   "metadata": {},
   "outputs": [
    {
     "data": {
      "text/plain": [
       "x1(0..250)"
      ]
     },
     "execution_count": 6,
     "metadata": {},
     "output_type": "execute_result"
    }
   ],
   "source": [
    "# Int var says that we create an integer variable that can have any value in a certain range.\n",
    "# This range is given when we define the variable: here it is 0 and the maximum coordinate of our site (250):\n",
    "x1 = model.NewIntVar(0, int(max(site.bounds)), 'x1')  # last argument is the name of the variable in the model\n",
    "x1"
   ]
  },
  {
   "cell_type": "code",
   "execution_count": 7,
   "metadata": {},
   "outputs": [],
   "source": [
    "# The rest of the house coordinates\n",
    "x2 = model.NewIntVar(0, int(max(site.bounds)), 'x2') \n",
    "y1 = model.NewIntVar(0, int(max(site.bounds)), 'y1') \n",
    "y2 = model.NewIntVar(0, int(max(site.bounds)), 'y2') "
   ]
  },
  {
   "cell_type": "markdown",
   "metadata": {},
   "source": [
    "Now let's add the relationship between the coordinates and tell our model that x2 - x1 = width "
   ]
  },
  {
   "cell_type": "code",
   "execution_count": 8,
   "metadata": {},
   "outputs": [
    {
     "data": {
      "text/plain": [
       "<ortools.sat.python.cp_model.Constraint at 0x7fdae427b2e0>"
      ]
     },
     "execution_count": 8,
     "metadata": {},
     "output_type": "execute_result"
    }
   ],
   "source": [
    "model.Add(x2-x1==width)\n",
    "model.Add(y2-y1==depth)\n",
    "\n",
    "# Note that our house does not rotate at the moment. We are only placing it vertically."
   ]
  },
  {
   "cell_type": "code",
   "execution_count": 9,
   "metadata": {},
   "outputs": [
    {
     "data": {
      "text/plain": [
       "<ortools.sat.python.cp_model.Constraint at 0x7fdae427b7f0>"
      ]
     },
     "execution_count": 9,
     "metadata": {},
     "output_type": "execute_result"
    }
   ],
   "source": [
    "model.Add(x1 < int(site.bounds[2]))\n",
    "model.Add(y1 < int(site.bounds[3]))\n",
    "model.Add(x2 < int(site.bounds[2]))\n",
    "model.Add(y2 < int(site.bounds[3]))"
   ]
  },
  {
   "cell_type": "code",
   "execution_count": 10,
   "metadata": {},
   "outputs": [],
   "source": [
    "model.Minimize(y2)"
   ]
  },
  {
   "cell_type": "code",
   "execution_count": 11,
   "metadata": {},
   "outputs": [
    {
     "data": {
      "text/plain": [
       "4"
      ]
     },
     "execution_count": 11,
     "metadata": {},
     "output_type": "execute_result"
    }
   ],
   "source": [
    "solver = cp_model.CpSolver()\n",
    "status = solver.Solve(model)\n",
    "status"
   ]
  },
  {
   "cell_type": "code",
   "execution_count": 12,
   "metadata": {},
   "outputs": [
    {
     "name": "stdout",
     "output_type": "stream",
     "text": [
      "x1: 0\n",
      "x2: 150\n",
      "y1: 0\n",
      "y2: 50\n"
     ]
    }
   ],
   "source": [
    "print(\"x1:\", solver.Value(x1))\n",
    "print(\"x2:\", solver.Value(x2))\n",
    "print(\"y1:\", solver.Value(y1))\n",
    "print(\"y2:\", solver.Value(y2))"
   ]
  },
  {
   "cell_type": "code",
   "execution_count": 13,
   "metadata": {},
   "outputs": [],
   "source": [
    "house_location = Polygon([\n",
    "    (solver.Value(x1), solver.Value(y1)),\n",
    "    (solver.Value(x2), solver.Value(y1)),\n",
    "    (solver.Value(x2), solver.Value(y2)),\n",
    "    (solver.Value(x1), solver.Value(y2)),\n",
    "    (solver.Value(x1), solver.Value(y1))])"
   ]
  },
  {
   "cell_type": "code",
   "execution_count": 14,
   "metadata": {},
   "outputs": [
    {
     "data": {
      "text/plain": [
       "[<matplotlib.lines.Line2D at 0x7fdae4307340>]"
      ]
     },
     "execution_count": 14,
     "metadata": {},
     "output_type": "execute_result"
    },
    {
     "data": {
      "image/png": "[encoded data removed]",
      "text/plain": [
       "<Figure size 640x480 with 1 Axes>"
      ]
     },
     "metadata": {},
     "output_type": "display_data"
    }
   ],
   "source": [
    "plt.plot(*site.exterior.xy)\n",
    "plt.plot(*house_location.exterior.xy)"
   ]
  },
  {
   "cell_type": "code",
   "execution_count": 15,
   "metadata": {},
   "outputs": [],
   "source": [
    "def plot_result(slvr):\n",
    "    print(\"x1:\", slvr.Value(x1))\n",
    "    print(\"x2:\", slvr.Value(x2))\n",
    "    print(\"y1:\", slvr.Value(y1))\n",
    "    print(\"y2:\", slvr.Value(y2))\n",
    "\n",
    "    house_location = Polygon([\n",
    "    (solver.Value(x1), solver.Value(y1)),\n",
    "    (solver.Value(x2), solver.Value(y1)),\n",
    "    (solver.Value(x2), solver.Value(y2)),\n",
    "    (solver.Value(x1), solver.Value(y2)),\n",
    "    (solver.Value(x1), solver.Value(y1))])\n",
    "\n",
    "    plt.plot(*site.exterior.xy)\n",
    "    plt.plot(*house_location.exterior.xy)\n",
    "    "
   ]
  },
  {
   "cell_type": "markdown",
   "metadata": {},
   "source": [
    "Let's adjust our constraints:"
   ]
  },
  {
   "cell_type": "code",
   "execution_count": 16,
   "metadata": {},
   "outputs": [
    {
     "data": {
      "text/plain": [
       "<ortools.sat.python.cp_model.Constraint at 0x7fdae427b3d0>"
      ]
     },
     "execution_count": 16,
     "metadata": {},
     "output_type": "execute_result"
    }
   ],
   "source": [
    "model = cp_model.CpModel()\n",
    "x1 = model.NewIntVar(0, int(max(site.bounds)), 'x1') \n",
    "x2 = model.NewIntVar(0, int(max(site.bounds)), 'x2') \n",
    "y1 = model.NewIntVar(0, int(max(site.bounds)), 'y1') \n",
    "y2 = model.NewIntVar(0, int(max(site.bounds)), 'y2') \n",
    "\n",
    "model.Add(x2-x1==width)\n",
    "model.Add(y2-y1==depth)\n",
    "\n",
    "model.Add(x1 < int(site.bounds[2]))\n",
    "model.Add(y1 < int(site.bounds[3]))\n",
    "model.Add(x2 < int(site.bounds[2]))\n",
    "model.Add(y2 < int(site.bounds[3]))"
   ]
  },
  {
   "cell_type": "code",
   "execution_count": 17,
   "metadata": {},
   "outputs": [],
   "source": [
    "x1_outside = model.NewBoolVar(\"x1_outside\")  # true if x1 > 70 -> in the question zone\n",
    "x2_outside = model.NewBoolVar(\"x2_outside\")  # true if x2 > 70 -> in the question zone"
   ]
  },
  {
   "cell_type": "code",
   "execution_count": 18,
   "metadata": {},
   "outputs": [
    {
     "data": {
      "text/plain": [
       "<ortools.sat.python.cp_model.Constraint at 0x7fdb702f86a0>"
      ]
     },
     "execution_count": 18,
     "metadata": {},
     "output_type": "execute_result"
    }
   ],
   "source": [
    "model.Add(x1>=70).OnlyEnforceIf(x1_outside)\n",
    "model.Add(x1<70).OnlyEnforceIf(x1_outside.Not())\n",
    "model.Add(x2>=70).OnlyEnforceIf(x2_outside)\n",
    "model.Add(x2<70).OnlyEnforceIf(x2_outside.Not())"
   ]
  },
  {
   "cell_type": "code",
   "execution_count": 19,
   "metadata": {},
   "outputs": [
    {
     "data": {
      "text/plain": [
       "<ortools.sat.python.cp_model.Constraint at 0x7fdae43c8070>"
      ]
     },
     "execution_count": 19,
     "metadata": {},
     "output_type": "execute_result"
    }
   ],
   "source": [
    "model.Add(y1>=50).OnlyEnforceIf(x1_outside)  # if x coordinate is in the \"outside zone\" y coordinate can only be from 50 to 150\n",
    "model.Add(y1>=50).OnlyEnforceIf(x2_outside) \n",
    "model.Add(y2>=50).OnlyEnforceIf(x1_outside) \n",
    "model.Add(y2>=50).OnlyEnforceIf(x2_outside) "
   ]
  },
  {
   "cell_type": "code",
   "execution_count": 20,
   "metadata": {},
   "outputs": [
    {
     "data": {
      "text/plain": [
       "4"
      ]
     },
     "execution_count": 20,
     "metadata": {},
     "output_type": "execute_result"
    }
   ],
   "source": [
    "model.Minimize(y2)\n",
    "solver = cp_model.CpSolver()\n",
    "status = solver.Solve(model)\n",
    "status"
   ]
  },
  {
   "cell_type": "code",
   "execution_count": 21,
   "metadata": {},
   "outputs": [
    {
     "data": {
      "text/plain": [
       "'OPTIMAL'"
      ]
     },
     "execution_count": 21,
     "metadata": {},
     "output_type": "execute_result"
    }
   ],
   "source": [
    "solver.status_name()"
   ]
  },
  {
   "cell_type": "code",
   "execution_count": 22,
   "metadata": {},
   "outputs": [
    {
     "name": "stdout",
     "output_type": "stream",
     "text": [
      "x1: 69\n",
      "x2: 219\n",
      "y1: 50\n",
      "y2: 100\n"
     ]
    },
    {
     "data": {
      "image/png": "[encoded data removed]",
      "text/plain": [
       "<Figure size 640x480 with 1 Axes>"
      ]
     },
     "metadata": {},
     "output_type": "display_data"
    }
   ],
   "source": [
    "plot_result(solver)"
   ]
  },
  {
   "cell_type": "markdown",
   "metadata": {},
   "source": [
    "### 🧩 Task I - multiple houses"
   ]
  },
  {
   "cell_type": "markdown",
   "metadata": {},
   "source": [
    "We learnt how to place a single house on a given site. Let's say we have multiple houses and our goal is to fit as many as possible on a site.\n",
    "\n",
    "Assume that there are no regulations on distance between the houses.\n",
    "\n",
    "__Hint:__\n",
    "* take a look at [2d bin packing](https://yetanothermathprogrammingconsultant.blogspot.com/2021/02/2d-bin-packing-with-google-or-tools-cp.html), feel free to adjust the code\n",
    "* use [interval var](https://developers.google.com/optimization/reference/python/sat/python/cp_model#newintervalvar)\n",
    "* use [AddNoOverlap2D](https://developers.google.com/optimization/reference/python/sat/python/cp_model#addnooverlap2d)"
   ]
  },
  {
   "cell_type": "code",
   "execution_count": 74,
   "metadata": {},
   "outputs": [],
   "source": [
    "# site_coords = [(0, 0), (70, 0), (70, 50), (250, 50), (250, 150), (0, 150), (0,0)]\n",
    "site_coords = [(0,0), (200, 0), (200, 400), (0, 400), (0,0)]  # simplified version"
   ]
  },
  {
   "cell_type": "code",
   "execution_count": 75,
   "metadata": {},
   "outputs": [],
   "source": [
    "# houses are presented as width and height\n",
    "houses = [\n",
    "    [20, 40],\n",
    "    [25, 40],\n",
    "    [70, 100],\n",
    "    [75, 30],\n",
    "    [30, 30],\n",
    "    [30, 30],\n",
    "    [12, 25],\n",
    "    [12, 20],\n",
    "    [40, 20],\n",
    "    [40, 30],\n",
    "    [70, 30],\n",
    "    [12, 25],\n",
    "    [12, 20],\n",
    "    [40, 20],\n",
    "    [40, 30],\n",
    "    [70, 30],\n",
    "]"
   ]
  },
  {
   "cell_type": "markdown",
   "metadata": {},
   "source": [
    "To get you started, we initiate the model and add a variable for each house that shows whether it is placed or not:"
   ]
  },
  {
   "cell_type": "code",
   "execution_count": 77,
   "metadata": {},
   "outputs": [
    {
     "data": {
      "text/plain": [
       "placed_0(0..1)"
      ]
     },
     "execution_count": 77,
     "metadata": {},
     "output_type": "execute_result"
    }
   ],
   "source": [
    "model = cp_model.CpModel()\n",
    "placed_vars = []\n",
    "\n",
    "for house in range(len(houses)):\n",
    "    placed_vars.append(model.NewBoolVar(\"placed_{}\".format(house)))\n",
    "\n",
    "# take a look at it:\n",
    "placed_vars[0]"
   ]
  },
  {
   "cell_type": "markdown",
   "metadata": {},
   "source": [
    "Building variables for one house (let's take number 1):"
   ]
  },
  {
   "cell_type": "markdown",
   "metadata": {},
   "source": [
    "![Variables explanation](../.assets/optimization/1.jpg)"
   ]
  },
  {
   "cell_type": "code",
   "execution_count": null,
   "metadata": {},
   "outputs": [],
   "source": [
    "MAX_SITE_WIDTH = max([s[0] for s in site_coords])\n",
    "MAX_SITE_HEIGHT = max([s[1] for s in site_coords])\n",
    "\n",
    "house_number = 1\n",
    "\n",
    "x1 = model.NewIntVar(0,  MAX_SITE_WIDTH, 'x1_{}'.format(house_number)) \n",
    "x2 = model.NewIntVar(0,  MAX_SITE_WIDTH, 'x2_{}'.format(house_number)) \n",
    "y1 = model.NewIntVar(0,  MAX_SITE_HEIGHT, 'y1_{}'.format(house_number)) \n",
    "y2 = model.NewIntVar(0,  MAX_SITE_HEIGHT, 'y2_{}'.format(house_number)) \n"
   ]
  },
  {
   "cell_type": "code",
   "execution_count": null,
   "metadata": {},
   "outputs": [],
   "source": [
    "# interval variables\n",
    "# Arguments: start, size, end, whether it is placed, variable name\n",
    "# https://developers.google.com/optimization/reference/python/sat/python/cp_model#newoptionalintervalvar\n",
    "\n",
    "width_interval = model.NewOptionalIntervalVar(x1, houses[house_number][0], x2, \n",
    "                                              placed_vars[house_number], \n",
    "                                              'width_interval_{}'.format(house_number))\n",
    "\n",
    "depth_interval = model.NewOptionalIntervalVar(y1, houses[house_number][1], y2, \n",
    "                                              placed_vars[house_number], \n",
    "                                              'depth_interval_{}'.format(house_number))\n"
   ]
  },
  {
   "cell_type": "markdown",
   "metadata": {},
   "source": [
    "Complete the model with all the houses."
   ]
  },
  {
   "cell_type": "code",
   "execution_count": 84,
   "metadata": {},
   "outputs": [],
   "source": [
    "# your code here\n",
    "house_width_intervals = []\n",
    "house_depth_intervals = []"
   ]
  },
  {
   "cell_type": "markdown",
   "metadata": {},
   "source": [
    "![Overlap](../.assets/optimization/2.jpg)"
   ]
  },
  {
   "cell_type": "code",
   "execution_count": 86,
   "metadata": {},
   "outputs": [
    {
     "data": {
      "text/plain": [
       "<ortools.sat.python.cp_model.Constraint at 0x7fdadf0883d0>"
      ]
     },
     "execution_count": 86,
     "metadata": {},
     "output_type": "execute_result"
    }
   ],
   "source": [
    "model.AddNoOverlap2D(house_width_intervals, house_depth_intervals)"
   ]
  },
  {
   "cell_type": "markdown",
   "metadata": {},
   "source": [
    "Add the objective function that maximizes the amount of placed houses."
   ]
  },
  {
   "cell_type": "code",
   "execution_count": null,
   "metadata": {},
   "outputs": [],
   "source": [
    "# your code here"
   ]
  },
  {
   "cell_type": "markdown",
   "metadata": {},
   "source": [
    "Run the solver and visualize the solution"
   ]
  },
  {
   "cell_type": "code",
   "execution_count": 87,
   "metadata": {},
   "outputs": [],
   "source": [
    "# your code here"
   ]
  },
  {
   "cell_type": "markdown",
   "metadata": {},
   "source": [
    "### 🧩 Task II - adding the roads"
   ]
  },
  {
   "cell_type": "markdown",
   "metadata": {},
   "source": [
    "Our houses are placed in a dense grid. Add roads, bike lanes and walkways as constraints to our model"
   ]
  },
  {
   "cell_type": "code",
   "execution_count": 89,
   "metadata": {},
   "outputs": [],
   "source": [
    "# your code here"
   ]
  },
  {
   "cell_type": "code",
   "execution_count": null,
   "metadata": {},
   "outputs": [],
   "source": []
  }
 ],
 "metadata": {
  "kernelspec": {
   "display_name": "iaac2024",
   "language": "python",
   "name": "python3"
  },
  "language_info": {
   "codemirror_mode": {
    "name": "ipython",
    "version": 3
   },
   "file_extension": ".py",
   "mimetype": "text/x-python",
   "name": "python",
   "nbconvert_exporter": "python",
   "pygments_lexer": "ipython3",
   "version": "3.10.6"
  }
 },
 "nbformat": 4,
 "nbformat_minor": 2
}
